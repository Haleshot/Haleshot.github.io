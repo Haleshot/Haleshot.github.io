{
 "cells": [
  {
   "cell_type": "code",
   "execution_count": 1,
   "metadata": {
    "id": "43nTrkmwDXI_"
   },
   "outputs": [],
   "source": [
    "# import libraries\n",
    "import tensorflow as tf\n",
    "import numpy as np\n",
    "import matplotlib.pyplot as plt\n",
    "from keras import Sequential\n",
    "\n",
    "from keras.layers import Conv2D, Flatten, Input, MaxPooling2D, Flatten, AveragePooling2D, Dense\n",
    "from keras.models import Model\n",
    "from sklearn.preprocessing import OneHotEncoder"
   ]
  },
  {
   "cell_type": "markdown",
   "metadata": {
    "id": "WM55iJUHDzWx"
   },
   "source": [
    "# Task 1: Load the MNIST dataset into your notebook\n"
   ]
  },
  {
   "cell_type": "code",
   "execution_count": 2,
   "metadata": {
    "colab": {
     "base_uri": "https://localhost:8080/"
    },
    "id": "EAJBqnFGDgJO",
    "outputId": "f9f5695a-10cb-42c1-dfe2-d1cdb3a98fe0"
   },
   "outputs": [
    {
     "name": "stdout",
     "output_type": "stream",
     "text": [
      "Downloading data from https://storage.googleapis.com/tensorflow/tf-keras-datasets/mnist.npz\n",
      "11490434/11490434 [==============================] - 0s 0us/step\n"
     ]
    }
   ],
   "source": [
    "# loading a dataset\n",
    "mnist = tf.keras.datasets.mnist\n",
    "(X_train,y_train),(X_test,y_test) = mnist.load_data()"
   ]
  },
  {
   "cell_type": "code",
   "execution_count": 3,
   "metadata": {
    "colab": {
     "base_uri": "https://localhost:8080/"
    },
    "id": "SGX_3vmID-mp",
    "outputId": "62925ba8-3ff1-46bd-f36e-02e2f0f182d8"
   },
   "outputs": [
    {
     "data": {
      "text/plain": [
       "(60000, 28, 28)"
      ]
     },
     "execution_count": 3,
     "metadata": {},
     "output_type": "execute_result"
    }
   ],
   "source": [
    "X_train.shape"
   ]
  },
  {
   "cell_type": "code",
   "execution_count": 4,
   "metadata": {
    "colab": {
     "base_uri": "https://localhost:8080/"
    },
    "id": "1TXcSeNeEB5R",
    "outputId": "d750526f-cbb6-49e2-bc67-ba5ab1698264"
   },
   "outputs": [
    {
     "data": {
      "text/plain": [
       "(60000,)"
      ]
     },
     "execution_count": 4,
     "metadata": {},
     "output_type": "execute_result"
    }
   ],
   "source": [
    "y_train.shape"
   ]
  },
  {
   "cell_type": "code",
   "execution_count": 5,
   "metadata": {
    "colab": {
     "base_uri": "https://localhost:8080/"
    },
    "id": "4i44mzbTECVA",
    "outputId": "a84312bc-ea0a-4c9a-af9a-eb3b174bcc3d"
   },
   "outputs": [
    {
     "data": {
      "text/plain": [
       "(10000, 28, 28)"
      ]
     },
     "execution_count": 5,
     "metadata": {},
     "output_type": "execute_result"
    }
   ],
   "source": [
    "X_test.shape"
   ]
  },
  {
   "cell_type": "code",
   "execution_count": 6,
   "metadata": {
    "colab": {
     "base_uri": "https://localhost:8080/"
    },
    "id": "TMyx9h0-ECm4",
    "outputId": "8d4520d4-77c7-48db-9c07-005c84240e60"
   },
   "outputs": [
    {
     "data": {
      "text/plain": [
       "(10000,)"
      ]
     },
     "execution_count": 6,
     "metadata": {},
     "output_type": "execute_result"
    }
   ],
   "source": [
    "y_test.shape"
   ]
  },
  {
   "cell_type": "markdown",
   "metadata": {
    "id": "cA3D7YTkD4zw"
   },
   "source": [
    "# Task 2: Pre-processing and prepare the data for giving to the CNN.\n",
    "### a. Encoding the classes using one hot encoder.\n",
    "### b. Normalize the features."
   ]
  },
  {
   "cell_type": "code",
   "execution_count": 7,
   "metadata": {
    "id": "JBbjx-ChD1Np"
   },
   "outputs": [],
   "source": [
    "# normalizing\n",
    "X_train = X_train / 255.0\n",
    "X_test = X_test / 255.0"
   ]
  },
  {
   "cell_type": "code",
   "execution_count": 8,
   "metadata": {
    "colab": {
     "base_uri": "https://localhost:8080/"
    },
    "id": "HAU9CCYFENwa",
    "outputId": "f8aae49e-b7ce-4c21-e064-22c8d6def2dc"
   },
   "outputs": [
    {
     "name": "stderr",
     "output_type": "stream",
     "text": [
      "/usr/local/lib/python3.10/dist-packages/sklearn/preprocessing/_encoders.py:868: FutureWarning: `sparse` was renamed to `sparse_output` in version 1.2 and will be removed in 1.4. `sparse_output` is ignored unless you leave `sparse` to its default value.\n",
      "  warnings.warn(\n",
      "/usr/local/lib/python3.10/dist-packages/sklearn/preprocessing/_encoders.py:868: FutureWarning: `sparse` was renamed to `sparse_output` in version 1.2 and will be removed in 1.4. `sparse_output` is ignored unless you leave `sparse` to its default value.\n",
      "  warnings.warn(\n"
     ]
    }
   ],
   "source": [
    "ohe = OneHotEncoder(sparse = False)\n",
    "y_train = ohe.fit_transform(y_train.reshape(-1,1))\n",
    "y_test  = ohe.fit_transform(y_test.reshape(-1,1))"
   ]
  },
  {
   "cell_type": "code",
   "execution_count": 10,
   "metadata": {
    "id": "e4kl81TTETMp"
   },
   "outputs": [],
   "source": [
    "# Reshaping the dataset\n",
    "# Building the input vector into 4D tensor (i.e 1) ([0] means keeping the first dimension as it is)\n",
    "X_train = X_train.reshape(X_train.shape[0], 28, 28, 1)\n",
    "X_test = X_test.reshape(X_test.shape[0], 28, 28, 1)"
   ]
  },
  {
   "cell_type": "code",
   "execution_count": 11,
   "metadata": {
    "colab": {
     "base_uri": "https://localhost:8080/"
    },
    "id": "gKBvN2c3EW6C",
    "outputId": "f20409d9-b39f-4419-bee6-9731d7852c00"
   },
   "outputs": [
    {
     "data": {
      "text/plain": [
       "(28, 28, 1)"
      ]
     },
     "execution_count": 11,
     "metadata": {},
     "output_type": "execute_result"
    }
   ],
   "source": [
    "X_train[0].shape"
   ]
  },
  {
   "cell_type": "markdown",
   "metadata": {
    "id": "KlARawdREeEd"
   },
   "source": [
    "# Task 3: Building the convolutional network model.\n",
    "### a. You may choose the layers.\n",
    "### b. Print the summary and note the number of neurons and parameters of the model.\n",
    "### c. Compile the model and train it using the training data."
   ]
  },
  {
   "cell_type": "code",
   "execution_count": 12,
   "metadata": {
    "id": "w7uTEzVBEbLi"
   },
   "outputs": [],
   "source": [
    "input = Input(shape = (28, 28, 1))\n",
    "x = Conv2D(filters = 64,    # total no of filters\n",
    "           kernel_size = 3, # size of the filters\n",
    "           activation = 'relu')(input)\n",
    "x = MaxPooling2D()(x)\n",
    "x = Conv2D(filters = 128,\n",
    "           kernel_size = 3,\n",
    "           activation = 'relu')(x)\n",
    "x = MaxPooling2D()(x)\n",
    "x = Conv2D(filters = 32,\n",
    "           kernel_size = 3,\n",
    "           activation = 'relu')(x)\n",
    "x = MaxPooling2D()(x) # 3D matrix data\n",
    "x = Flatten()(x)      # Connecting to a Dense NN\n",
    "output = Dense(10,activation = 'softmax')(x)"
   ]
  },
  {
   "cell_type": "code",
   "execution_count": 14,
   "metadata": {
    "id": "qIb1bLlzEuZN"
   },
   "outputs": [],
   "source": [
    "model = Model(inputs=input, outputs = output)"
   ]
  },
  {
   "cell_type": "code",
   "execution_count": 15,
   "metadata": {
    "colab": {
     "base_uri": "https://localhost:8080/"
    },
    "id": "-lAQIbJ8Ep3M",
    "outputId": "4b807e1e-f44d-41eb-fd56-78e0e71190dd"
   },
   "outputs": [
    {
     "name": "stdout",
     "output_type": "stream",
     "text": [
      "Model: \"model\"\n",
      "_________________________________________________________________\n",
      " Layer (type)                Output Shape              Param #   \n",
      "=================================================================\n",
      " input_1 (InputLayer)        [(None, 28, 28, 1)]       0         \n",
      "                                                                 \n",
      " conv2d (Conv2D)             (None, 26, 26, 64)        640       \n",
      "                                                                 \n",
      " max_pooling2d (MaxPooling2  (None, 13, 13, 64)        0         \n",
      " D)                                                              \n",
      "                                                                 \n",
      " conv2d_1 (Conv2D)           (None, 11, 11, 128)       73856     \n",
      "                                                                 \n",
      " max_pooling2d_1 (MaxPoolin  (None, 5, 5, 128)         0         \n",
      " g2D)                                                            \n",
      "                                                                 \n",
      " conv2d_2 (Conv2D)           (None, 3, 3, 32)          36896     \n",
      "                                                                 \n",
      " max_pooling2d_2 (MaxPoolin  (None, 1, 1, 32)          0         \n",
      " g2D)                                                            \n",
      "                                                                 \n",
      " flatten (Flatten)           (None, 32)                0         \n",
      "                                                                 \n",
      " dense (Dense)               (None, 10)                330       \n",
      "                                                                 \n",
      "=================================================================\n",
      "Total params: 111722 (436.41 KB)\n",
      "Trainable params: 111722 (436.41 KB)\n",
      "Non-trainable params: 0 (0.00 Byte)\n",
      "_________________________________________________________________\n"
     ]
    }
   ],
   "source": [
    "model.summary()"
   ]
  },
  {
   "cell_type": "code",
   "execution_count": 16,
   "metadata": {
    "colab": {
     "base_uri": "https://localhost:8080/"
    },
    "id": "cmt9RFlYEsQE",
    "outputId": "2a6d18d2-b867-4ada-becb-64855e14cd3b"
   },
   "outputs": [
    {
     "name": "stdout",
     "output_type": "stream",
     "text": [
      "Epoch 1/5\n",
      "1875/1875 [==============================] - 137s 72ms/step - loss: 0.2087 - accuracy: 0.9360 - val_loss: 0.0903 - val_accuracy: 0.9724\n",
      "Epoch 2/5\n",
      "1875/1875 [==============================] - 130s 69ms/step - loss: 0.0745 - accuracy: 0.9767 - val_loss: 0.0543 - val_accuracy: 0.9845\n",
      "Epoch 3/5\n",
      "1875/1875 [==============================] - 128s 69ms/step - loss: 0.0518 - accuracy: 0.9839 - val_loss: 0.0585 - val_accuracy: 0.9830\n",
      "Epoch 4/5\n",
      "1875/1875 [==============================] - 132s 70ms/step - loss: 0.0387 - accuracy: 0.9879 - val_loss: 0.0608 - val_accuracy: 0.9830\n",
      "Epoch 5/5\n",
      "1875/1875 [==============================] - 128s 68ms/step - loss: 0.0310 - accuracy: 0.9901 - val_loss: 0.0418 - val_accuracy: 0.9864\n"
     ]
    }
   ],
   "source": [
    "model.compile(optimizer = 'adam',\n",
    "             loss= 'categorical_crossentropy',\n",
    "             metrics=['accuracy'])\n",
    "history = model.fit(X_train, y_train, validation_data = (X_test, y_test), epochs =5)"
   ]
  },
  {
   "cell_type": "code",
   "execution_count": 17,
   "metadata": {
    "colab": {
     "base_uri": "https://localhost:8080/"
    },
    "id": "b7YrPWrYE3QF",
    "outputId": "0abcd8e6-2467-4032-eff0-d22bbac09cc1"
   },
   "outputs": [
    {
     "name": "stdout",
     "output_type": "stream",
     "text": [
      "313/313 [==============================] - 6s 19ms/step - loss: 0.0418 - accuracy: 0.9864\n",
      "Test Loss: 0.04178265482187271\n",
      "Test accuracy: 0.9864000082015991\n"
     ]
    }
   ],
   "source": [
    "score = model.evaluate(X_test, y_test)\n",
    "print('Test Loss:', score[0])\n",
    "print('Test accuracy:', score[1])"
   ]
  },
  {
   "cell_type": "markdown",
   "metadata": {
    "id": "95LDuPGEE6QO"
   },
   "source": [
    "# Task 4: Vary the number of layers and repeat step 3.\n"
   ]
  },
  {
   "cell_type": "code",
   "execution_count": 18,
   "metadata": {
    "id": "I1qWMBx9E9iG"
   },
   "outputs": [],
   "source": [
    "input = Input(shape = (28, 28, 1))\n",
    "x = Conv2D(filters = 64,\n",
    "           kernel_size = 3,\n",
    "           activation = 'relu')(input)\n",
    "x = AveragePooling2D()(x)\n",
    "x = Conv2D(filters = 128,\n",
    "           kernel_size = 3,\n",
    "           activation = 'relu')(x)\n",
    "x = AveragePooling2D()(x)\n",
    "x = Conv2D(filters = 32,\n",
    "           kernel_size = 3,\n",
    "           activation = 'relu')(x)\n",
    "x = AveragePooling2D()(x)\n",
    "x = Flatten()(x)\n",
    "output = Dense(10,activation = 'softmax')(x)"
   ]
  },
  {
   "cell_type": "code",
   "execution_count": 19,
   "metadata": {
    "id": "seRhfWgSH6gD"
   },
   "outputs": [],
   "source": [
    "model1 = Model(inputs=input, outputs = output)"
   ]
  },
  {
   "cell_type": "code",
   "execution_count": 21,
   "metadata": {
    "colab": {
     "base_uri": "https://localhost:8080/"
    },
    "id": "fFTQQHoqH9AU",
    "outputId": "3a49682d-e8ef-49aa-e2a6-019aa9bee118"
   },
   "outputs": [
    {
     "name": "stdout",
     "output_type": "stream",
     "text": [
      "Model: \"model_1\"\n",
      "_________________________________________________________________\n",
      " Layer (type)                Output Shape              Param #   \n",
      "=================================================================\n",
      " input_2 (InputLayer)        [(None, 28, 28, 1)]       0         \n",
      "                                                                 \n",
      " conv2d_3 (Conv2D)           (None, 26, 26, 64)        640       \n",
      "                                                                 \n",
      " average_pooling2d (Average  (None, 13, 13, 64)        0         \n",
      " Pooling2D)                                                      \n",
      "                                                                 \n",
      " conv2d_4 (Conv2D)           (None, 11, 11, 128)       73856     \n",
      "                                                                 \n",
      " average_pooling2d_1 (Avera  (None, 5, 5, 128)         0         \n",
      " gePooling2D)                                                    \n",
      "                                                                 \n",
      " conv2d_5 (Conv2D)           (None, 3, 3, 32)          36896     \n",
      "                                                                 \n",
      " average_pooling2d_2 (Avera  (None, 1, 1, 32)          0         \n",
      " gePooling2D)                                                    \n",
      "                                                                 \n",
      " flatten_1 (Flatten)         (None, 32)                0         \n",
      "                                                                 \n",
      " dense_1 (Dense)             (None, 10)                330       \n",
      "                                                                 \n",
      "=================================================================\n",
      "Total params: 111722 (436.41 KB)\n",
      "Trainable params: 111722 (436.41 KB)\n",
      "Non-trainable params: 0 (0.00 Byte)\n",
      "_________________________________________________________________\n"
     ]
    }
   ],
   "source": [
    "model1.summary()"
   ]
  },
  {
   "cell_type": "code",
   "execution_count": 22,
   "metadata": {
    "colab": {
     "base_uri": "https://localhost:8080/"
    },
    "id": "oeWcVOCRH-rM",
    "outputId": "aa7f9e96-228f-42cb-c360-43f11a2c2f31"
   },
   "outputs": [
    {
     "name": "stdout",
     "output_type": "stream",
     "text": [
      "Epoch 1/5\n",
      "1875/1875 [==============================] - 136s 72ms/step - loss: 0.2872 - accuracy: 0.9108 - val_loss: 0.1054 - val_accuracy: 0.9673\n",
      "Epoch 2/5\n",
      "1875/1875 [==============================] - 122s 65ms/step - loss: 0.1079 - accuracy: 0.9670 - val_loss: 0.0788 - val_accuracy: 0.9746\n",
      "Epoch 3/5\n",
      "1875/1875 [==============================] - 116s 62ms/step - loss: 0.0812 - accuracy: 0.9754 - val_loss: 0.0696 - val_accuracy: 0.9786\n",
      "Epoch 4/5\n",
      "1875/1875 [==============================] - 115s 61ms/step - loss: 0.0638 - accuracy: 0.9813 - val_loss: 0.0521 - val_accuracy: 0.9850\n",
      "Epoch 5/5\n",
      "1875/1875 [==============================] - 114s 61ms/step - loss: 0.0547 - accuracy: 0.9830 - val_loss: 0.0628 - val_accuracy: 0.9799\n"
     ]
    }
   ],
   "source": [
    "model1.compile(optimizer = 'adam',\n",
    "             loss= 'categorical_crossentropy',\n",
    "             metrics=['accuracy'])\n",
    "history2 = model1.fit(X_train, y_train, validation_data = (X_test, y_test), epochs =5)"
   ]
  },
  {
   "cell_type": "code",
   "execution_count": 23,
   "metadata": {
    "colab": {
     "base_uri": "https://localhost:8080/",
     "height": 472
    },
    "id": "L4QzVYRGKh4P",
    "outputId": "98ccfd50-470b-4444-f70a-126672c02658"
   },
   "outputs": [
    {
     "data": {
      "image/png": "[encoded data removed]",
      "text/plain": [
       "<Figure size 640x480 with 1 Axes>"
      ]
     },
     "metadata": {},
     "output_type": "display_data"
    }
   ],
   "source": [
    "history_dict = history.history\n",
    "accuracy_values = history_dict['accuracy']\n",
    "val_accuracy_values = history_dict['val_accuracy']\n",
    "\n",
    "epochs = range(1, len(accuracy_values) + 1)\n",
    "\n",
    "plt.plot(epochs, accuracy_values, 'bo', label='Training accuracy')\n",
    "plt.plot(epochs, val_accuracy_values, 'b', label='Validation accuracy')\n",
    "plt.title('Training and Validation Accuracy')\n",
    "plt.xlabel('Epochs')\n",
    "plt.ylabel('Accuracy')  # Corrected label to 'Accuracy'\n",
    "plt.legend()\n",
    "plt.show()"
   ]
  },
  {
   "cell_type": "code",
   "execution_count": 24,
   "metadata": {
    "colab": {
     "base_uri": "https://localhost:8080/"
    },
    "id": "2FanTEpSIHR9",
    "outputId": "4e06bb38-d835-40cd-e5cc-c3256746f20e"
   },
   "outputs": [
    {
     "name": "stdout",
     "output_type": "stream",
     "text": [
      "313/313 [==============================] - 6s 18ms/step - loss: 0.0628 - accuracy: 0.9799\n",
      "Test Loss: 0.06281796842813492\n",
      "Test accuracy: 0.9799000024795532\n"
     ]
    }
   ],
   "source": [
    "score = model1.evaluate(X_test, y_test)\n",
    "print('Test Loss:', score[0])\n",
    "print('Test accuracy:', score[1])"
   ]
  },
  {
   "cell_type": "markdown",
   "metadata": {
    "id": "LSfawU0xITz9"
   },
   "source": [
    "# Task 5: Implement the architecture of LeNet 5."
   ]
  },
  {
   "cell_type": "code",
   "execution_count": 25,
   "metadata": {
    "id": "d8vunp85ITfm"
   },
   "outputs": [],
   "source": [
    "# LeNet architecture\n",
    "inputs = Input(shape = (28, 28, 1))\n",
    "x = Conv2D(filters = 6,\n",
    "           kernel_size = (5, 5),\n",
    "           activation = 'tanh', padding ='same', strides = 1)(inputs)\n",
    "x = AveragePooling2D(strides=2,\n",
    "                     pool_size =(2, 2))(x)\n",
    "x = Conv2D(filters = 16,\n",
    "           kernel_size = (5, 5),\n",
    "           activation = 'tanh', padding='valid')(x)\n",
    "x = AveragePooling2D(strides=2,\n",
    "                 pool_size =(2, 2))(x)\n",
    "x = Flatten()(x)\n",
    "x = Dense(120, activation = 'tanh')(x)\n",
    "x = Dense(84, activation='tanh')(x)\n",
    "outputs = Dense(10, activation = 'softmax')(x)"
   ]
  },
  {
   "cell_type": "code",
   "execution_count": 26,
   "metadata": {
    "colab": {
     "base_uri": "https://localhost:8080/"
    },
    "id": "P7snX0EAIhGB",
    "outputId": "e12e0f2d-2fa7-4ac6-d326-7dfbc602c453"
   },
   "outputs": [
    {
     "name": "stdout",
     "output_type": "stream",
     "text": [
      "Model: \"model_2\"\n",
      "_________________________________________________________________\n",
      " Layer (type)                Output Shape              Param #   \n",
      "=================================================================\n",
      " input_3 (InputLayer)        [(None, 28, 28, 1)]       0         \n",
      "                                                                 \n",
      " conv2d_6 (Conv2D)           (None, 28, 28, 6)         156       \n",
      "                                                                 \n",
      " average_pooling2d_3 (Avera  (None, 14, 14, 6)         0         \n",
      " gePooling2D)                                                    \n",
      "                                                                 \n",
      " conv2d_7 (Conv2D)           (None, 10, 10, 16)        2416      \n",
      "                                                                 \n",
      " average_pooling2d_4 (Avera  (None, 5, 5, 16)          0         \n",
      " gePooling2D)                                                    \n",
      "                                                                 \n",
      " flatten_2 (Flatten)         (None, 400)               0         \n",
      "                                                                 \n",
      " dense_2 (Dense)             (None, 120)               48120     \n",
      "                                                                 \n",
      " dense_3 (Dense)             (None, 84)                10164     \n",
      "                                                                 \n",
      " dense_4 (Dense)             (None, 10)                850       \n",
      "                                                                 \n",
      "=================================================================\n",
      "Total params: 61706 (241.04 KB)\n",
      "Trainable params: 61706 (241.04 KB)\n",
      "Non-trainable params: 0 (0.00 Byte)\n",
      "_________________________________________________________________\n"
     ]
    }
   ],
   "source": [
    "lenet = Model(inputs=inputs, outputs = outputs)\n",
    "lenet.summary()"
   ]
  },
  {
   "cell_type": "code",
   "execution_count": 27,
   "metadata": {
    "colab": {
     "base_uri": "https://localhost:8080/"
    },
    "id": "jaRiueUlIjgp",
    "outputId": "10714b92-00b6-43e6-eb56-08682124a15e"
   },
   "outputs": [
    {
     "name": "stdout",
     "output_type": "stream",
     "text": [
      "Epoch 1/5\n",
      "1875/1875 [==============================] - 43s 23ms/step - loss: 0.2280 - accuracy: 0.9322 - val_loss: 0.1025 - val_accuracy: 0.9681\n",
      "Epoch 2/5\n",
      "1875/1875 [==============================] - 42s 23ms/step - loss: 0.0836 - accuracy: 0.9740 - val_loss: 0.0680 - val_accuracy: 0.9771\n",
      "Epoch 3/5\n",
      "1875/1875 [==============================] - 47s 25ms/step - loss: 0.0583 - accuracy: 0.9820 - val_loss: 0.0651 - val_accuracy: 0.9783\n",
      "Epoch 4/5\n",
      "1875/1875 [==============================] - 43s 23ms/step - loss: 0.0442 - accuracy: 0.9862 - val_loss: 0.0525 - val_accuracy: 0.9840\n",
      "Epoch 5/5\n",
      "1875/1875 [==============================] - 42s 23ms/step - loss: 0.0365 - accuracy: 0.9878 - val_loss: 0.0564 - val_accuracy: 0.9834\n"
     ]
    }
   ],
   "source": [
    "lenet.compile(optimizer = 'adam',\n",
    "             loss= 'categorical_crossentropy',\n",
    "             metrics=['accuracy'])\n",
    "history3 = lenet.fit(X_train, y_train, validation_data = (X_test, y_test), epochs =5)"
   ]
  },
  {
   "cell_type": "code",
   "execution_count": 28,
   "metadata": {
    "colab": {
     "base_uri": "https://localhost:8080/"
    },
    "id": "Y1svD7faInRp",
    "outputId": "e2a27e31-da4f-4d5e-aaf2-b782bdcf5d57"
   },
   "outputs": [
    {
     "name": "stdout",
     "output_type": "stream",
     "text": [
      "313/313 [==============================] - 3s 11ms/step - loss: 0.0564 - accuracy: 0.9834\n",
      "Test Loss: 0.056421563029289246\n",
      "Test accuracy: 0.9833999872207642\n"
     ]
    }
   ],
   "source": [
    "score = lenet.evaluate(X_test, y_test)\n",
    "print('Test Loss:', score[0])\n",
    "print('Test accuracy:', score[1])"
   ]
  },
  {
   "cell_type": "markdown",
   "metadata": {
    "id": "jztXQGbfIqlB"
   },
   "source": [
    "# Task 6: Finally note which network gives you the best performance.\n",
    "#### Model 1 gives us the highest Test accuracy of 98.5%"
   ]
  },
  {
   "cell_type": "markdown",
   "metadata": {
    "id": "sGEiuToUM6VY"
   },
   "source": [
    "## Learning Outcomes/Conclusion\n",
    "\n",
    "1. **Data Preprocessing**: Understanding the essential data preprocessing steps, including one-hot encoding for class labels and feature normalization, to prepare data for deep learning.\n",
    "\n",
    "2. **CNN Model Construction**: Building and training Convolutional Neural Networks (CNNs) with different layer configurations, gaining practical knowledge in network architecture design.\n",
    "\n",
    "3. **Layer Variation Impact**: Discovering the effect of varying the number of layers in a CNN on model performance, which can help in making informed design choices.\n",
    "\n",
    "4. **LeNet-5 Implementation**: Implementing the LeNet-5 architecture, a classic CNN design, to explore its structure and applications in image recognition tasks.\n",
    "\n",
    "5. **Performance Evaluation**: Evaluating and comparing the performance of different network architectures on the MNIST dataset, with Model 1 identified as the best-performing model for the task.\n"
   ]
  }
 ],
 "metadata": {
  "colab": {
   "provenance": []
  },
  "kernelspec": {
   "display_name": "Python 3 (ipykernel)",
   "language": "python",
   "name": "python3"
  },
  "language_info": {
   "codemirror_mode": {
    "name": "ipython",
    "version": 3
   },
   "file_extension": ".py",
   "mimetype": "text/x-python",
   "name": "python",
   "nbconvert_exporter": "python",
   "pygments_lexer": "ipython3",
   "version": "3.9.13"
  }
 },
 "nbformat": 4,
 "nbformat_minor": 1
}
