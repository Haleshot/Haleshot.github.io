{
 "cells": [
  {
   "cell_type": "code",
   "execution_count": 2,
   "id": "8327bf2c",
   "metadata": {},
   "outputs": [],
   "source": [
    "# FCFS Algorithm with and without Arrival Time\n",
    "\n",
    "# To Find - Turn Around Time and Wait Time and their respective average times\n",
    "\n",
    "# import libraries\n",
    "from tabulate import tabulate # For printing the result in a Tabular Format"
   ]
  },
  {
   "cell_type": "code",
   "execution_count": 3,
   "id": "7bc3cf74",
   "metadata": {},
   "outputs": [],
   "source": [
    "def sorting_arrival(l):\n",
    "    return l[1] # Returns the Second element of the list which is Arrival Time"
   ]
  },
  {
   "cell_type": "code",
   "execution_count": 4,
   "id": "6f6cc2f8",
   "metadata": {},
   "outputs": [],
   "source": [
    "def Turn_Around_Time(P, limit):\n",
    "    # Declaring Variables for Calculating Total Turn Around Time\n",
    "    total_tat = 0\n",
    "    for i in range(limit):\n",
    "        tat = P[i][3] - P[i][1]\n",
    "        total_tat += tat # Formula For Turn Around Time -> Completion Time - Arrrival TIme\n",
    "        P[i].append(tat) # Appending the Turn Around Time to the List\n",
    "\n",
    "    avg_tat = total_tat/limit\n",
    "    return avg_tat"
   ]
  },
  {
   "cell_type": "code",
   "execution_count": 5,
   "id": "ce5f8cd7",
   "metadata": {},
   "outputs": [],
   "source": [
    "def Waiting_Time(P, limit):\n",
    "    # Declaring Variables for Calculating Total Waiting Time\n",
    "    total_wt = 0\n",
    "\n",
    "    for i in range(limit):\n",
    "        wt = P[i][4] - P[i][2]\n",
    "        total_wt += wt # Formula For Waiting Time -> Turn Around Time - Burst TIme\n",
    "        P[i].append(wt) # Appending the Waiting Time to the List\n",
    "\n",
    "    avg_wt = total_wt/limit\n",
    "    return avg_wt"
   ]
  },
  {
   "cell_type": "code",
   "execution_count": 6,
   "id": "687532e6",
   "metadata": {},
   "outputs": [],
   "source": [
    "def Logic(P, limit):\n",
    "    completion_time = 0\n",
    "    exit_time = []\n",
    "    \n",
    "    for i in range(limit):\n",
    "        if completion_time < P[i][1]:\n",
    "            completion_time = P[i][1]\n",
    "        completion_time += P[i][2]\n",
    "        exit_time.append(completion_time)\n",
    "        P[i].append(completion_time)\n",
    "    \n",
    "    tat = Turn_Around_Time(P, limit)\n",
    "    wt = Waiting_Time(P, limit)\n",
    "\n",
    "    P.sort(key=sorting_arrival) # Sorting the List by Arrivak Time\n",
    "    headers = [\"Process Number\", \"Arrival Time\", \"Burst Time\", \"Completion Time\", \"Turn Around Time\", \"Waiting Time\"]\n",
    "    print(tabulate(P, headers, tablefmt=\"psql\"))\n",
    "\n",
    "    # Printing the Average Waiting and Turn Around Time\n",
    "    print(\"\\nAverage Waiting Time is = \", round(wt, 2)) # Rounding off Average Waiting Time to 2 Decimal places\n",
    "    print(\"Average Turn Around Time is = \", round(tat, 2)) # Rounding off Average Turn Around Time to 2 Decimal places"
   ]
  },
  {
   "cell_type": "code",
   "execution_count": 7,
   "id": "6b051151",
   "metadata": {},
   "outputs": [],
   "source": [
    "# Main Function\n",
    "def main():\n",
    "    run = True\n",
    "    while(run):\n",
    "\n",
    "        # Declaring arrays\n",
    "        processes = []\n",
    "\n",
    "        print(\"\\nMenu\\nDo you want to assume : \\n1. Arrival Time as 0\\n2. Input Arrival Time\\n3. Exit\\n\")\n",
    "        ch = int(input(\"Enter Your Choice : \"))\n",
    "\n",
    "        if ch == 1:\n",
    "            limit_process = int(input(\"Enter the Number of Processes : \"))\n",
    "            for i in range(limit_process):\n",
    "                p = []\n",
    "                arrival = 0\n",
    "                burst = int(input(\"Enter the Burst Time for process {} : \".format(i)))\n",
    "                process_id = \"P\" + str(i + 1)\n",
    "\n",
    "                p.extend([process_id, arrival, burst])\n",
    "                processes.append(p)\n",
    "\n",
    "            Logic(processes, limit_process)\n",
    "            run = int(input(\"\\nWant to continue? (Yes = Input 1/false = Input 0) : \"))\n",
    "\n",
    "        elif ch == 2:\n",
    "            limit_process = int(input(\"Enter the Number of Processes : \"))\n",
    "            for i in range(limit_process):\n",
    "                p = []\n",
    "                arrival = int(input(\"Enter the Arrival Time for process {} : \".format(i)))\n",
    "                burst = int(input(\"Enter the Burst Time for process {} : \".format(i)))\n",
    "                process_id = \"P\" + str(i + 1)\n",
    "\n",
    "                p.extend([process_id, arrival, burst])\n",
    "                processes.append(p)\n",
    "                \n",
    "\n",
    "            Logic(processes, limit_process)\n",
    "            run = int(input(\"\\nWant to continue? (Yes = Input 1/false = Input 0) : \"))\n",
    "        \n",
    "        elif ch == 3:\n",
    "            print(\"Thank You!\")\n",
    "            exit(0)\n",
    "\n",
    "        else:\n",
    "            print(\"Invalid Choice!\")\n",
    "            run = int(input(\"\\nWant to continue? (Yes = Input 1/false = Input 0) : \"))"
   ]
  },
  {
   "cell_type": "code",
   "execution_count": 8,
   "id": "b1a8fbf2",
   "metadata": {},
   "outputs": [
    {
     "name": "stdout",
     "output_type": "stream",
     "text": [
      "\n",
      "Menu\n",
      "Do you want to assume : \n",
      "1. Arrival Time as 0\n",
      "2. Input Arrival Time\n",
      "3. Exit\n",
      "\n",
      "Enter Your Choice : 2\n",
      "Enter the Number of Processes : 4\n",
      "Enter the Arrival Time for process 0 : 0\n",
      "Enter the Burst Time for process 0 : 5\n",
      "Enter the Arrival Time for process 1 : 1\n",
      "Enter the Burst Time for process 1 : 3\n",
      "Enter the Arrival Time for process 2 : 2\n",
      "Enter the Burst Time for process 2 : 8\n",
      "Enter the Arrival Time for process 3 : 3\n",
      "Enter the Burst Time for process 3 : 6\n",
      "+------------------+----------------+--------------+-------------------+--------------------+----------------+\n",
      "| Process Number   |   Arrival Time |   Burst Time |   Completion Time |   Turn Around Time |   Waiting Time |\n",
      "|------------------+----------------+--------------+-------------------+--------------------+----------------|\n",
      "| P1               |              0 |            5 |                 5 |                  5 |              0 |\n",
      "| P2               |              1 |            3 |                 8 |                  7 |              4 |\n",
      "| P3               |              2 |            8 |                16 |                 14 |              6 |\n",
      "| P4               |              3 |            6 |                22 |                 19 |             13 |\n",
      "+------------------+----------------+--------------+-------------------+--------------------+----------------+\n",
      "\n",
      "Average Waiting Time is =  5.75\n",
      "Average Turn Around Time is =  11.25\n",
      "\n",
      "Want to continue? (Yes = Input 1/false = Input 0) : 0\n"
     ]
    }
   ],
   "source": [
    "# Calling the Main Function\n",
    "main()"
   ]
  },
  {
   "cell_type": "code",
   "execution_count": null,
   "id": "154c95ca",
   "metadata": {},
   "outputs": [],
   "source": []
  }
 ],
 "metadata": {
  "kernelspec": {
   "display_name": "Python 3 (ipykernel)",
   "language": "python",
   "name": "python3"
  },
  "language_info": {
   "codemirror_mode": {
    "name": "ipython",
    "version": 3
   },
   "file_extension": ".py",
   "mimetype": "text/x-python",
   "name": "python",
   "nbconvert_exporter": "python",
   "pygments_lexer": "ipython3",
   "version": "3.9.13"
  }
 },
 "nbformat": 4,
 "nbformat_minor": 5
}
