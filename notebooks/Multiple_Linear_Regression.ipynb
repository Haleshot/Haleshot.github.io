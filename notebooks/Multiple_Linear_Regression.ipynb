{
  "cells": [
    {
      "cell_type": "code",
      "execution_count": 2,
      "metadata": {
        "id": "TZ0VVxKksBWH"
      },
      "outputs": [],
      "source": [
        "# import libraries\n",
        "import matplotlib.pyplot as plt\n",
        "import numpy as np\n",
        "import pandas as pd\n",
        "import seaborn as sns"
      ]
    },
    {
      "cell_type": "markdown",
      "metadata": {
        "id": "AdI7suHwj_GO"
      },
      "source": [
        "# Task 1:"
      ]
    },
    {
      "cell_type": "code",
      "execution_count": 3,
      "metadata": {
        "id": "KNKVkvAyfnJI"
      },
      "outputs": [],
      "source": [
        "# Reading the File:\n",
        "df = pd.read_csv(\"/content/MLR_data.csv\")\n"
      ]
    },
    {
      "cell_type": "markdown",
      "metadata": {
        "id": "vcntEjqsFmgR"
      },
      "source": [
        "## EDA"
      ]
    },
    {
      "cell_type": "code",
      "execution_count": 4,
      "metadata": {
        "colab": {
          "base_uri": "https://localhost:8080/"
        },
        "id": "PY1LTjmqkkcg",
        "outputId": "96673b53-cdbe-4096-df05-899aceb40baa"
      },
      "outputs": [
        {
          "data": {
            "text/plain": [
              "120"
            ]
          },
          "execution_count": 4,
          "metadata": {},
          "output_type": "execute_result"
        }
      ],
      "source": [
        "# Size\n",
        "df.size"
      ]
    },
    {
      "cell_type": "code",
      "execution_count": 5,
      "metadata": {
        "colab": {
          "base_uri": "https://localhost:8080/"
        },
        "id": "2JbDlXrYkl9H",
        "outputId": "4a5e2bf6-ffc2-46e9-e4aa-d457954a01d7"
      },
      "outputs": [
        {
          "data": {
            "text/plain": [
              "(24, 5)"
            ]
          },
          "execution_count": 5,
          "metadata": {},
          "output_type": "execute_result"
        }
      ],
      "source": [
        "# Shape\n",
        "df.shape"
      ]
    },
    {
      "cell_type": "code",
      "execution_count": 6,
      "metadata": {
        "colab": {
          "base_uri": "https://localhost:8080/"
        },
        "id": "p8bERa3Akm3v",
        "outputId": "5e81f860-5376-497f-9b70-bfe733dd0b58"
      },
      "outputs": [
        {
          "data": {
            "text/plain": [
              "Year                   int64\n",
              "Month                  int64\n",
              "Interest_Rate        float64\n",
              "Unemployment_Rate    float64\n",
              "Stock_Index_Price      int64\n",
              "dtype: object"
            ]
          },
          "execution_count": 6,
          "metadata": {},
          "output_type": "execute_result"
        }
      ],
      "source": [
        "# Data Types\n",
        "df.dtypes"
      ]
    },
    {
      "cell_type": "code",
      "execution_count": 44,
      "metadata": {
        "colab": {
          "base_uri": "https://localhost:8080/",
          "height": 300
        },
        "id": "Zji_nS64kn2Q",
        "outputId": "aa739f7b-0c2c-453b-8e2a-f9a91f243abf"
      },
      "outputs": [
        {
          "data": {
            "text/html": [
              "\n",
              "  <div id=\"df-788e5ed7-4f2a-4876-a38d-c975b44009e3\">\n",
              "    <div class=\"colab-df-container\">\n",
              "      <div>\n",
              "<style scoped>\n",
              "    .dataframe tbody tr th:only-of-type {\n",
              "        vertical-align: middle;\n",
              "    }\n",
              "\n",
              "    .dataframe tbody tr th {\n",
              "        vertical-align: top;\n",
              "    }\n",
              "\n",
              "    .dataframe thead th {\n",
              "        text-align: right;\n",
              "    }\n",
              "</style>\n",
              "<table border=\"1\" class=\"dataframe\">\n",
              "  <thead>\n",
              "    <tr style=\"text-align: right;\">\n",
              "      <th></th>\n",
              "      <th>R&amp;D Spend</th>\n",
              "      <th>Administration</th>\n",
              "      <th>Marketing Spend</th>\n",
              "      <th>Profit</th>\n",
              "    </tr>\n",
              "  </thead>\n",
              "  <tbody>\n",
              "    <tr>\n",
              "      <th>count</th>\n",
              "      <td>50.000000</td>\n",
              "      <td>50.000000</td>\n",
              "      <td>50.000000</td>\n",
              "      <td>50.000000</td>\n",
              "    </tr>\n",
              "    <tr>\n",
              "      <th>mean</th>\n",
              "      <td>73721.615600</td>\n",
              "      <td>121344.639600</td>\n",
              "      <td>211025.097800</td>\n",
              "      <td>112012.639200</td>\n",
              "    </tr>\n",
              "    <tr>\n",
              "      <th>std</th>\n",
              "      <td>45902.256482</td>\n",
              "      <td>28017.802755</td>\n",
              "      <td>122290.310726</td>\n",
              "      <td>40306.180338</td>\n",
              "    </tr>\n",
              "    <tr>\n",
              "      <th>min</th>\n",
              "      <td>0.000000</td>\n",
              "      <td>51283.140000</td>\n",
              "      <td>0.000000</td>\n",
              "      <td>14681.400000</td>\n",
              "    </tr>\n",
              "    <tr>\n",
              "      <th>25%</th>\n",
              "      <td>39936.370000</td>\n",
              "      <td>103730.875000</td>\n",
              "      <td>129300.132500</td>\n",
              "      <td>90138.902500</td>\n",
              "    </tr>\n",
              "    <tr>\n",
              "      <th>50%</th>\n",
              "      <td>73051.080000</td>\n",
              "      <td>122699.795000</td>\n",
              "      <td>212716.240000</td>\n",
              "      <td>107978.190000</td>\n",
              "    </tr>\n",
              "    <tr>\n",
              "      <th>75%</th>\n",
              "      <td>101602.800000</td>\n",
              "      <td>144842.180000</td>\n",
              "      <td>299469.085000</td>\n",
              "      <td>139765.977500</td>\n",
              "    </tr>\n",
              "    <tr>\n",
              "      <th>max</th>\n",
              "      <td>165349.200000</td>\n",
              "      <td>182645.560000</td>\n",
              "      <td>471784.100000</td>\n",
              "      <td>192261.830000</td>\n",
              "    </tr>\n",
              "  </tbody>\n",
              "</table>\n",
              "</div>\n",
              "      <button class=\"colab-df-convert\" onclick=\"convertToInteractive('df-788e5ed7-4f2a-4876-a38d-c975b44009e3')\"\n",
              "              title=\"Convert this dataframe to an interactive table.\"\n",
              "              style=\"display:none;\">\n",
              "        \n",
              "  <svg xmlns=\"http://www.w3.org/2000/svg\" height=\"24px\"viewBox=\"0 0 24 24\"\n",
              "       width=\"24px\">\n",
              "    <path d=\"M0 0h24v24H0V0z\" fill=\"none\"/>\n",
              "    <path d=\"M18.56 5.44l.94 2.06.94-2.06 2.06-.94-2.06-.94-.94-2.06-.94 2.06-2.06.94zm-11 1L8.5 8.5l.94-2.06 2.06-.94-2.06-.94L8.5 2.5l-.94 2.06-2.06.94zm10 10l.94 2.06.94-2.06 2.06-.94-2.06-.94-.94-2.06-.94 2.06-2.06.94z\"/><path d=\"M17.41 7.96l-1.37-1.37c-.4-.4-.92-.59-1.43-.59-.52 0-1.04.2-1.43.59L10.3 9.45l-7.72 7.72c-.78.78-.78 2.05 0 2.83L4 21.41c.39.39.9.59 1.41.59.51 0 1.02-.2 1.41-.59l7.78-7.78 2.81-2.81c.8-.78.8-2.07 0-2.86zM5.41 20L4 18.59l7.72-7.72 1.47 1.35L5.41 20z\"/>\n",
              "  </svg>\n",
              "      </button>\n",
              "      \n",
              "  <style>\n",
              "    .colab-df-container {\n",
              "      display:flex;\n",
              "      flex-wrap:wrap;\n",
              "      gap: 12px;\n",
              "    }\n",
              "\n",
              "    .colab-df-convert {\n",
              "      background-color: #E8F0FE;\n",
              "      border: none;\n",
              "      border-radius: 50%;\n",
              "      cursor: pointer;\n",
              "      display: none;\n",
              "      fill: #1967D2;\n",
              "      height: 32px;\n",
              "      padding: 0 0 0 0;\n",
              "      width: 32px;\n",
              "    }\n",
              "\n",
              "    .colab-df-convert:hover {\n",
              "      background-color: #E2EBFA;\n",
              "      box-shadow: 0px 1px 2px rgba(60, 64, 67, 0.3), 0px 1px 3px 1px rgba(60, 64, 67, 0.15);\n",
              "      fill: #174EA6;\n",
              "    }\n",
              "\n",
              "    [theme=dark] .colab-df-convert {\n",
              "      background-color: #3B4455;\n",
              "      fill: #D2E3FC;\n",
              "    }\n",
              "\n",
              "    [theme=dark] .colab-df-convert:hover {\n",
              "      background-color: #434B5C;\n",
              "      box-shadow: 0px 1px 3px 1px rgba(0, 0, 0, 0.15);\n",
              "      filter: drop-shadow(0px 1px 2px rgba(0, 0, 0, 0.3));\n",
              "      fill: #FFFFFF;\n",
              "    }\n",
              "  </style>\n",
              "\n",
              "      <script>\n",
              "        const buttonEl =\n",
              "          document.querySelector('#df-788e5ed7-4f2a-4876-a38d-c975b44009e3 button.colab-df-convert');\n",
              "        buttonEl.style.display =\n",
              "          google.colab.kernel.accessAllowed ? 'block' : 'none';\n",
              "\n",
              "        async function convertToInteractive(key) {\n",
              "          const element = document.querySelector('#df-788e5ed7-4f2a-4876-a38d-c975b44009e3');\n",
              "          const dataTable =\n",
              "            await google.colab.kernel.invokeFunction('convertToInteractive',\n",
              "                                                     [key], {});\n",
              "          if (!dataTable) return;\n",
              "\n",
              "          const docLinkHtml = 'Like what you see? Visit the ' +\n",
              "            '<a target=\"_blank\" href=https://colab.research.google.com/notebooks/data_table.ipynb>data table notebook</a>'\n",
              "            + ' to learn more about interactive tables.';\n",
              "          element.innerHTML = '';\n",
              "          dataTable['output_type'] = 'display_data';\n",
              "          await google.colab.output.renderOutput(dataTable, element);\n",
              "          const docLink = document.createElement('div');\n",
              "          docLink.innerHTML = docLinkHtml;\n",
              "          element.appendChild(docLink);\n",
              "        }\n",
              "      </script>\n",
              "    </div>\n",
              "  </div>\n",
              "  "
            ],
            "text/plain": [
              "           R&D Spend  Administration  Marketing Spend         Profit\n",
              "count      50.000000       50.000000        50.000000      50.000000\n",
              "mean    73721.615600   121344.639600    211025.097800  112012.639200\n",
              "std     45902.256482    28017.802755    122290.310726   40306.180338\n",
              "min         0.000000    51283.140000         0.000000   14681.400000\n",
              "25%     39936.370000   103730.875000    129300.132500   90138.902500\n",
              "50%     73051.080000   122699.795000    212716.240000  107978.190000\n",
              "75%    101602.800000   144842.180000    299469.085000  139765.977500\n",
              "max    165349.200000   182645.560000    471784.100000  192261.830000"
            ]
          },
          "execution_count": 44,
          "metadata": {},
          "output_type": "execute_result"
        }
      ],
      "source": [
        "df.describe()"
      ]
    },
    {
      "cell_type": "markdown",
      "metadata": {
        "id": "AvHf8VwvB1-1"
      },
      "source": [
        "### The Dependent variable is the Stock_Index_Price and the other variables are the columns other than the Stock_Index_Price.\n",
        "### We need to see which Independent variables best describe the Dependent variable by eliminating the redundant ones which don't express the IV at all."
      ]
    },
    {
      "cell_type": "markdown",
      "metadata": {
        "id": "d4QleY6UnYJl"
      },
      "source": [
        "# Conclusion:\n",
        "## We notice that from the pair plot given below, the correlation of Year and Month (Independent variables) with the Stock_Price_Index(Dependent Variable) doesn't give us essential information to proceed and build models based on them,.\n",
        "\n",
        "## Whereas, Interest_Rate and Unemployment_Rate on the other hand, give us valuable information to proceed build models with Dependent Variables.\n",
        "\n",
        "## The graphs of Year and Month show a constant slope with no variations in them, hence they don't describe the independent variable effectively at all."
      ]
    },
    {
      "cell_type": "code",
      "execution_count": 9,
      "metadata": {
        "colab": {
          "base_uri": "https://localhost:8080/",
          "height": 1000
        },
        "id": "LCYTl7WylTrO",
        "outputId": "c6118b6f-c8e5-4be6-dd78-4773fd3ec095"
      },
      "outputs": [
        {
          "data": {
            "text/plain": [
              "<seaborn.axisgrid.PairGrid at 0x7ff9c8049610>"
            ]
          },
          "execution_count": 9,
          "metadata": {},
          "output_type": "execute_result"
        },
        {
          "data": {
            "image/png": "[encoded data removed]",
            "text/plain": [
              "<Figure size 1080x1080 with 30 Axes>"
            ]
          },
          "metadata": {
            "needs_background": "light"
          },
          "output_type": "display_data"
        }
      ],
      "source": [
        "sns.pairplot(df, height = 3, diag_kind = 'hist')"
      ]
    },
    {
      "cell_type": "markdown",
      "metadata": {
        "id": "-6atgZ6yptSY"
      },
      "source": [
        "# Task 2:"
      ]
    },
    {
      "cell_type": "code",
      "execution_count": 10,
      "metadata": {
        "id": "vmcxnXkQmXOB"
      },
      "outputs": [],
      "source": [
        "# import libraries\n",
        "from sklearn.linear_model import LinearRegression"
      ]
    },
    {
      "cell_type": "code",
      "execution_count": 35,
      "metadata": {
        "id": "dDRxTWROpzgY"
      },
      "outputs": [],
      "source": [
        "\n",
        "Month_data = df[\"Month\"]\n",
        "Interest_rate_data = df[\"Interest_Rate\"]\n",
        "Unemployment_Rate_data = df[\"Unemployment_Rate\"]\n",
        "Stock_Index_Price_data = df[\"Stock_Index_Price\"]\n",
        "\n",
        "# Converting the X array initialized in Task 1 to a 2D arrays.\n",
        "MD = Month_data.values.reshape((-1, 1))\n",
        "ID = Interest_rate_data.values.reshape((-1, 1))\n",
        "URD = Unemployment_Rate_data.values.reshape((-1, 1))\n"
      ]
    },
    {
      "cell_type": "markdown",
      "metadata": {
        "id": "gD0aELjz7EtL"
      },
      "source": [
        "## We notice a positive correlation between the two variables - Month and Stock Index Price:"
      ]
    },
    {
      "cell_type": "code",
      "execution_count": 12,
      "metadata": {
        "id": "ux-sXwTfsTZu"
      },
      "outputs": [],
      "source": [
        "reg_model = LinearRegression()\n",
        "reg_model.fit(MD, Stock_Index_Price_data)\n",
        "\n",
        "reg_model = LinearRegression().fit(MD, Stock_Index_Price_data)\n",
        "\n"
      ]
    },
    {
      "cell_type": "code",
      "execution_count": 13,
      "metadata": {
        "colab": {
          "base_uri": "https://localhost:8080/"
        },
        "id": "czNHvZnUvPVL",
        "outputId": "395605e3-3951-4cac-93d6-97786e6ff273"
      },
      "outputs": [
        {
          "name": "stdout",
          "output_type": "stream",
          "text": [
            "R Square Value :  0.23163745862450869\n",
            "Intercept (b0) : 883.1287878787878\n",
            "\n",
            "Slope (b1) : [28.76223776]\n"
          ]
        }
      ],
      "source": [
        "r_sq = reg_model.score(MD, Stock_Index_Price_data)\n",
        "print(\"R Square Value : \", r_sq)\n",
        "b0 = reg_model.intercept_\n",
        "b1 = reg_model.coef_\n",
        "print(\"Intercept (b0) :\", reg_model.intercept_)\n",
        "print()\n",
        "print(\"Slope (b1) :\", reg_model.coef_)"
      ]
    },
    {
      "cell_type": "code",
      "execution_count": 14,
      "metadata": {
        "colab": {
          "base_uri": "https://localhost:8080/",
          "height": 269
        },
        "id": "sNZLv4J7weSC",
        "outputId": "3cbbd0db-d433-4d43-f05a-e1912b667a70"
      },
      "outputs": [
        {
          "data": {
            "image/png": "[encoded data removed]",
            "text/plain": [
              "<Figure size 432x288 with 1 Axes>"
            ]
          },
          "metadata": {
            "needs_background": "light"
          },
          "output_type": "display_data"
        }
      ],
      "source": [
        "y_pred = b1 * MD + b0\n",
        "plt.scatter(MD, Stock_Index_Price_data)\n",
        "plt.plot(MD, y_pred)\n",
        "\n",
        "plt.show()"
      ]
    },
    {
      "cell_type": "markdown",
      "metadata": {
        "id": "J6AJJixE68oi"
      },
      "source": [
        "## We notice a positive correlation between the two variables - Interest Rate and Stock Index Price:"
      ]
    },
    {
      "cell_type": "code",
      "execution_count": 15,
      "metadata": {
        "colab": {
          "base_uri": "https://localhost:8080/"
        },
        "id": "R7H8n9DmviyR",
        "outputId": "86bfb87c-2b43-4a3d-809a-d25022b9c842"
      },
      "outputs": [
        {
          "name": "stdout",
          "output_type": "stream",
          "text": [
            "R Square Value :  0.8757089547891359\n",
            "Intercept (b0) : -99.46431881371655\n",
            "\n",
            "Slope (b1) : [564.20389249]\n"
          ]
        }
      ],
      "source": [
        "reg_model = LinearRegression()\n",
        "reg_model.fit(ID, Stock_Index_Price_data)\n",
        "\n",
        "reg_model = LinearRegression().fit(ID, Stock_Index_Price_data)\n",
        "\n",
        "r_sq = reg_model.score(ID, Stock_Index_Price_data)\n",
        "print(\"R Square Value : \", r_sq)\n",
        "print(\"Intercept (b0) :\", reg_model.intercept_)\n",
        "print()\n",
        "print(\"Slope (b1) :\", reg_model.coef_)"
      ]
    },
    {
      "cell_type": "code",
      "execution_count": 16,
      "metadata": {
        "colab": {
          "base_uri": "https://localhost:8080/",
          "height": 269
        },
        "id": "91nyScnOw9QB",
        "outputId": "489dc0aa-a952-4837-ebde-ad1a9d98775e"
      },
      "outputs": [
        {
          "data": {
            "image/png": "[encoded data removed]",
            "text/plain": [
              "<Figure size 432x288 with 1 Axes>"
            ]
          },
          "metadata": {
            "needs_background": "light"
          },
          "output_type": "display_data"
        }
      ],
      "source": [
        "b0 = reg_model.intercept_\n",
        "b1 = reg_model.coef_\n",
        "y_pred = b1 * ID + b0\n",
        "plt.scatter(ID, Stock_Index_Price_data)\n",
        "plt.plot(ID, y_pred)\n",
        "\n",
        "plt.show()"
      ]
    },
    {
      "cell_type": "code",
      "execution_count": 17,
      "metadata": {
        "colab": {
          "base_uri": "https://localhost:8080/"
        },
        "id": "6yjVZP3h0S8l",
        "outputId": "6872d86e-81ed-4f4a-993d-78a436235043"
      },
      "outputs": [
        {
          "name": "stdout",
          "output_type": "stream",
          "text": [
            "[70.84801858]\n"
          ]
        }
      ],
      "source": [
        "ID = 2.75\n",
        "y_pred = b1 * ID + b0\n",
        "MSE = ((y_pred - 1464 )**2)/2\n",
        "print(MSE)"
      ]
    },
    {
      "cell_type": "markdown",
      "metadata": {
        "id": "AejFGIhW6pbv"
      },
      "source": [
        "## We notice a negative correlation between the two variables - Unemployment Rate and Stock Index Price:"
      ]
    },
    {
      "cell_type": "code",
      "execution_count": 18,
      "metadata": {
        "colab": {
          "base_uri": "https://localhost:8080/"
        },
        "id": "N4rfC4wjwBYZ",
        "outputId": "22f72925-6869-4fb3-e535-6839f2ebfe83"
      },
      "outputs": [
        {
          "name": "stdout",
          "output_type": "stream",
          "text": [
            "R Square Value :  0.850706607677214\n",
            "Intercept (b0) : 4471.339321357287\n",
            "\n",
            "Slope (b1) : [-588.96207585]\n"
          ]
        }
      ],
      "source": [
        "reg_model = LinearRegression()\n",
        "reg_model.fit(URD, Stock_Index_Price_data)\n",
        "\n",
        "reg_model = LinearRegression().fit(URD, Stock_Index_Price_data)\n",
        "\n",
        "r_sq = reg_model.score(URD, Stock_Index_Price_data)\n",
        "print(\"R Square Value : \", r_sq)\n",
        "print(\"Intercept (b0) :\", reg_model.intercept_)\n",
        "print()\n",
        "print(\"Slope (b1) :\", reg_model.coef_)"
      ]
    },
    {
      "cell_type": "code",
      "execution_count": 19,
      "metadata": {
        "colab": {
          "base_uri": "https://localhost:8080/",
          "height": 269
        },
        "id": "GbRpS4gdwPWw",
        "outputId": "2d2ea463-c98a-438f-9f49-78afe0d32449"
      },
      "outputs": [
        {
          "data": {
            "image/png": "[encoded data removed]",
            "text/plain": [
              "<Figure size 432x288 with 1 Axes>"
            ]
          },
          "metadata": {
            "needs_background": "light"
          },
          "output_type": "display_data"
        }
      ],
      "source": [
        "b0 = reg_model.intercept_\n",
        "b1 = reg_model.coef_\n",
        "y_pred = b1 * URD + b0\n",
        "plt.scatter(URD, Stock_Index_Price_data)\n",
        "plt.plot(URD, y_pred)\n",
        "\n",
        "plt.show()"
      ]
    },
    {
      "cell_type": "code",
      "execution_count": 20,
      "metadata": {
        "colab": {
          "base_uri": "https://localhost:8080/"
        },
        "id": "0maD_pB70YZ0",
        "outputId": "620c1255-53dd-46ce-ce14-5772fd1036df"
      },
      "outputs": [
        {
          "name": "stdout",
          "output_type": "stream",
          "text": [
            "[5987.80537926]\n"
          ]
        }
      ],
      "source": [
        "URD = 6\n",
        "y_pred = b1 * URD + b0\n",
        "MSE = ((y_pred - 1047 )**2)/2\n",
        "print(MSE)"
      ]
    },
    {
      "cell_type": "markdown",
      "metadata": {
        "id": "knW_R8uW1CaJ"
      },
      "source": [
        "# Task 3:"
      ]
    },
    {
      "cell_type": "markdown",
      "metadata": {
        "id": "YUeZm5rl5lPa"
      },
      "source": [
        "# Multiple Regression Model of Interest Rate and Unemployment Rate with Stock Index Price:"
      ]
    },
    {
      "cell_type": "code",
      "execution_count": 28,
      "metadata": {
        "colab": {
          "base_uri": "https://localhost:8080/"
        },
        "id": "xZC7BRfL31xX",
        "outputId": "784d60ab-356f-4d9b-a02f-aca74ec82440"
      },
      "outputs": [
        {
          "name": "stdout",
          "output_type": "stream",
          "text": [
            "R Square Value :  0.8976335894170216\n",
            "Intercept (b0) : 1798.4039776258544\n",
            "\n",
            "345.54008701056574\n",
            "-250.14657136938055\n",
            "R Square Value :  0.8976335894170216\n",
            "Intercept (b0) : 1798.4039776258544\n",
            "\n",
            "345.54008701056574\n",
            "-250.14657136938055\n",
            "1422.8623886471935\n",
            "988.6047234307027\n"
          ]
        }
      ],
      "source": [
        "x = np.array(df[[\"Interest_Rate\", \"Unemployment_Rate\"]])\n",
        "y = np.array(df[\"Stock_Index_Price\"])\n",
        "reg_model.fit(x, y)\n",
        "r_sq = reg_model.score(x, y)\n",
        "print(\"R Square Value : \", r_sq)\n",
        "b0 = reg_model.intercept_\n",
        "b1 = reg_model.coef_[0]\n",
        "b2 = reg_model.coef_[1]\n",
        "\n",
        "print(\"Intercept (b0) :\", reg_model.intercept_)\n",
        "print()\n",
        "print(b1)\n",
        "print(b2)\n",
        "\n",
        "r_sq = reg_model.score(x, y)\n",
        "print(\"R Square Value : \", r_sq)\n",
        "b0 = reg_model.intercept_\n",
        "b1 = reg_model.coef_[0]\n",
        "b2 = reg_model.coef_[1]\n",
        "\n",
        "print(\"Intercept (b0) :\", reg_model.intercept_)\n",
        "print()\n",
        "print(b1)\n",
        "print(b2)\n",
        "y_pred = b0 + b1*2.75 + b2 * 5.3\n",
        "print(y_pred)\n",
        "y_pred = b0 + b1*2 + b2 * 6\n",
        "print(y_pred)\n",
        "\n"
      ]
    },
    {
      "cell_type": "markdown",
      "metadata": {
        "id": "Ub3Rehy85xIJ"
      },
      "source": [
        "# Multiple Regression Model of Interest Rate, Unemployment Rate and Month with Stock Index Price:"
      ]
    },
    {
      "cell_type": "code",
      "execution_count": 34,
      "metadata": {
        "colab": {
          "base_uri": "https://localhost:8080/"
        },
        "id": "iyqYvejJ1cvH",
        "outputId": "0b3d61f6-190e-4bc2-e105-5be145292ca4"
      },
      "outputs": [
        {
          "name": "stdout",
          "output_type": "stream",
          "text": [
            "R Square Value :  0.9230425469229033\n",
            "Intercept (b0) : 1591.5963382763719\n",
            "\n",
            "335.1930601634653\n",
            "-222.08250237506545\n",
            "10.182486970633022\n",
            "1458.529834785651\n",
            "1051.677288000506\n"
          ]
        }
      ],
      "source": [
        "x = np.array(df[[\"Interest_Rate\", \"Unemployment_Rate\", \"Month\"]])\n",
        "y = np.array(df[\"Stock_Index_Price\"])\n",
        "reg_model.fit(x, y)\n",
        "\n",
        "r_sq = reg_model.score(x, y)\n",
        "print(\"R Square Value : \", r_sq)\n",
        "b0 = reg_model.intercept_\n",
        "b1 = reg_model.coef_[0]\n",
        "b2 = reg_model.coef_[1]\n",
        "b3 = reg_model.coef_[2]\n",
        "\n",
        "print(\"Intercept (b0) :\", reg_model.intercept_)\n",
        "print()\n",
        "print(b1)\n",
        "print(b2)\n",
        "print(b3)\n",
        "y_pred = b0 + b1*2.75 + b2 * 5.3 + b3 * 12\n",
        "print(y_pred)\n",
        "y_pred = b0 + b1*2 + b2 * 6 + b3 * 12\n",
        "print(y_pred)"
      ]
    },
    {
      "cell_type": "markdown",
      "metadata": {
        "id": "EMSfiw9O6EQ7"
      },
      "source": [
        "## Hence we can conclude from the above 2 models that the model which includes month as a independent variable is more suitable as it's R value = 0.923 which is greater than the R value of the model without month as a independent variable (0.897)."
      ]
    },
    {
      "cell_type": "markdown",
      "metadata": {
        "id": "b6eNQrxE7Xl0"
      },
      "source": [
        "# Task 4:"
      ]
    },
    {
      "cell_type": "code",
      "execution_count": 65,
      "metadata": {
        "id": "ikWBRoby7ZYc"
      },
      "outputs": [],
      "source": [
        "# Reading the File:\n",
        "df = pd.read_csv(\"/content/50_Startups.csv\")\n",
        "df1 = pd.read_csv(\"/content/50_Startups.csv\")\n"
      ]
    },
    {
      "cell_type": "markdown",
      "metadata": {
        "id": "93N6jw--FhI-"
      },
      "source": [
        "## EDA"
      ]
    },
    {
      "cell_type": "code",
      "execution_count": 40,
      "metadata": {
        "colab": {
          "base_uri": "https://localhost:8080/"
        },
        "id": "w2galvhpCJTX",
        "outputId": "39caff37-6e56-4ba4-cd4f-91ccff041b5e"
      },
      "outputs": [
        {
          "data": {
            "text/plain": [
              "250"
            ]
          },
          "execution_count": 40,
          "metadata": {},
          "output_type": "execute_result"
        }
      ],
      "source": [
        "# Size\n",
        "df.size"
      ]
    },
    {
      "cell_type": "code",
      "execution_count": 41,
      "metadata": {
        "colab": {
          "base_uri": "https://localhost:8080/"
        },
        "id": "Hneefhn_CK3f",
        "outputId": "9e112472-422f-44ef-b553-d4eeb15f65aa"
      },
      "outputs": [
        {
          "data": {
            "text/plain": [
              "(50, 5)"
            ]
          },
          "execution_count": 41,
          "metadata": {},
          "output_type": "execute_result"
        }
      ],
      "source": [
        "# Shape\n",
        "df.shape"
      ]
    },
    {
      "cell_type": "code",
      "execution_count": 42,
      "metadata": {
        "colab": {
          "base_uri": "https://localhost:8080/"
        },
        "id": "TLNt3fW3CPYP",
        "outputId": "ccea229e-86d3-464a-ab22-48aee7be6685"
      },
      "outputs": [
        {
          "data": {
            "text/plain": [
              "R&D Spend          float64\n",
              "Administration     float64\n",
              "Marketing Spend    float64\n",
              "State               object\n",
              "Profit             float64\n",
              "dtype: object"
            ]
          },
          "execution_count": 42,
          "metadata": {},
          "output_type": "execute_result"
        }
      ],
      "source": [
        "# Data Types\n",
        "df.dtypes"
      ]
    },
    {
      "cell_type": "code",
      "execution_count": 43,
      "metadata": {
        "colab": {
          "base_uri": "https://localhost:8080/",
          "height": 300
        },
        "id": "bb2CzCuUCQcA",
        "outputId": "045c6c5f-2594-47f5-e540-eb2c7d3c31cd"
      },
      "outputs": [
        {
          "data": {
            "text/html": [
              "\n",
              "  <div id=\"df-f7641fe5-e1da-4911-9a09-a0935daf9629\">\n",
              "    <div class=\"colab-df-container\">\n",
              "      <div>\n",
              "<style scoped>\n",
              "    .dataframe tbody tr th:only-of-type {\n",
              "        vertical-align: middle;\n",
              "    }\n",
              "\n",
              "    .dataframe tbody tr th {\n",
              "        vertical-align: top;\n",
              "    }\n",
              "\n",
              "    .dataframe thead th {\n",
              "        text-align: right;\n",
              "    }\n",
              "</style>\n",
              "<table border=\"1\" class=\"dataframe\">\n",
              "  <thead>\n",
              "    <tr style=\"text-align: right;\">\n",
              "      <th></th>\n",
              "      <th>R&amp;D Spend</th>\n",
              "      <th>Administration</th>\n",
              "      <th>Marketing Spend</th>\n",
              "      <th>Profit</th>\n",
              "    </tr>\n",
              "  </thead>\n",
              "  <tbody>\n",
              "    <tr>\n",
              "      <th>count</th>\n",
              "      <td>50.000000</td>\n",
              "      <td>50.000000</td>\n",
              "      <td>50.000000</td>\n",
              "      <td>50.000000</td>\n",
              "    </tr>\n",
              "    <tr>\n",
              "      <th>mean</th>\n",
              "      <td>73721.615600</td>\n",
              "      <td>121344.639600</td>\n",
              "      <td>211025.097800</td>\n",
              "      <td>112012.639200</td>\n",
              "    </tr>\n",
              "    <tr>\n",
              "      <th>std</th>\n",
              "      <td>45902.256482</td>\n",
              "      <td>28017.802755</td>\n",
              "      <td>122290.310726</td>\n",
              "      <td>40306.180338</td>\n",
              "    </tr>\n",
              "    <tr>\n",
              "      <th>min</th>\n",
              "      <td>0.000000</td>\n",
              "      <td>51283.140000</td>\n",
              "      <td>0.000000</td>\n",
              "      <td>14681.400000</td>\n",
              "    </tr>\n",
              "    <tr>\n",
              "      <th>25%</th>\n",
              "      <td>39936.370000</td>\n",
              "      <td>103730.875000</td>\n",
              "      <td>129300.132500</td>\n",
              "      <td>90138.902500</td>\n",
              "    </tr>\n",
              "    <tr>\n",
              "      <th>50%</th>\n",
              "      <td>73051.080000</td>\n",
              "      <td>122699.795000</td>\n",
              "      <td>212716.240000</td>\n",
              "      <td>107978.190000</td>\n",
              "    </tr>\n",
              "    <tr>\n",
              "      <th>75%</th>\n",
              "      <td>101602.800000</td>\n",
              "      <td>144842.180000</td>\n",
              "      <td>299469.085000</td>\n",
              "      <td>139765.977500</td>\n",
              "    </tr>\n",
              "    <tr>\n",
              "      <th>max</th>\n",
              "      <td>165349.200000</td>\n",
              "      <td>182645.560000</td>\n",
              "      <td>471784.100000</td>\n",
              "      <td>192261.830000</td>\n",
              "    </tr>\n",
              "  </tbody>\n",
              "</table>\n",
              "</div>\n",
              "      <button class=\"colab-df-convert\" onclick=\"convertToInteractive('df-f7641fe5-e1da-4911-9a09-a0935daf9629')\"\n",
              "              title=\"Convert this dataframe to an interactive table.\"\n",
              "              style=\"display:none;\">\n",
              "        \n",
              "  <svg xmlns=\"http://www.w3.org/2000/svg\" height=\"24px\"viewBox=\"0 0 24 24\"\n",
              "       width=\"24px\">\n",
              "    <path d=\"M0 0h24v24H0V0z\" fill=\"none\"/>\n",
              "    <path d=\"M18.56 5.44l.94 2.06.94-2.06 2.06-.94-2.06-.94-.94-2.06-.94 2.06-2.06.94zm-11 1L8.5 8.5l.94-2.06 2.06-.94-2.06-.94L8.5 2.5l-.94 2.06-2.06.94zm10 10l.94 2.06.94-2.06 2.06-.94-2.06-.94-.94-2.06-.94 2.06-2.06.94z\"/><path d=\"M17.41 7.96l-1.37-1.37c-.4-.4-.92-.59-1.43-.59-.52 0-1.04.2-1.43.59L10.3 9.45l-7.72 7.72c-.78.78-.78 2.05 0 2.83L4 21.41c.39.39.9.59 1.41.59.51 0 1.02-.2 1.41-.59l7.78-7.78 2.81-2.81c.8-.78.8-2.07 0-2.86zM5.41 20L4 18.59l7.72-7.72 1.47 1.35L5.41 20z\"/>\n",
              "  </svg>\n",
              "      </button>\n",
              "      \n",
              "  <style>\n",
              "    .colab-df-container {\n",
              "      display:flex;\n",
              "      flex-wrap:wrap;\n",
              "      gap: 12px;\n",
              "    }\n",
              "\n",
              "    .colab-df-convert {\n",
              "      background-color: #E8F0FE;\n",
              "      border: none;\n",
              "      border-radius: 50%;\n",
              "      cursor: pointer;\n",
              "      display: none;\n",
              "      fill: #1967D2;\n",
              "      height: 32px;\n",
              "      padding: 0 0 0 0;\n",
              "      width: 32px;\n",
              "    }\n",
              "\n",
              "    .colab-df-convert:hover {\n",
              "      background-color: #E2EBFA;\n",
              "      box-shadow: 0px 1px 2px rgba(60, 64, 67, 0.3), 0px 1px 3px 1px rgba(60, 64, 67, 0.15);\n",
              "      fill: #174EA6;\n",
              "    }\n",
              "\n",
              "    [theme=dark] .colab-df-convert {\n",
              "      background-color: #3B4455;\n",
              "      fill: #D2E3FC;\n",
              "    }\n",
              "\n",
              "    [theme=dark] .colab-df-convert:hover {\n",
              "      background-color: #434B5C;\n",
              "      box-shadow: 0px 1px 3px 1px rgba(0, 0, 0, 0.15);\n",
              "      filter: drop-shadow(0px 1px 2px rgba(0, 0, 0, 0.3));\n",
              "      fill: #FFFFFF;\n",
              "    }\n",
              "  </style>\n",
              "\n",
              "      <script>\n",
              "        const buttonEl =\n",
              "          document.querySelector('#df-f7641fe5-e1da-4911-9a09-a0935daf9629 button.colab-df-convert');\n",
              "        buttonEl.style.display =\n",
              "          google.colab.kernel.accessAllowed ? 'block' : 'none';\n",
              "\n",
              "        async function convertToInteractive(key) {\n",
              "          const element = document.querySelector('#df-f7641fe5-e1da-4911-9a09-a0935daf9629');\n",
              "          const dataTable =\n",
              "            await google.colab.kernel.invokeFunction('convertToInteractive',\n",
              "                                                     [key], {});\n",
              "          if (!dataTable) return;\n",
              "\n",
              "          const docLinkHtml = 'Like what you see? Visit the ' +\n",
              "            '<a target=\"_blank\" href=https://colab.research.google.com/notebooks/data_table.ipynb>data table notebook</a>'\n",
              "            + ' to learn more about interactive tables.';\n",
              "          element.innerHTML = '';\n",
              "          dataTable['output_type'] = 'display_data';\n",
              "          await google.colab.output.renderOutput(dataTable, element);\n",
              "          const docLink = document.createElement('div');\n",
              "          docLink.innerHTML = docLinkHtml;\n",
              "          element.appendChild(docLink);\n",
              "        }\n",
              "      </script>\n",
              "    </div>\n",
              "  </div>\n",
              "  "
            ],
            "text/plain": [
              "           R&D Spend  Administration  Marketing Spend         Profit\n",
              "count      50.000000       50.000000        50.000000      50.000000\n",
              "mean    73721.615600   121344.639600    211025.097800  112012.639200\n",
              "std     45902.256482    28017.802755    122290.310726   40306.180338\n",
              "min         0.000000    51283.140000         0.000000   14681.400000\n",
              "25%     39936.370000   103730.875000    129300.132500   90138.902500\n",
              "50%     73051.080000   122699.795000    212716.240000  107978.190000\n",
              "75%    101602.800000   144842.180000    299469.085000  139765.977500\n",
              "max    165349.200000   182645.560000    471784.100000  192261.830000"
            ]
          },
          "execution_count": 43,
          "metadata": {},
          "output_type": "execute_result"
        }
      ],
      "source": [
        "df.describe()"
      ]
    },
    {
      "cell_type": "markdown",
      "metadata": {
        "id": "1fCn2uOABz2e"
      },
      "source": [
        "### The Dependent variable is the Profit and the other variables are the columns other than the Stock_Index_Price.\n",
        "### We need to see which Independent variables best describe the Dependent variable by eliminating the redundant ones which don't express the IV at all."
      ]
    },
    {
      "cell_type": "markdown",
      "metadata": {
        "id": "Bh1sCPt3C2O9"
      },
      "source": [
        "# Conclusion:\n",
        "## We notice that from the pair plot given below, the correlation of Administration and State (Independent variables) with the Profit(Dependent Variable) doesn't give us essential information to proceed and build models based on them.\n",
        "\n",
        "## Whereas, R&D Spend and Marketing Spend on the other hand, give us valuable information to proceed build models with Dependent Variables.\n",
        "\n",
        "## The graphs of Administration and State show a constant slope with no variations in them, hence they don't describe the independent variable effectively at all."
      ]
    },
    {
      "cell_type": "code",
      "execution_count": 39,
      "metadata": {
        "colab": {
          "base_uri": "https://localhost:8080/",
          "height": 885
        },
        "id": "pZGg2r749t91",
        "outputId": "ee79fe8b-97d0-4602-9848-5d3070a3eb51"
      },
      "outputs": [
        {
          "data": {
            "text/plain": [
              "<seaborn.axisgrid.PairGrid at 0x7ff98945ae20>"
            ]
          },
          "execution_count": 39,
          "metadata": {},
          "output_type": "execute_result"
        },
        {
          "data": {
            "image/png": "[encoded data removed]",
            "text/plain": [
              "<Figure size 864x864 with 20 Axes>"
            ]
          },
          "metadata": {
            "needs_background": "light"
          },
          "output_type": "display_data"
        }
      ],
      "source": [
        "sns.pairplot(df, height = 3, diag_kind = 'hist')"
      ]
    },
    {
      "cell_type": "code",
      "execution_count": 53,
      "metadata": {
        "colab": {
          "base_uri": "https://localhost:8080/"
        },
        "id": "-Sd_qGmiEeGx",
        "outputId": "8d31f588-8606-4d3f-e6ba-9e0f85d7468b"
      },
      "outputs": [
        {
          "name": "stdout",
          "output_type": "stream",
          "text": [
            "R Square Value :  0.9507459940683246\n",
            "Intercept (b0) : 50122.19298986524\n",
            "\n",
            "0.8057150499157437\n",
            "-0.02681596839475075\n",
            "0.027228064800818817\n",
            "50124.59331839763\n",
            "50123.970260932314\n"
          ]
        }
      ],
      "source": [
        "x = np.array(df[['R&D Spend', 'Administration', 'Marketing Spend']])\n",
        "y = np.array(df['Profit'])\n",
        "reg_model = LinearRegression()\n",
        "\n",
        "reg_model.fit(x, y)\n",
        "\n",
        "r_sq = reg_model.score(x, y)\n",
        "print(\"R Square Value : \", r_sq)\n",
        "b0 = reg_model.intercept_\n",
        "b1 = reg_model.coef_[0]\n",
        "b2 = reg_model.coef_[1]\n",
        "b3 = reg_model.coef_[2]\n",
        "\n",
        "print(\"Intercept (b0) :\", reg_model.intercept_)\n",
        "print()\n",
        "print(b1)\n",
        "print(b2)\n",
        "print(b3)\n",
        "y_pred = b0 + b1*2.75 + b2 * 5.3 + b3 * 12\n",
        "print(y_pred)\n",
        "y_pred = b0 + b1*2 + b2 * 6 + b3 * 12\n",
        "print(y_pred)"
      ]
    },
    {
      "cell_type": "markdown",
      "metadata": {
        "id": "hv8L6Oc-UkD_"
      },
      "source": [
        "## Hence we can conclude that the Multiple Regression model with the respective columns are helpful in building a good model (with r value 0.95)."
      ]
    },
    {
      "cell_type": "code",
      "execution_count": 55,
      "metadata": {
        "colab": {
          "base_uri": "https://localhost:8080/"
        },
        "id": "VL0i8JTEH43x",
        "outputId": "d03eab9a-cec1-460f-f521-2c78328ce51f"
      },
      "outputs": [
        {
          "name": "stdout",
          "output_type": "stream",
          "text": [
            "                                 OLS Regression Results                                \n",
            "=======================================================================================\n",
            "Dep. Variable:                      y   R-squared (uncentered):                   0.987\n",
            "Model:                            OLS   Adj. R-squared (uncentered):              0.987\n",
            "Method:                 Least Squares   F-statistic:                              1232.\n",
            "Date:                Thu, 09 Feb 2023   Prob (F-statistic):                    1.17e-44\n",
            "Time:                        12:35:27   Log-Likelihood:                         -545.82\n",
            "No. Observations:                  50   AIC:                                      1098.\n",
            "Df Residuals:                      47   BIC:                                      1103.\n",
            "Df Model:                           3                                                  \n",
            "Covariance Type:            nonrobust                                                  \n",
            "==============================================================================\n",
            "                 coef    std err          t      P>|t|      [0.025      0.975]\n",
            "------------------------------------------------------------------------------\n",
            "x1             0.7180      0.065     11.047      0.000       0.587       0.849\n",
            "x2             0.3277      0.031     10.458      0.000       0.265       0.391\n",
            "x3             0.0822      0.022      3.733      0.001       0.038       0.126\n",
            "==============================================================================\n",
            "Omnibus:                        0.665   Durbin-Watson:                   1.361\n",
            "Prob(Omnibus):                  0.717   Jarque-Bera (JB):                0.749\n",
            "Skew:                          -0.126   Prob(JB):                        0.688\n",
            "Kurtosis:                       2.456   Cond. No.                         9.76\n",
            "==============================================================================\n",
            "\n",
            "Notes:\n",
            "[1] R² is computed without centering (uncentered) since the model does not contain a constant.\n",
            "[2] Standard Errors assume that the covariance matrix of the errors is correctly specified.\n"
          ]
        }
      ],
      "source": [
        "import statsmodels.api as sm\n",
        "results = sm.OLS(y, x).fit()\n",
        "print(results.summary())"
      ]
    },
    {
      "cell_type": "markdown",
      "metadata": {
        "id": "8QZKGirFUvT4"
      },
      "source": [
        "# Conclusion\n",
        "## From the above experiment, I learnt the following:\n",
        "1.\tImplement multiple linear regression by using sklearn package statsmodels.\n",
        "2.\tInterpret the results obtained from different models and choose the best model for the given data set using R values and P with reference to L.O.S.\n"
      ]
    }
  ],
  "metadata": {
    "colab": {
      "provenance": []
    },
    "kernelspec": {
      "display_name": "Python 3",
      "name": "python3"
    },
    "language_info": {
      "name": "python"
    }
  },
  "nbformat": 4,
  "nbformat_minor": 0
}
