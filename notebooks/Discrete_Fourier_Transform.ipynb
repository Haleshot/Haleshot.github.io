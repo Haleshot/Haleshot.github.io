{
 "cells": [
  {
   "cell_type": "code",
   "execution_count": 15,
   "metadata": {
    "id": "a3ljTpIvnX-R"
   },
   "outputs": [],
   "source": [
    "# import libraries\n",
    "import pandas as pd\n",
    "import numpy as np\n",
    "import matplotlib.pyplot as plt\n",
    "import cv2 # You can also use PIL as alternative.\n",
    "from google.colab.patches import cv2_imshow\n",
    "import math"
   ]
  },
  {
   "cell_type": "markdown",
   "metadata": {
    "id": "x6OnR1JJhCez"
   },
   "source": [
    "# Task"
   ]
  },
  {
   "cell_type": "code",
   "execution_count": 7,
   "metadata": {
    "id": "TmxWPyVHfJzn"
   },
   "outputs": [],
   "source": [
    "# Defining an array:\n",
    "x = np.array([1, 2, 1, 2])"
   ]
  },
  {
   "cell_type": "markdown",
   "metadata": {
    "id": "jruJKdW0hVLl"
   },
   "source": [
    "## Formulae used to implement in user defined functions:\n",
    "### DFT\n",
    "![image.png](data:image/png;base64,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)\n",
    "\n",
    "### Inverse DFT:\n",
    "![image.png](data:image/png;base64,iVBORw0KGgoAAAANSUhEUgAAAWAAAABUCAYAAAC8/e1DAAAAAXNSR0IArs4c6QAAAARnQU1BAACxjwv8YQUAAAAJcEhZcwAAEnQAABJ0Ad5mH3gAAA4+SURBVHhe7Z0/lqpME8brfmsRA48r0BWoidGkZhpqYmZoNomEmk1qZKJEb6gr8BgM7MWvqrtRUFT+jaA+v3O4c2UGhO7mobq6uvrfkSEAAABP53/mJwAAgCcDAQYAgIKAAAMAQEFAgAEAoCAgwAAAUBAQYAAAKAgIMAAAFAQEGAAACgICDAAABQEBBgCAgoAAAwBAQUCAAQCgICDAAABQEBBgAAAoCAgwAAAUBAQYAAAKAgIMSoJHdvMf/fsn24Acs/cunk1N+fumzUcD8HpAgEFBODQICK1nfxP9HEkWaNn0F9SOI6qVIW2PG+p/dahidgHwSmBJIlA+xLK1DjQ5zqlldt3Cswe07sxpCAUGLwgs4LxwBqr73LSDdptYeaZbPXjcqXYGl8e/K8bdcMvKrVSpbv7rI0Kr3A2BrWn/R+sD0aEX3GfrMlfn5vK/9z0AFAwEOC9aczpu+rRbrgMPe4vm7oz6M5eO8/u2nGc3qb0wH96eCg0nfWrcch14v0Sz8dn6dWz6ro7pZ9agmevSrDEjlztu286eltSl+Y+U8UbvGw5pzvXQ+KqSaxON+XeN3YFccyoAygQEOE+sGj/sI/oOGrv85Nc6j/vHleGWXBaYT8FZ7enrRrk4axbOoE+hxaLacul7+UUd95sORri99ZIt5RU1v6s0H7ZOYi7nJraMLdnnHmjX7z50ZQBQBBBgg8dWlj1ocjc25gh8BB4Lx4Str8XqfAYx5mLo74fh0Gpfp2pEuUhPYFUdXlnGnj3lwh2SuyLqKnH2aL2sU23cpfpiFagzPjf3JL7GWpAd/tDvQn5BOYEAM/LQ96YjGi12Zk8aWBCoSq1Wl/onQZB9GKG/gt9K+/q1VarqgX7Y2pVPDtm+P9wZkMXW77glwl0j/gU5zjeN+BzDikW1xoJWjvl7Z0WL/kQPynk2TRd9gv6CsgIBZqT7v91K+JPZkQYxf6vypLeo2xdBMPtO5m8wzvViizFA904o18GFKsoApDXa0W5kmXJhi1eVnUOD9p5mP2wVi3DvlspCFjNXW7YV6nw1aDH9pQ6rbsjiFfeDeHUwAgdKCsLQAogItNli2sQIf7rEY6vMHQ71cRIRserSpvZLFu+LawH7FuD2rWOq5EXUI/rZInQMfDywgHPBuB/MJ1JuiDZN4X4IwJbswCaPewXLunERAPDhQICzouJ/LRqN2nT2JLRoPGvcHOWPQqxfvwv+nrHAFtX2I7J6B5o8CMkD4FOACyJAFhcEAAAkBRYwAAAUBAQYPIWryI8nbwCUEQgweAri6SpyA6CMQIAz4Sm/cZTFlWb7jEQ8AAAfCPAJj37N/35j62CFWnNJDmM+KiRhTLQVFrm5G+p/TgqIZOSQYQ6AUsMikB53dmTtkP7daetvzO/isumHjk91jqxEXAMlugj3yCIcOL5xZBFOgD6+keyg+MSpp2AZNGZ8RRcUVU/yvZfXw/fT/6uyAuCJ5GIBs3CcLLrEIZ6SxtG3BjPNBc5A8Br8LdGNVGi4DVrCOxpZTYrvUdDTaetR2WmuCFiAV5ZgxHTngJV4t55UGeh7iEwTWVQ9Zcgw9xmIG0ySSOn6bnJ9J3FkpU1C5XHv5JyfuZn4e3PB9JD8LbpDFPFMZMgPnUfSrhD8QKXHWFa5WW7Gynq6BZwbGSxhLstZ7Pt2RQNvlNXmyPJ4bPAvXP+749aT+buH5f/EenJns+NGvi/wZbIP9q9GtYNTD4Hbn3yOWTHurHFsnNprn1tOTCJ6Q2qL6jk9AZevR9rt/edNnot+wp5pmNTldQcIcO5kdUfExJR9+GGT7474vpj1JA0sVsN6Wj3x/ai3kn549NfJvr8o0BdE1cNFfcd9iQbQL/O4gqLbWH9z/lJ3Y9riU9pENL5Bcvs+5LrzEc1k5XUfDMLlTrQ7Irp7lIFKh77kO/a/pjvFXa2BLGyZNsmN5NfdcbsqUfLyhxnmPhvJ/EaNr3BxmHYRzEmdK1L+ky3NW+cvrbSGtGVVKpYG9dVodswFXUvCXQH2PFlTqxnyI57W5npwk8HwrNMotmfrNbr+/YEglQotwuc2uaNFO+971n5j2i1p7ZkMY+MMi1NKkhylv63r0LrYDdojJ7R2WxI/+DUn/WVaXZ3oXlbLyKq/kncj1C5T49+v+AMDvtjmINN9x0Mnnqd69cJfX6GqLKgXSlKfI5UhDSPe0N7vnv8tNvdybbzVz9xuRNaLCMxtAXYGZFltWuz4qVxMVYNyBgNyO3Paiutiez/NYmvOf+PO+L1kktLw+QbrKo23G64mFqSEb+i48bbliaXVIWp/KcIV9aSJhZ09vaPk6N2ZB0hfN1sUsw25ElL3oK4V6mVt0fRQo4kKw5NeAF9baPQsCeXPMOcMLGqPFlxue1rZLlnzrW7zu0Ws+87UpiU3Mv9o1Cz9OYBVU12jBOGU2XEPO2rMAuv4FcQpLJTbSnm04A7GFXGTk4O7EeHAfuBbVD5Fcczz3818n9G9Y97CB3zJecBMbbkOVOgBt4eDLg99wOIf888j1/tgsOKqnqKuI3jOhJjzX7YFaU93r6sAdN0G/YHmvv96QOpOnWpffvyyur6HhKhryccnmhY2GAL3a9pjqHxe1AdcaY21r5FqCbt+2qfYYCNtve5wt0UfrC2tZKkaX5vgZI0+beJYk7EQt8OU9nLezN1Nl9iAYWuK+JwWrbrJXBnOgHtKcm+B2DbP7tFoF94Xm0DIW/BwWbkEeYQfI9YoUfSae/nD7bC3pC+3TBkE9Wrk8mhIetfHvc6I0M68wsweEGMQzvc1Jlza2/gUd9xPkqVizE490HM5cPAEwoWbbUuMrF+2kxlyeTVS4/P92dKPejuaAaq0yDpq/GO3XMliwrRP1Hc1vkgZvPM8HR/a/EfWsk6bUj2Ub0alyhIrj2WxC+579jcdJiV8MVbOA4Pi+iurNyKGADu0PtT5bZLsIdeWLj+Xk4DFZ0Q5MtD/AVl9wL5FlceWCM+mZpvtw01ejfQsvnK+SudLvemTiWYYPZo+I3c7py4/1bvlmr8lJka8xef2r9ej3qpGkx+XjnyuwEA5iCBbm5bFSPnHKQrGxyM9Hvb30Sx6Ca1x8slXz4J7Uq7qeupxkqXeGwFbzFfP+XOMh4cC7Ni/1JlrN0T8gTM/pGkTqpws7gc1qHdVSNdbudZT466NNSI2ffNppJ5zHWpmwo4SiWYIbcH6L0WJNkjc22H6Gy7/7Za28yELr744x36dcKAiyNamKzScSF1JFIzZJQSiWf4SiYb6vlq/UIyD53Td4yJuK20I70jiCcpGpACrMJ2Bo6bd/XbEgjWhLfK2ldHuR06VyEZwdj9U13apKulvkMbYpgW/hLK/FEzX3ppGhJqZulHTdVPInbJgAy9FmfprejtS/4NH55ToBP6xmHKd+n8qL4pms7Rr4vnhYk07ays01mYo4kD709O8xBLTGp8iTdTXS7n3RrQLGT7SDsWSbtIg0pK+l4Qq+li9fNaCFqcVrP3NolHdt7xvHGumDwet+iz7NLoebnljrhNmZSFN0q478Bv2Cn8UNTjbRUam+R70FFez6+ZIrBrFvhwlNCOTMhJ58ecn3igK4hQBYj6nJhARoLdguZ5He89bsplwakQ3dJ1mFP+y/oNc1hOfv6+O0cc1+rPbdVw4waiULFEVfjkFz3VZH/mMlN9H7keeV30N/Vng+VQEr/Pieq7aFm+hh+/6WK0Ngb+/2M6HR3+vRFXJvmBbzLTv6npulbnUTcb6eFheyYkU4NjcebBTYW7w5QVY3UfGys4T1FMkEm736k0tCVnut6hj350Yg3AgEWrQbZ8q4kG6/Gm8CCANDq1qJZp2/ddwu1zVUk6UKOrYDwACnCt60K2eMuLBXR3EpQv+GJVS0LFoHjWn9u2Q6dJ8v26H7zdp4yrq2A/CWMLpMF1bOY2/Je6WRvhVntW1DfuPIvyBV9d2z2eofV6pu/mqLP+oq/bi9QTAu/JP/uGH6aPRo7oyl92NiFiQWTJt2kf+7ozEdLZpkzCRO+OxpbD+pqnkFFCxuHnNlAMAlB0IMHeVJLb2sF/QgiIEUEJf2kSbO4HZvoBnpp9CwAEALwt8wN6aDtSlsZ7NEA5qZ9QssXuziligcxFfAMDHAQF2DyQ5GCvDiUqTGU4jqAO8b88qYut5qibi5kJUakEAwPvy8QLsrJT+MrLqAv8IZhZTM/ruJZmWxOvXU0fTbtlnzAEAXokPF2CHVnR2L6g8CIGkQyp3RZmW6AEAvBWfLcBn81fj5zVQCqxzV/x1UhMAwOfy0QIs+ht2uwbcEA/dDxfIDDhJSJJ0QUD/uIzrpwEAXo8PFmBxP1yv8uG7Iaa9JdEswRRKSQB93FA/Ua5jz6wmID7gCR16SN8IwCfxuQLs/bL5GyGWxg0huUOT5i32bJb0JMfIShn1iZm2zNZ3XVJKqt8AAD6ADxVgsTxHFL1oVovGswYlXzbJo/WB2Ir1c6NG5S0NI0t5B0PPZDXbLCtbAABei48TYL0MjEUyd2LRjhZJtcxP0mWTxGdMXZr/zPRy7iqsTBa5PAtyaMtzfXoAwEuCqcg5IdORvw912rMIb2NOJ5ZjeoFlXS4/AwDem4+OgsgPCVmrU23cpXpoiXjvrgVcqdZDq9rKcuL156wlDgAoAbCA80AS9qy6dJxbLLgWHSYbqv1aNHxoyYpAmxWOySb9X2RDA+BTgADngPiVV92jWghRZUZbfsVPKylxwNZIrRY9c/Nauh4A8ApAgAEAoCDgAwYAgIKAAAMAQEFAgAEAoCAgwAAAUBAQYAAAKAgIMAAAFAQEGAAACgICDAAABQEBBgCAgoAAAwBAQUCAAQCgICDAAABQEBBgAAAoCAgwAAAUAtH/AQpc01GoQWzAAAAAAElFTkSuQmCC)"
   ]
  },
  {
   "cell_type": "markdown",
   "metadata": {
    "id": "w-wEEQljh4Z5"
   },
   "source": [
    "### Twiddle Factor matrix for a certain N value (in our case N = 4):\n",
    "![image.png](data:image/png;base64,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)"
   ]
  },
  {
   "cell_type": "markdown",
   "metadata": {
    "id": "dJmNB4lvjrg2"
   },
   "source": [
    "### Obtaining Twiddle factor matrix for Forward DFT:"
   ]
  },
  {
   "cell_type": "code",
   "execution_count": 8,
   "metadata": {
    "colab": {
     "base_uri": "https://localhost:8080/"
    },
    "id": "pcOjR8hHhmwO",
    "outputId": "d3981159-699c-4e76-d8f1-4096d40d7467"
   },
   "outputs": [
    {
     "name": "stdout",
     "output_type": "stream",
     "text": [
      "[[ 1.+0.j  1.+0.j  1.+0.j  1.+0.j]\n",
      " [ 1.+0.j  0.-1.j -1.+0.j  0.+1.j]\n",
      " [ 1.+0.j -1.+0.j  1.+0.j -1.+0.j]\n",
      " [ 1.+0.j  0.+1.j -1.+0.j  0.-1.j]]\n"
     ]
    }
   ],
   "source": [
    "N = 4\n",
    "l = np.zeros((4, 4), dtype = complex) # We get the values in cosθ - jsinθ due to which we need the array to be of complex datatypes.\n",
    "for i in range(N):\n",
    "  for j in range(N):\n",
    "    real_part = int(math.cos(2 * math.pi * i * j/N)) \n",
    "    img_part = int(math.sin(2 * math.pi * i * j/N)) * -1\n",
    "    l[i, j] = complex(real_part, img_part)\n",
    "print(l)"
   ]
  },
  {
   "cell_type": "markdown",
   "metadata": {
    "id": "Ny4_3XSijpAW"
   },
   "source": [
    "### Getting DFT for above DFT twiddle factor matrix:"
   ]
  },
  {
   "cell_type": "code",
   "execution_count": 9,
   "metadata": {
    "colab": {
     "base_uri": "https://localhost:8080/"
    },
    "id": "HR667Q06jNSu",
    "outputId": "44401b98-4dda-44a1-ebfb-afb0e0c28253"
   },
   "outputs": [
    {
     "name": "stdout",
     "output_type": "stream",
     "text": [
      "[ 6.+0.j  0.+0.j -2.+0.j  0.+0.j]\n"
     ]
    }
   ],
   "source": [
    "A = np.dot(l, np.transpose(x))\n",
    "print(A)"
   ]
  },
  {
   "cell_type": "markdown",
   "metadata": {
    "id": "4n-wYvWpkE6R"
   },
   "source": [
    "### Obtaining Twiddle factor matrix for Inverse DFT:"
   ]
  },
  {
   "cell_type": "code",
   "execution_count": 10,
   "metadata": {
    "colab": {
     "base_uri": "https://localhost:8080/"
    },
    "id": "TPeIdVNJj6cw",
    "outputId": "dfaa5280-96b7-4cfa-8cb1-6f756a73bc78"
   },
   "outputs": [
    {
     "name": "stdout",
     "output_type": "stream",
     "text": [
      "[[ 1.+0.j  1.+0.j  1.+0.j  1.+0.j]\n",
      " [ 1.+0.j  0.+1.j -1.+0.j  0.-1.j]\n",
      " [ 1.+0.j -1.+0.j  1.+0.j -1.+0.j]\n",
      " [ 1.+0.j  0.-1.j -1.+0.j  0.+1.j]]\n"
     ]
    }
   ],
   "source": [
    "N = 4\n",
    "inv_l = np.zeros((4, 4), dtype = complex) # We get the values in cosθ - jsinθ due to which we need the array to be of complex datatypes.\n",
    "for i in range(N):\n",
    "  for j in range(N):\n",
    "    real_part = int(math.cos(2 * math.pi * i * j/N)) \n",
    "    img_part = int(math.sin(2 * math.pi * i * j/N))\n",
    "    inv_l[i, j] = complex(real_part, img_part)\n",
    "print(inv_l)"
   ]
  },
  {
   "cell_type": "markdown",
   "metadata": {
    "id": "ke89rxOekUHy"
   },
   "source": [
    "### Getting Invserse DFT for above Inverse DFT twiddle factor matrix:"
   ]
  },
  {
   "cell_type": "code",
   "execution_count": 11,
   "metadata": {
    "colab": {
     "base_uri": "https://localhost:8080/"
    },
    "id": "dU9hJQ5LkOti",
    "outputId": "b2308d43-6c39-4c1f-b262-bb13db153d9f"
   },
   "outputs": [
    {
     "name": "stdout",
     "output_type": "stream",
     "text": [
      "[1.+0.j 2.+0.j 1.+0.j 2.+0.j]\n"
     ]
    }
   ],
   "source": [
    "B = np.dot(inv_l, A)/N\n",
    "print(B)"
   ]
  },
  {
   "cell_type": "markdown",
   "metadata": {
    "id": "CyxFtxzOkset"
   },
   "source": [
    "## Comparing the above values of user defined algorithms to find DFT and FFT with the built in Transform functions of Numpy"
   ]
  },
  {
   "cell_type": "code",
   "execution_count": 13,
   "metadata": {
    "colab": {
     "base_uri": "https://localhost:8080/"
    },
    "id": "OtdVaoAak0Me",
    "outputId": "46d5e6ef-09be-4924-f968-bb272f8b39af"
   },
   "outputs": [
    {
     "name": "stdout",
     "output_type": "stream",
     "text": [
      "[ 6.+0.j  0.+0.j -2.+0.j  0.+0.j]\n"
     ]
    }
   ],
   "source": [
    "P = np.fft.fft(x) # Obtaining the Forward Fourier Transform for the given sequence using numpy.fft.fft\n",
    "Q = np.fft.ifft(x) # Obtaining the Inverse Fourier Transform for the given sequence using numpy.fft.ifft\n",
    "print(P)"
   ]
  },
  {
   "cell_type": "code",
   "execution_count": 14,
   "metadata": {
    "colab": {
     "base_uri": "https://localhost:8080/"
    },
    "id": "kb9QVQXwmkCb",
    "outputId": "0489975d-b62d-4847-d088-de76b49fdd3f"
   },
   "outputs": [
    {
     "name": "stdout",
     "output_type": "stream",
     "text": [
      "[ 1.5+0.j  0. +0.j -0.5+0.j  0. +0.j]\n"
     ]
    }
   ],
   "source": [
    "print(Q)"
   ]
  },
  {
   "cell_type": "markdown",
   "metadata": {
    "id": "uvRZyZDEljB8"
   },
   "source": [
    "# Hence from the given cell references, we see that the built in function answer and the one defined in Numpy match.\n",
    "## User Defined answers in cells:\n",
    "\n",
    "\n",
    "1.   [Forward Fourier Transform](#scrollTo=HR667Q06jNSu&line=1&uniqifier=1)\n",
    "2.   [Inverse Fourier Transform](#scrollTo=dU9hJQ5LkOti&line=2&uniqifier=1)\n",
    "\n",
    "## Built in functions answers cells\n",
    "1.   [Forward Fourier Transform](#scrollTo=OtdVaoAak0Me&line=3&uniqifier=1)\n",
    "2.   [Inverse Fourier Transform](#scrollTo=kb9QVQXwmkCb&line=1&uniqifier=1)\n",
    "\n"
   ]
  },
  {
   "cell_type": "markdown",
   "metadata": {
    "id": "3ELrWT1zmyhk"
   },
   "source": [
    "# From the above experiment, I learnt the following:\n",
    "1.\tObtaining the twiddle factor matrix .\n",
    "2.\tTo find the DFT and IDFT of a given sequence using twiddle factor matrix.  \n",
    "3.\tTo compute the DFT and IDFT using matrix method/user defined and built in fft and ifft function.\n",
    "4. Implement Forward and inverse DFT on the given sequence."
   ]
  }
 ],
 "metadata": {
  "colab": {
   "provenance": []
  },
  "kernelspec": {
   "display_name": "Python 3 (ipykernel)",
   "language": "python",
   "name": "python3"
  },
  "language_info": {
   "codemirror_mode": {
    "name": "ipython",
    "version": 3
   },
   "file_extension": ".py",
   "mimetype": "text/x-python",
   "name": "python",
   "nbconvert_exporter": "python",
   "pygments_lexer": "ipython3",
   "version": "3.9.13"
  }
 },
 "nbformat": 4,
 "nbformat_minor": 1
}
