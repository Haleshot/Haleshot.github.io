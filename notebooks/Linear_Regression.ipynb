{
  "cells": [
    {
      "cell_type": "code",
      "execution_count": 18,
      "metadata": {
        "id": "Yh_w9ad9Y224"
      },
      "outputs": [],
      "source": [
        "# import libraries\n",
        "import matplotlib.pyplot as plt\n",
        "import numpy as np\n",
        "import pandas as pd\n",
        "import seaborn as sns\n"
      ]
    },
    {
      "cell_type": "markdown",
      "metadata": {
        "id": "4RcTZeF8abbe"
      },
      "source": [
        "# Task 1:\n",
        "\n",
        "![image.png](data:image/png;base64,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)"
      ]
    },
    {
      "cell_type": "code",
      "execution_count": 40,
      "metadata": {
        "colab": {
          "base_uri": "https://localhost:8080/",
          "height": 351
        },
        "id": "BvyIARHPY5Ff",
        "outputId": "2c9cab84-c7f2-47b8-dcdc-71ef6bb375aa"
      },
      "outputs": [
        {
          "name": "stderr",
          "output_type": "stream",
          "text": [
            "/usr/local/lib/python3.8/dist-packages/seaborn/_decorators.py:36: FutureWarning: Pass the following variables as keyword args: x, y. From version 0.12, the only valid positional argument will be `data`, and passing other arguments without an explicit keyword will result in an error or misinterpretation.\n",
            "  warnings.warn(\n"
          ]
        },
        {
          "data": {
            "text/plain": [
              "Text(0, 0.5, 'Variable y')"
            ]
          },
          "execution_count": 40,
          "metadata": {},
          "output_type": "execute_result"
        },
        {
          "data": {
            "image/png": "[encoded data removed]",
            "text/plain": [
              "<Figure size 432x288 with 1 Axes>"
            ]
          },
          "metadata": {
            "needs_background": "light"
          },
          "output_type": "display_data"
        }
      ],
      "source": [
        "x= np.array([5, 15, 25, 35, 45, 55])\n",
        "y= np.array([11, 16, 18, 30, 22, 38])\n",
        "sns.scatterplot(x, y)\n",
        "\n",
        "plt.xlabel('Variable X')\n",
        "plt.ylabel('Variable y')"
      ]
    },
    {
      "cell_type": "markdown",
      "metadata": {
        "id": "NvuGlK4nlMG_"
      },
      "source": [
        "## Calculation of b1 and b0 values."
      ]
    },
    {
      "cell_type": "code",
      "execution_count": 12,
      "metadata": {
        "colab": {
          "base_uri": "https://localhost:8080/"
        },
        "id": "B7tmTH4pjXYs",
        "outputId": "3b0bab0d-4742-459c-e25b-f5eafcaf6bbf"
      },
      "outputs": [
        {
          "name": "stdout",
          "output_type": "stream",
          "text": [
            "Slope b1 is =  nan\n",
            "Intercept b0 is =  nan\n"
          ]
        },
        {
          "name": "stderr",
          "output_type": "stream",
          "text": [
            "<ipython-input-12-90802575e296>:11: RuntimeWarning: invalid value encountered in double_scalars\n",
            "  b1 = ((x_mean * y_mean) - np.mean(xy))/((x_mean)**2 - x_square_mean)\n"
          ]
        }
      ],
      "source": [
        "x_mean = np.mean(x)\n",
        "y_mean = np.mean(y)\n",
        "\n",
        "xy = x * y\n",
        "\n",
        "xy_mean = np.mean(xy)\n",
        "x_square = x**2\n",
        "x_square_mean = np.mean(x_square)\n",
        "\n",
        "# Using Formula given in reference PDF:\n",
        "b1 = ((x_mean * y_mean) - np.mean(xy))/((x_mean)**2 - x_square_mean)\n",
        "print('Slope b1 is = ', b1)\n",
        "\n",
        "\n",
        "b0 = y_mean - b1 * x_mean\n",
        "print('Intercept b0 is = ', b0)\n"
      ]
    },
    {
      "cell_type": "markdown",
      "metadata": {
        "id": "QBp_DDvqlxje"
      },
      "source": [
        "## Calculation of r square value."
      ]
    },
    {
      "cell_type": "code",
      "execution_count": 6,
      "metadata": {
        "colab": {
          "base_uri": "https://localhost:8080/"
        },
        "id": "l2BUIp56ckD6",
        "outputId": "be38a2da-9edd-4fbd-c8f0-d9fea8017171"
      },
      "outputs": [
        {
          "name": "stdout",
          "output_type": "stream",
          "text": [
            "[ 0.08163265  0.32653061  4.59183673 26.44897959 57.32653061 13.79591837]\n",
            "[132.25  42.25  20.25  56.25   0.25 240.25]\n",
            "R square is 0.7913094027030956\n"
          ]
        }
      ],
      "source": [
        "# Formula:\n",
        "y_pred = b1 * x + b0\n",
        "error = y - y_pred\n",
        "n = np.size(x)\n",
        "\n",
        "se = (y - y_pred)**2\n",
        "\n",
        "mse = (y - y_mean)**2\n",
        "\n",
        "sse = np.sum(se)\n",
        "ssr = np.sum(mse)\n",
        "\n",
        "# Using Formula given in reference PDF:\n",
        "r_sq = 1 - (sse/ssr)\n",
        "\n",
        "print(se)\n",
        "\n",
        "print(mse)\n",
        "\n",
        "print('R square is', r_sq)"
      ]
    },
    {
      "cell_type": "code",
      "execution_count": 7,
      "metadata": {
        "colab": {
          "base_uri": "https://localhost:8080/",
          "height": 296
        },
        "id": "7C-1RUJ0fVwA",
        "outputId": "8123ac0f-6689-42c7-95b7-8ef6dc5935a6"
      },
      "outputs": [
        {
          "data": {
            "text/plain": [
              "Text(0, 0.5, 'y')"
            ]
          },
          "execution_count": 7,
          "metadata": {},
          "output_type": "execute_result"
        },
        {
          "data": {
            "image/png": "[encoded data removed]",
            "text/plain": [
              "<Figure size 432x288 with 1 Axes>"
            ]
          },
          "metadata": {
            "needs_background": "light"
          },
          "output_type": "display_data"
        }
      ],
      "source": [
        "plt.scatter(x, y, color = 'blue')\n",
        "plt.plot(x, y_pred, color = 'green') # Plotting the Regression line\n",
        "plt.xlabel('X')\n",
        "plt.ylabel('y')\n",
        "\n"
      ]
    },
    {
      "cell_type": "code",
      "execution_count": 14,
      "metadata": {
        "colab": {
          "base_uri": "https://localhost:8080/"
        },
        "id": "IfhquM4mdpXw",
        "outputId": "bf7891af-20cb-4f27-beb9-a836f6974887"
      },
      "outputs": [
        {
          "name": "stdout",
          "output_type": "stream",
          "text": [
            "[nan]\n"
          ]
        }
      ],
      "source": [
        "# Formula:\n",
        "x = np.array([20])\n",
        "y_pred = b1 * x + b0\n",
        "\n",
        "print(y_pred)"
      ]
    },
    {
      "cell_type": "markdown",
      "metadata": {
        "id": "v8zgcworffu5"
      },
      "source": [
        "# Task 2:\n",
        "\n",
        "![image.png](data:image/png;base64,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)"
      ]
    },
    {
      "cell_type": "code",
      "execution_count": 41,
      "metadata": {
        "id": "e684ytIBfgwv"
      },
      "outputs": [],
      "source": [
        "# import libraries\n",
        "from sklearn.linear_model import LinearRegression"
      ]
    },
    {
      "cell_type": "code",
      "execution_count": 42,
      "metadata": {
        "colab": {
          "base_uri": "https://localhost:8080/"
        },
        "id": "RVmh429HfoOw",
        "outputId": "14f5cc77-4ef9-4299-a015-0d58c3998b78"
      },
      "outputs": [
        {
          "name": "stdout",
          "output_type": "stream",
          "text": [
            "[[ 5]\n",
            " [15]\n",
            " [25]\n",
            " [35]\n",
            " [45]\n",
            " [55]]\n",
            "\n",
            "[11 16 18 30 22 38]\n"
          ]
        }
      ],
      "source": [
        "# Converting the X array initialized in Task 1 to a 2D array.\n",
        "x = x.reshape((-1, 1))\n",
        "\n",
        "print(x)\n",
        "print()\n",
        "print(y)"
      ]
    },
    {
      "cell_type": "code",
      "execution_count": 43,
      "metadata": {
        "id": "F3mZ9DsMfyNQ"
      },
      "outputs": [],
      "source": [
        "reg_model = LinearRegression()\n",
        "reg_model.fit(x, y)\n",
        "\n",
        "reg_model = LinearRegression().fit(x, y)"
      ]
    },
    {
      "cell_type": "markdown",
      "metadata": {
        "id": "XnlulJcit2pz"
      },
      "source": [
        "### Hence we see that the value of R Square obtained above closely resembles to that which we obtained in Task 1.\n",
        "\n"
      ]
    },
    {
      "cell_type": "code",
      "execution_count": 44,
      "metadata": {
        "colab": {
          "base_uri": "https://localhost:8080/"
        },
        "id": "qJ45DwH7iGBJ",
        "outputId": "73bc5d6c-89ae-476c-9eba-aba7bb0bf8ce"
      },
      "outputs": [
        {
          "name": "stdout",
          "output_type": "stream",
          "text": [
            "Coefficient of determination (R Square) : 0.7913094027030955\n"
          ]
        }
      ],
      "source": [
        "r_sq = reg_model.score(x, y)\n",
        "print(\"Coefficient of determination (R Square) :\", r_sq)"
      ]
    },
    {
      "cell_type": "markdown",
      "metadata": {
        "id": "MzFsy-LTt7or"
      },
      "source": [
        "## Intercept and Slope values. \n",
        "### Again, these values closely resemble to those values which we obtained in Task 1 for intercept and Slope respectively.\n",
        "\n"
      ]
    },
    {
      "cell_type": "code",
      "execution_count": null,
      "metadata": {
        "colab": {
          "base_uri": "https://localhost:8080/"
        },
        "id": "ZP4ixQOYiTBh",
        "outputId": "62e9a748-59e9-48bc-d1b4-fda3cd252d47"
      },
      "outputs": [
        {
          "name": "stdout",
          "output_type": "stream",
          "text": [
            "Intercept (b0) : [ 8.75 11.5 ]\n",
            "\n",
            "Slope (b1) : [[0.1375 0.1375]\n",
            " [0.275  0.275 ]]\n"
          ]
        }
      ],
      "source": [
        "print(\"Intercept (b0) :\", reg_model.intercept_)\n",
        "print()\n",
        "print(\"Slope (b1) :\", reg_model.coef_)\n"
      ]
    },
    {
      "cell_type": "markdown",
      "metadata": {
        "id": "GVzsmdf5jSSh"
      },
      "source": [
        "# Task 3:\n",
        "\n",
        "![image.png](data:image/png;base64,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)"
      ]
    },
    {
      "cell_type": "code",
      "execution_count": 26,
      "metadata": {
        "id": "GUf7MaemjqRj"
      },
      "outputs": [],
      "source": [
        "# import libraries\n",
        "import statsmodels.api as sm"
      ]
    },
    {
      "cell_type": "code",
      "execution_count": 48,
      "metadata": {
        "id": "yFSx3fICjUc6"
      },
      "outputs": [],
      "source": [
        "# Reading the File:\n",
        "df = pd.read_csv(\"/content/sat_cgpa.csv\")"
      ]
    },
    {
      "cell_type": "code",
      "execution_count": 28,
      "metadata": {
        "colab": {
          "base_uri": "https://localhost:8080/"
        },
        "id": "Nx3WzvvUjbQB",
        "outputId": "7f6072dd-90b5-4818-812e-5a33d86a094a"
      },
      "outputs": [
        {
          "data": {
            "text/plain": [
              "168"
            ]
          },
          "execution_count": 28,
          "metadata": {},
          "output_type": "execute_result"
        }
      ],
      "source": [
        "# Size\n",
        "df.size"
      ]
    },
    {
      "cell_type": "code",
      "execution_count": 29,
      "metadata": {
        "colab": {
          "base_uri": "https://localhost:8080/"
        },
        "id": "tRzUrZGejbv5",
        "outputId": "985ba3a0-26f4-44c7-c8aa-82d5078a1341"
      },
      "outputs": [
        {
          "data": {
            "text/plain": [
              "(84, 2)"
            ]
          },
          "execution_count": 29,
          "metadata": {},
          "output_type": "execute_result"
        }
      ],
      "source": [
        "# Shape\n",
        "df.shape"
      ]
    },
    {
      "cell_type": "code",
      "execution_count": null,
      "metadata": {
        "colab": {
          "base_uri": "https://localhost:8080/"
        },
        "id": "RnEyifpKjcxp",
        "outputId": "6eb644b8-b912-443d-82bd-30f7f7fdb85d"
      },
      "outputs": [
        {
          "data": {
            "text/plain": [
              "SAT      int64\n",
              "GPA    float64\n",
              "dtype: object"
            ]
          },
          "execution_count": 74,
          "metadata": {},
          "output_type": "execute_result"
        }
      ],
      "source": [
        "# Data Types\n",
        "df.dtypes"
      ]
    },
    {
      "cell_type": "code",
      "execution_count": null,
      "metadata": {
        "colab": {
          "base_uri": "https://localhost:8080/"
        },
        "id": "OawSQjKWjdrJ",
        "outputId": "35465b00-9c02-417a-f767-5b3e5b7b667c"
      },
      "outputs": [
        {
          "data": {
            "text/plain": [
              "<bound method NDFrame.head of      SAT   GPA\n",
              "0   1714  2.40\n",
              "1   1664  2.52\n",
              "2   1760  2.54\n",
              "3   1685  2.74\n",
              "4   1693  2.83\n",
              "..   ...   ...\n",
              "79  1936  3.71\n",
              "80  1810  3.71\n",
              "81  1987  3.73\n",
              "82  1962  3.76\n",
              "83  2050  3.81\n",
              "\n",
              "[84 rows x 2 columns]>"
            ]
          },
          "execution_count": 75,
          "metadata": {},
          "output_type": "execute_result"
        }
      ],
      "source": [
        "df.head"
      ]
    },
    {
      "cell_type": "code",
      "execution_count": null,
      "metadata": {
        "colab": {
          "base_uri": "https://localhost:8080/"
        },
        "id": "b57bzIUQjfLp",
        "outputId": "ca4d7f9f-d18a-42eb-a2b8-ed19c61782bf"
      },
      "outputs": [
        {
          "data": {
            "text/plain": [
              "<bound method NDFrame.describe of      SAT   GPA\n",
              "0   1714  2.40\n",
              "1   1664  2.52\n",
              "2   1760  2.54\n",
              "3   1685  2.74\n",
              "4   1693  2.83\n",
              "..   ...   ...\n",
              "79  1936  3.71\n",
              "80  1810  3.71\n",
              "81  1987  3.73\n",
              "82  1962  3.76\n",
              "83  2050  3.81\n",
              "\n",
              "[84 rows x 2 columns]>"
            ]
          },
          "execution_count": 76,
          "metadata": {},
          "output_type": "execute_result"
        }
      ],
      "source": [
        "df.describe"
      ]
    },
    {
      "cell_type": "code",
      "execution_count": 49,
      "metadata": {
        "colab": {
          "base_uri": "https://localhost:8080/",
          "height": 351
        },
        "id": "ZgWTJD6Bjgah",
        "outputId": "040552b7-7736-4846-d5b3-8b929f52c341"
      },
      "outputs": [
        {
          "name": "stderr",
          "output_type": "stream",
          "text": [
            "/usr/local/lib/python3.8/dist-packages/seaborn/_decorators.py:36: FutureWarning: Pass the following variables as keyword args: x, y. From version 0.12, the only valid positional argument will be `data`, and passing other arguments without an explicit keyword will result in an error or misinterpretation.\n",
            "  warnings.warn(\n"
          ]
        },
        {
          "data": {
            "text/plain": [
              "<matplotlib.axes._subplots.AxesSubplot at 0x7f2cccf39130>"
            ]
          },
          "execution_count": 49,
          "metadata": {},
          "output_type": "execute_result"
        },
        {
          "data": {
            "image/png": "[encoded data removed]",
            "text/plain": [
              "<Figure size 432x288 with 1 Axes>"
            ]
          },
          "metadata": {
            "needs_background": "light"
          },
          "output_type": "display_data"
        }
      ],
      "source": [
        "sat_data = df[\"SAT\"]\n",
        "gpa_data = df[\"GPA\"]\n",
        "sns.scatterplot(sat_data, gpa_data)"
      ]
    },
    {
      "cell_type": "code",
      "execution_count": 60,
      "metadata": {
        "colab": {
          "base_uri": "https://localhost:8080/",
          "height": 317
        },
        "id": "-h9vnRhGfQYY",
        "outputId": "d1406928-ce8f-4f57-957c-ce555acff4a4"
      },
      "outputs": [
        {
          "name": "stdout",
          "output_type": "stream",
          "text": [
            "Slope b1 is =  0.0016556880500927249\n",
            "Intercept b0 is =  0.27504029966044463\n",
            "R Value =  0.40600391479679776\n"
          ]
        },
        {
          "data": {
            "image/png": "[encoded data removed]",
            "text/plain": [
              "<Figure size 432x288 with 1 Axes>"
            ]
          },
          "metadata": {
            "needs_background": "light"
          },
          "output_type": "display_data"
        }
      ],
      "source": [
        "x = df[\"SAT\"]\n",
        "y = df[\"GPA\"]\n",
        "\n",
        "x_mean = np.mean(x)\n",
        "y_mean = np.mean(y)\n",
        "\n",
        "xy = x * y\n",
        "\n",
        "xy_mean = np.mean(xy)\n",
        "x_square = x**2\n",
        "x_square_mean = np.mean(x_square)\n",
        "\n",
        "# Using Formula given in reference PDF:\n",
        "b1 = ((x_mean * y_mean) - np.mean(xy))/((x_mean)**2 - x_square_mean)\n",
        "print('Slope b1 is = ', b1)\n",
        "\n",
        "\n",
        "b0 = y_mean - b1 * x_mean\n",
        "print('Intercept b0 is = ', b0)\n",
        "\n",
        "r_sq = 1 - (np.sum((y - y_pred) ** 2) / np.sum((y - y_mean) ** 2))\n",
        "print('R Value = ', r_sq)\n",
        "\n",
        "\n",
        "plt.scatter(x, y)\n",
        "plt.plot(x, y_pred)\n",
        "\n",
        "plt.show()"
      ]
    },
    {
      "cell_type": "code",
      "execution_count": 61,
      "metadata": {
        "id": "J2o0l8ujkLDz"
      },
      "outputs": [],
      "source": [
        "x = df[\"SAT\"].values.reshape(-1, 1)"
      ]
    },
    {
      "cell_type": "code",
      "execution_count": 67,
      "metadata": {
        "id": "Tyqk0WwqlZYs"
      },
      "outputs": [],
      "source": [
        "z = sm.add_constant(x) # Adds one more column with name 'const' to the dataset with value 1. It is an alternative addition to the reshape function which is generally used.\n",
        "model = sm.OLS(df[\"GPA\"], z) # Using the OLS Function.\n",
        "# In the above line, you can store df[\"GPA\"] in variable y to make the model syntax look readable:\n",
        "# It will look like this : model = sm.OLS(y, z)\n",
        "results = model.fit()"
      ]
    },
    {
      "cell_type": "code",
      "execution_count": 68,
      "metadata": {
        "colab": {
          "base_uri": "https://localhost:8080/"
        },
        "id": "7ZnYyis7liiF",
        "outputId": "b666eb91-2bc6-48bb-9645-8412f50a01a0"
      },
      "outputs": [
        {
          "name": "stdout",
          "output_type": "stream",
          "text": [
            "                            OLS Regression Results                            \n",
            "==============================================================================\n",
            "Dep. Variable:                    GPA   R-squared:                       0.406\n",
            "Model:                            OLS   Adj. R-squared:                  0.399\n",
            "Method:                 Least Squares   F-statistic:                     56.05\n",
            "Date:                Thu, 02 Feb 2023   Prob (F-statistic):           7.20e-11\n",
            "Time:                        05:24:59   Log-Likelihood:                 12.672\n",
            "No. Observations:                  84   AIC:                            -21.34\n",
            "Df Residuals:                      82   BIC:                            -16.48\n",
            "Df Model:                           1                                         \n",
            "Covariance Type:            nonrobust                                         \n",
            "==============================================================================\n",
            "                 coef    std err          t      P>|t|      [0.025      0.975]\n",
            "------------------------------------------------------------------------------\n",
            "const          0.2750      0.409      0.673      0.503      -0.538       1.088\n",
            "x1             0.0017      0.000      7.487      0.000       0.001       0.002\n",
            "==============================================================================\n",
            "Omnibus:                       12.839   Durbin-Watson:                   0.950\n",
            "Prob(Omnibus):                  0.002   Jarque-Bera (JB):               16.155\n",
            "Skew:                          -0.722   Prob(JB):                     0.000310\n",
            "Kurtosis:                       4.590   Cond. No.                     3.29e+04\n",
            "==============================================================================\n",
            "\n",
            "Notes:\n",
            "[1] Standard Errors assume that the covariance matrix of the errors is correctly specified.\n",
            "[2] The condition number is large, 3.29e+04. This might indicate that there are\n",
            "strong multicollinearity or other numerical problems.\n"
          ]
        }
      ],
      "source": [
        "print(results.summary())"
      ]
    },
    {
      "cell_type": "markdown",
      "metadata": {
        "id": "m02mFDVCvSF8"
      },
      "source": [
        "# Interpretation of the result/summary generated:\n",
        "\n",
        "The OLS regression model shows that there is a positive correlation between SAT scores and GPA. \n",
        "\n",
        "The coefficient for SAT (0.0017) is positive, meaning that an increase in SAT score leads to an increase in GPA. \n",
        "\n",
        "The R-squared value (0.406) indicates that 40.6% of the variance in GPA is explained by the variance in SAT scores.\n",
        "\n",
        "We also notice that the R-squared value obtained in the OLS Regression Results summary as well as the value obtained in the cell above (for R Square) is the same. Hence, we verify that the R-squared value calculated using sklearn model and OLS Model Regresssion are the same.\n",
        "\n",
        "Null Hypothesis is 1, Slope is not 0 as Probability = 0.000 is less than the Level of Significance (L.O.S) and hence we accept alternate hypothesis.\n",
        "\n",
        "The greater the level of R, better the movel, i.e R should be closer to 1 than 1."
      ]
    }
  ],
  "metadata": {
    "colab": {
      "provenance": []
    },
    "kernelspec": {
      "display_name": "Python 3",
      "name": "python3"
    },
    "language_info": {
      "name": "python"
    }
  },
  "nbformat": 4,
  "nbformat_minor": 0
}
