{
  "cells": [
    {
      "cell_type": "code",
      "execution_count": 2,
      "metadata": {
        "id": "8YP9tMJAUX3C"
      },
      "outputs": [],
      "source": [
        "# import libraries\n",
        "import matplotlib.pyplot as plt\n",
        "import numpy as np\n",
        "import pandas as pd\n",
        "import seaborn as sns"
      ]
    },
    {
      "attachments": {},
      "cell_type": "markdown",
      "metadata": {
        "id": "5gSfBA85VqUA"
      },
      "source": [
        "# Decision Trees:"
      ]
    },
    {
      "attachments": {},
      "cell_type": "markdown",
      "metadata": {
        "id": "dYc5CneDVyPY"
      },
      "source": [
        "Loading the dataset:"
      ]
    },
    {
      "cell_type": "code",
      "execution_count": 3,
      "metadata": {
        "id": "sGJjEDmXUZrP"
      },
      "outputs": [],
      "source": [
        "df = pd.read_csv(\"/content/Decision_trees_1.csv\")"
      ]
    },
    {
      "attachments": {},
      "cell_type": "markdown",
      "metadata": {
        "id": "Hl6NYwO-V1zT"
      },
      "source": [
        "# EDA:"
      ]
    },
    {
      "cell_type": "code",
      "execution_count": 4,
      "metadata": {
        "colab": {
          "base_uri": "https://localhost:8080/",
          "height": 206
        },
        "id": "8NyPnIlfV1Hi",
        "outputId": "45674a77-8290-4d5d-eadf-c5db5041ee39"
      },
      "outputs": [
        {
          "data": {
            "text/html": [
              "\n",
              "  <div id=\"df-77eac7b7-2bd8-454b-a42b-c7544453ffda\">\n",
              "    <div class=\"colab-df-container\">\n",
              "      <div>\n",
              "<style scoped>\n",
              "    .dataframe tbody tr th:only-of-type {\n",
              "        vertical-align: middle;\n",
              "    }\n",
              "\n",
              "    .dataframe tbody tr th {\n",
              "        vertical-align: top;\n",
              "    }\n",
              "\n",
              "    .dataframe thead th {\n",
              "        text-align: right;\n",
              "    }\n",
              "</style>\n",
              "<table border=\"1\" class=\"dataframe\">\n",
              "  <thead>\n",
              "    <tr style=\"text-align: right;\">\n",
              "      <th></th>\n",
              "      <th>Customer ID</th>\n",
              "      <th>Gender</th>\n",
              "      <th>Car Type</th>\n",
              "      <th>Shirt Size</th>\n",
              "      <th>Class</th>\n",
              "    </tr>\n",
              "  </thead>\n",
              "  <tbody>\n",
              "    <tr>\n",
              "      <th>0</th>\n",
              "      <td>1</td>\n",
              "      <td>M</td>\n",
              "      <td>Family</td>\n",
              "      <td>Small</td>\n",
              "      <td>C0</td>\n",
              "    </tr>\n",
              "    <tr>\n",
              "      <th>1</th>\n",
              "      <td>2</td>\n",
              "      <td>M</td>\n",
              "      <td>Sports</td>\n",
              "      <td>Medium</td>\n",
              "      <td>C0</td>\n",
              "    </tr>\n",
              "    <tr>\n",
              "      <th>2</th>\n",
              "      <td>3</td>\n",
              "      <td>M</td>\n",
              "      <td>Sports</td>\n",
              "      <td>Medium</td>\n",
              "      <td>C0</td>\n",
              "    </tr>\n",
              "    <tr>\n",
              "      <th>3</th>\n",
              "      <td>4</td>\n",
              "      <td>M</td>\n",
              "      <td>Sports</td>\n",
              "      <td>Large</td>\n",
              "      <td>C0</td>\n",
              "    </tr>\n",
              "    <tr>\n",
              "      <th>4</th>\n",
              "      <td>5</td>\n",
              "      <td>M</td>\n",
              "      <td>Sports</td>\n",
              "      <td>Extra large</td>\n",
              "      <td>C0</td>\n",
              "    </tr>\n",
              "  </tbody>\n",
              "</table>\n",
              "</div>\n",
              "      <button class=\"colab-df-convert\" onclick=\"convertToInteractive('df-77eac7b7-2bd8-454b-a42b-c7544453ffda')\"\n",
              "              title=\"Convert this dataframe to an interactive table.\"\n",
              "              style=\"display:none;\">\n",
              "        \n",
              "  <svg xmlns=\"http://www.w3.org/2000/svg\" height=\"24px\"viewBox=\"0 0 24 24\"\n",
              "       width=\"24px\">\n",
              "    <path d=\"M0 0h24v24H0V0z\" fill=\"none\"/>\n",
              "    <path d=\"M18.56 5.44l.94 2.06.94-2.06 2.06-.94-2.06-.94-.94-2.06-.94 2.06-2.06.94zm-11 1L8.5 8.5l.94-2.06 2.06-.94-2.06-.94L8.5 2.5l-.94 2.06-2.06.94zm10 10l.94 2.06.94-2.06 2.06-.94-2.06-.94-.94-2.06-.94 2.06-2.06.94z\"/><path d=\"M17.41 7.96l-1.37-1.37c-.4-.4-.92-.59-1.43-.59-.52 0-1.04.2-1.43.59L10.3 9.45l-7.72 7.72c-.78.78-.78 2.05 0 2.83L4 21.41c.39.39.9.59 1.41.59.51 0 1.02-.2 1.41-.59l7.78-7.78 2.81-2.81c.8-.78.8-2.07 0-2.86zM5.41 20L4 18.59l7.72-7.72 1.47 1.35L5.41 20z\"/>\n",
              "  </svg>\n",
              "      </button>\n",
              "      \n",
              "  <style>\n",
              "    .colab-df-container {\n",
              "      display:flex;\n",
              "      flex-wrap:wrap;\n",
              "      gap: 12px;\n",
              "    }\n",
              "\n",
              "    .colab-df-convert {\n",
              "      background-color: #E8F0FE;\n",
              "      border: none;\n",
              "      border-radius: 50%;\n",
              "      cursor: pointer;\n",
              "      display: none;\n",
              "      fill: #1967D2;\n",
              "      height: 32px;\n",
              "      padding: 0 0 0 0;\n",
              "      width: 32px;\n",
              "    }\n",
              "\n",
              "    .colab-df-convert:hover {\n",
              "      background-color: #E2EBFA;\n",
              "      box-shadow: 0px 1px 2px rgba(60, 64, 67, 0.3), 0px 1px 3px 1px rgba(60, 64, 67, 0.15);\n",
              "      fill: #174EA6;\n",
              "    }\n",
              "\n",
              "    [theme=dark] .colab-df-convert {\n",
              "      background-color: #3B4455;\n",
              "      fill: #D2E3FC;\n",
              "    }\n",
              "\n",
              "    [theme=dark] .colab-df-convert:hover {\n",
              "      background-color: #434B5C;\n",
              "      box-shadow: 0px 1px 3px 1px rgba(0, 0, 0, 0.15);\n",
              "      filter: drop-shadow(0px 1px 2px rgba(0, 0, 0, 0.3));\n",
              "      fill: #FFFFFF;\n",
              "    }\n",
              "  </style>\n",
              "\n",
              "      <script>\n",
              "        const buttonEl =\n",
              "          document.querySelector('#df-77eac7b7-2bd8-454b-a42b-c7544453ffda button.colab-df-convert');\n",
              "        buttonEl.style.display =\n",
              "          google.colab.kernel.accessAllowed ? 'block' : 'none';\n",
              "\n",
              "        async function convertToInteractive(key) {\n",
              "          const element = document.querySelector('#df-77eac7b7-2bd8-454b-a42b-c7544453ffda');\n",
              "          const dataTable =\n",
              "            await google.colab.kernel.invokeFunction('convertToInteractive',\n",
              "                                                     [key], {});\n",
              "          if (!dataTable) return;\n",
              "\n",
              "          const docLinkHtml = 'Like what you see? Visit the ' +\n",
              "            '<a target=\"_blank\" href=https://colab.research.google.com/notebooks/data_table.ipynb>data table notebook</a>'\n",
              "            + ' to learn more about interactive tables.';\n",
              "          element.innerHTML = '';\n",
              "          dataTable['output_type'] = 'display_data';\n",
              "          await google.colab.output.renderOutput(dataTable, element);\n",
              "          const docLink = document.createElement('div');\n",
              "          docLink.innerHTML = docLinkHtml;\n",
              "          element.appendChild(docLink);\n",
              "        }\n",
              "      </script>\n",
              "    </div>\n",
              "  </div>\n",
              "  "
            ],
            "text/plain": [
              "   Customer ID Gender Car Type   Shirt Size Class\n",
              "0            1      M   Family        Small    C0\n",
              "1            2      M   Sports       Medium    C0\n",
              "2            3      M   Sports       Medium    C0\n",
              "3            4      M   Sports        Large    C0\n",
              "4            5      M   Sports  Extra large    C0"
            ]
          },
          "execution_count": 4,
          "metadata": {},
          "output_type": "execute_result"
        }
      ],
      "source": [
        "df.head()"
      ]
    },
    {
      "cell_type": "code",
      "execution_count": 5,
      "metadata": {
        "colab": {
          "base_uri": "https://localhost:8080/",
          "height": 300
        },
        "id": "FezWULWZV3FZ",
        "outputId": "18375a01-2115-45ff-b40e-2fd26905f5d1"
      },
      "outputs": [
        {
          "data": {
            "text/html": [
              "\n",
              "  <div id=\"df-1cc6f6c9-5a32-4416-8385-ad4ae25ac6c5\">\n",
              "    <div class=\"colab-df-container\">\n",
              "      <div>\n",
              "<style scoped>\n",
              "    .dataframe tbody tr th:only-of-type {\n",
              "        vertical-align: middle;\n",
              "    }\n",
              "\n",
              "    .dataframe tbody tr th {\n",
              "        vertical-align: top;\n",
              "    }\n",
              "\n",
              "    .dataframe thead th {\n",
              "        text-align: right;\n",
              "    }\n",
              "</style>\n",
              "<table border=\"1\" class=\"dataframe\">\n",
              "  <thead>\n",
              "    <tr style=\"text-align: right;\">\n",
              "      <th></th>\n",
              "      <th>Customer ID</th>\n",
              "    </tr>\n",
              "  </thead>\n",
              "  <tbody>\n",
              "    <tr>\n",
              "      <th>count</th>\n",
              "      <td>20.00000</td>\n",
              "    </tr>\n",
              "    <tr>\n",
              "      <th>mean</th>\n",
              "      <td>10.50000</td>\n",
              "    </tr>\n",
              "    <tr>\n",
              "      <th>std</th>\n",
              "      <td>5.91608</td>\n",
              "    </tr>\n",
              "    <tr>\n",
              "      <th>min</th>\n",
              "      <td>1.00000</td>\n",
              "    </tr>\n",
              "    <tr>\n",
              "      <th>25%</th>\n",
              "      <td>5.75000</td>\n",
              "    </tr>\n",
              "    <tr>\n",
              "      <th>50%</th>\n",
              "      <td>10.50000</td>\n",
              "    </tr>\n",
              "    <tr>\n",
              "      <th>75%</th>\n",
              "      <td>15.25000</td>\n",
              "    </tr>\n",
              "    <tr>\n",
              "      <th>max</th>\n",
              "      <td>20.00000</td>\n",
              "    </tr>\n",
              "  </tbody>\n",
              "</table>\n",
              "</div>\n",
              "      <button class=\"colab-df-convert\" onclick=\"convertToInteractive('df-1cc6f6c9-5a32-4416-8385-ad4ae25ac6c5')\"\n",
              "              title=\"Convert this dataframe to an interactive table.\"\n",
              "              style=\"display:none;\">\n",
              "        \n",
              "  <svg xmlns=\"http://www.w3.org/2000/svg\" height=\"24px\"viewBox=\"0 0 24 24\"\n",
              "       width=\"24px\">\n",
              "    <path d=\"M0 0h24v24H0V0z\" fill=\"none\"/>\n",
              "    <path d=\"M18.56 5.44l.94 2.06.94-2.06 2.06-.94-2.06-.94-.94-2.06-.94 2.06-2.06.94zm-11 1L8.5 8.5l.94-2.06 2.06-.94-2.06-.94L8.5 2.5l-.94 2.06-2.06.94zm10 10l.94 2.06.94-2.06 2.06-.94-2.06-.94-.94-2.06-.94 2.06-2.06.94z\"/><path d=\"M17.41 7.96l-1.37-1.37c-.4-.4-.92-.59-1.43-.59-.52 0-1.04.2-1.43.59L10.3 9.45l-7.72 7.72c-.78.78-.78 2.05 0 2.83L4 21.41c.39.39.9.59 1.41.59.51 0 1.02-.2 1.41-.59l7.78-7.78 2.81-2.81c.8-.78.8-2.07 0-2.86zM5.41 20L4 18.59l7.72-7.72 1.47 1.35L5.41 20z\"/>\n",
              "  </svg>\n",
              "      </button>\n",
              "      \n",
              "  <style>\n",
              "    .colab-df-container {\n",
              "      display:flex;\n",
              "      flex-wrap:wrap;\n",
              "      gap: 12px;\n",
              "    }\n",
              "\n",
              "    .colab-df-convert {\n",
              "      background-color: #E8F0FE;\n",
              "      border: none;\n",
              "      border-radius: 50%;\n",
              "      cursor: pointer;\n",
              "      display: none;\n",
              "      fill: #1967D2;\n",
              "      height: 32px;\n",
              "      padding: 0 0 0 0;\n",
              "      width: 32px;\n",
              "    }\n",
              "\n",
              "    .colab-df-convert:hover {\n",
              "      background-color: #E2EBFA;\n",
              "      box-shadow: 0px 1px 2px rgba(60, 64, 67, 0.3), 0px 1px 3px 1px rgba(60, 64, 67, 0.15);\n",
              "      fill: #174EA6;\n",
              "    }\n",
              "\n",
              "    [theme=dark] .colab-df-convert {\n",
              "      background-color: #3B4455;\n",
              "      fill: #D2E3FC;\n",
              "    }\n",
              "\n",
              "    [theme=dark] .colab-df-convert:hover {\n",
              "      background-color: #434B5C;\n",
              "      box-shadow: 0px 1px 3px 1px rgba(0, 0, 0, 0.15);\n",
              "      filter: drop-shadow(0px 1px 2px rgba(0, 0, 0, 0.3));\n",
              "      fill: #FFFFFF;\n",
              "    }\n",
              "  </style>\n",
              "\n",
              "      <script>\n",
              "        const buttonEl =\n",
              "          document.querySelector('#df-1cc6f6c9-5a32-4416-8385-ad4ae25ac6c5 button.colab-df-convert');\n",
              "        buttonEl.style.display =\n",
              "          google.colab.kernel.accessAllowed ? 'block' : 'none';\n",
              "\n",
              "        async function convertToInteractive(key) {\n",
              "          const element = document.querySelector('#df-1cc6f6c9-5a32-4416-8385-ad4ae25ac6c5');\n",
              "          const dataTable =\n",
              "            await google.colab.kernel.invokeFunction('convertToInteractive',\n",
              "                                                     [key], {});\n",
              "          if (!dataTable) return;\n",
              "\n",
              "          const docLinkHtml = 'Like what you see? Visit the ' +\n",
              "            '<a target=\"_blank\" href=https://colab.research.google.com/notebooks/data_table.ipynb>data table notebook</a>'\n",
              "            + ' to learn more about interactive tables.';\n",
              "          element.innerHTML = '';\n",
              "          dataTable['output_type'] = 'display_data';\n",
              "          await google.colab.output.renderOutput(dataTable, element);\n",
              "          const docLink = document.createElement('div');\n",
              "          docLink.innerHTML = docLinkHtml;\n",
              "          element.appendChild(docLink);\n",
              "        }\n",
              "      </script>\n",
              "    </div>\n",
              "  </div>\n",
              "  "
            ],
            "text/plain": [
              "       Customer ID\n",
              "count     20.00000\n",
              "mean      10.50000\n",
              "std        5.91608\n",
              "min        1.00000\n",
              "25%        5.75000\n",
              "50%       10.50000\n",
              "75%       15.25000\n",
              "max       20.00000"
            ]
          },
          "execution_count": 5,
          "metadata": {},
          "output_type": "execute_result"
        }
      ],
      "source": [
        "df.describe()"
      ]
    },
    {
      "cell_type": "code",
      "execution_count": 6,
      "metadata": {
        "colab": {
          "base_uri": "https://localhost:8080/"
        },
        "id": "jeePTC1rV4pA",
        "outputId": "f8b35e7f-6925-4ef6-a4d5-9723dd410bf7"
      },
      "outputs": [
        {
          "name": "stdout",
          "output_type": "stream",
          "text": [
            "<class 'pandas.core.frame.DataFrame'>\n",
            "RangeIndex: 20 entries, 0 to 19\n",
            "Data columns (total 5 columns):\n",
            " #   Column       Non-Null Count  Dtype \n",
            "---  ------       --------------  ----- \n",
            " 0   Customer ID  20 non-null     int64 \n",
            " 1   Gender       20 non-null     object\n",
            " 2   Car Type     20 non-null     object\n",
            " 3   Shirt Size   20 non-null     object\n",
            " 4   Class        20 non-null     object\n",
            "dtypes: int64(1), object(4)\n",
            "memory usage: 928.0+ bytes\n"
          ]
        }
      ],
      "source": [
        "df.info()"
      ]
    },
    {
      "cell_type": "code",
      "execution_count": 7,
      "metadata": {
        "colab": {
          "base_uri": "https://localhost:8080/"
        },
        "id": "05JctfMKV5mZ",
        "outputId": "b3ff36c4-d293-4ebc-842c-af97816d9fc9"
      },
      "outputs": [
        {
          "data": {
            "text/plain": [
              "(20, 5)"
            ]
          },
          "execution_count": 7,
          "metadata": {},
          "output_type": "execute_result"
        }
      ],
      "source": [
        "df.shape"
      ]
    },
    {
      "cell_type": "code",
      "execution_count": 8,
      "metadata": {
        "id": "QXvXALZQV7Rh"
      },
      "outputs": [],
      "source": [
        "from sklearn import preprocessing"
      ]
    },
    {
      "attachments": {},
      "cell_type": "markdown",
      "metadata": {
        "id": "kRKDxOYSX3HQ"
      },
      "source": [
        "### Label Encoding the features (Categorical -> Numerical data)."
      ]
    },
    {
      "cell_type": "code",
      "execution_count": 10,
      "metadata": {
        "id": "vYxFkJsJWhN2"
      },
      "outputs": [],
      "source": [
        "label_encoder = preprocessing.LabelEncoder()\n",
        "label_encoder = preprocessing.LabelEncoder()\n",
        "df[\"Class\"] = label_encoder.fit_transform(df[\"Class\"])\n",
        "df[\"Gender\"] = label_encoder.fit_transform(df[\"Gender\"])\n",
        "df[\"Car Type\"] = label_encoder.fit_transform(df[\"Car Type\"])\n",
        "df[\"Shirt Size\"] = label_encoder.fit_transform(df[\"Shirt Size\"])"
      ]
    },
    {
      "cell_type": "code",
      "execution_count": 11,
      "metadata": {
        "colab": {
          "base_uri": "https://localhost:8080/",
          "height": 676
        },
        "id": "110t2IVUXecb",
        "outputId": "f4d338c9-dd65-4140-ae71-96c1afdb8bbe"
      },
      "outputs": [
        {
          "data": {
            "text/html": [
              "\n",
              "  <div id=\"df-329b65dd-b1e2-4917-abe5-88103383ca92\">\n",
              "    <div class=\"colab-df-container\">\n",
              "      <div>\n",
              "<style scoped>\n",
              "    .dataframe tbody tr th:only-of-type {\n",
              "        vertical-align: middle;\n",
              "    }\n",
              "\n",
              "    .dataframe tbody tr th {\n",
              "        vertical-align: top;\n",
              "    }\n",
              "\n",
              "    .dataframe thead th {\n",
              "        text-align: right;\n",
              "    }\n",
              "</style>\n",
              "<table border=\"1\" class=\"dataframe\">\n",
              "  <thead>\n",
              "    <tr style=\"text-align: right;\">\n",
              "      <th></th>\n",
              "      <th>Customer ID</th>\n",
              "      <th>Gender</th>\n",
              "      <th>Car Type</th>\n",
              "      <th>Shirt Size</th>\n",
              "      <th>Class</th>\n",
              "    </tr>\n",
              "  </thead>\n",
              "  <tbody>\n",
              "    <tr>\n",
              "      <th>0</th>\n",
              "      <td>1</td>\n",
              "      <td>1</td>\n",
              "      <td>0</td>\n",
              "      <td>3</td>\n",
              "      <td>0</td>\n",
              "    </tr>\n",
              "    <tr>\n",
              "      <th>1</th>\n",
              "      <td>2</td>\n",
              "      <td>1</td>\n",
              "      <td>2</td>\n",
              "      <td>2</td>\n",
              "      <td>0</td>\n",
              "    </tr>\n",
              "    <tr>\n",
              "      <th>2</th>\n",
              "      <td>3</td>\n",
              "      <td>1</td>\n",
              "      <td>2</td>\n",
              "      <td>2</td>\n",
              "      <td>0</td>\n",
              "    </tr>\n",
              "    <tr>\n",
              "      <th>3</th>\n",
              "      <td>4</td>\n",
              "      <td>1</td>\n",
              "      <td>2</td>\n",
              "      <td>1</td>\n",
              "      <td>0</td>\n",
              "    </tr>\n",
              "    <tr>\n",
              "      <th>4</th>\n",
              "      <td>5</td>\n",
              "      <td>1</td>\n",
              "      <td>2</td>\n",
              "      <td>0</td>\n",
              "      <td>0</td>\n",
              "    </tr>\n",
              "    <tr>\n",
              "      <th>5</th>\n",
              "      <td>6</td>\n",
              "      <td>1</td>\n",
              "      <td>2</td>\n",
              "      <td>0</td>\n",
              "      <td>0</td>\n",
              "    </tr>\n",
              "    <tr>\n",
              "      <th>6</th>\n",
              "      <td>7</td>\n",
              "      <td>0</td>\n",
              "      <td>2</td>\n",
              "      <td>3</td>\n",
              "      <td>0</td>\n",
              "    </tr>\n",
              "    <tr>\n",
              "      <th>7</th>\n",
              "      <td>8</td>\n",
              "      <td>0</td>\n",
              "      <td>2</td>\n",
              "      <td>3</td>\n",
              "      <td>0</td>\n",
              "    </tr>\n",
              "    <tr>\n",
              "      <th>8</th>\n",
              "      <td>9</td>\n",
              "      <td>0</td>\n",
              "      <td>2</td>\n",
              "      <td>2</td>\n",
              "      <td>0</td>\n",
              "    </tr>\n",
              "    <tr>\n",
              "      <th>9</th>\n",
              "      <td>10</td>\n",
              "      <td>0</td>\n",
              "      <td>1</td>\n",
              "      <td>1</td>\n",
              "      <td>0</td>\n",
              "    </tr>\n",
              "    <tr>\n",
              "      <th>10</th>\n",
              "      <td>11</td>\n",
              "      <td>1</td>\n",
              "      <td>0</td>\n",
              "      <td>1</td>\n",
              "      <td>1</td>\n",
              "    </tr>\n",
              "    <tr>\n",
              "      <th>11</th>\n",
              "      <td>12</td>\n",
              "      <td>1</td>\n",
              "      <td>0</td>\n",
              "      <td>0</td>\n",
              "      <td>1</td>\n",
              "    </tr>\n",
              "    <tr>\n",
              "      <th>12</th>\n",
              "      <td>13</td>\n",
              "      <td>1</td>\n",
              "      <td>0</td>\n",
              "      <td>2</td>\n",
              "      <td>1</td>\n",
              "    </tr>\n",
              "    <tr>\n",
              "      <th>13</th>\n",
              "      <td>14</td>\n",
              "      <td>1</td>\n",
              "      <td>1</td>\n",
              "      <td>0</td>\n",
              "      <td>1</td>\n",
              "    </tr>\n",
              "    <tr>\n",
              "      <th>14</th>\n",
              "      <td>15</td>\n",
              "      <td>0</td>\n",
              "      <td>1</td>\n",
              "      <td>3</td>\n",
              "      <td>1</td>\n",
              "    </tr>\n",
              "    <tr>\n",
              "      <th>15</th>\n",
              "      <td>16</td>\n",
              "      <td>0</td>\n",
              "      <td>1</td>\n",
              "      <td>3</td>\n",
              "      <td>1</td>\n",
              "    </tr>\n",
              "    <tr>\n",
              "      <th>16</th>\n",
              "      <td>17</td>\n",
              "      <td>0</td>\n",
              "      <td>1</td>\n",
              "      <td>2</td>\n",
              "      <td>1</td>\n",
              "    </tr>\n",
              "    <tr>\n",
              "      <th>17</th>\n",
              "      <td>18</td>\n",
              "      <td>0</td>\n",
              "      <td>1</td>\n",
              "      <td>2</td>\n",
              "      <td>1</td>\n",
              "    </tr>\n",
              "    <tr>\n",
              "      <th>18</th>\n",
              "      <td>19</td>\n",
              "      <td>0</td>\n",
              "      <td>1</td>\n",
              "      <td>2</td>\n",
              "      <td>1</td>\n",
              "    </tr>\n",
              "    <tr>\n",
              "      <th>19</th>\n",
              "      <td>20</td>\n",
              "      <td>0</td>\n",
              "      <td>1</td>\n",
              "      <td>1</td>\n",
              "      <td>1</td>\n",
              "    </tr>\n",
              "  </tbody>\n",
              "</table>\n",
              "</div>\n",
              "      <button class=\"colab-df-convert\" onclick=\"convertToInteractive('df-329b65dd-b1e2-4917-abe5-88103383ca92')\"\n",
              "              title=\"Convert this dataframe to an interactive table.\"\n",
              "              style=\"display:none;\">\n",
              "        \n",
              "  <svg xmlns=\"http://www.w3.org/2000/svg\" height=\"24px\"viewBox=\"0 0 24 24\"\n",
              "       width=\"24px\">\n",
              "    <path d=\"M0 0h24v24H0V0z\" fill=\"none\"/>\n",
              "    <path d=\"M18.56 5.44l.94 2.06.94-2.06 2.06-.94-2.06-.94-.94-2.06-.94 2.06-2.06.94zm-11 1L8.5 8.5l.94-2.06 2.06-.94-2.06-.94L8.5 2.5l-.94 2.06-2.06.94zm10 10l.94 2.06.94-2.06 2.06-.94-2.06-.94-.94-2.06-.94 2.06-2.06.94z\"/><path d=\"M17.41 7.96l-1.37-1.37c-.4-.4-.92-.59-1.43-.59-.52 0-1.04.2-1.43.59L10.3 9.45l-7.72 7.72c-.78.78-.78 2.05 0 2.83L4 21.41c.39.39.9.59 1.41.59.51 0 1.02-.2 1.41-.59l7.78-7.78 2.81-2.81c.8-.78.8-2.07 0-2.86zM5.41 20L4 18.59l7.72-7.72 1.47 1.35L5.41 20z\"/>\n",
              "  </svg>\n",
              "      </button>\n",
              "      \n",
              "  <style>\n",
              "    .colab-df-container {\n",
              "      display:flex;\n",
              "      flex-wrap:wrap;\n",
              "      gap: 12px;\n",
              "    }\n",
              "\n",
              "    .colab-df-convert {\n",
              "      background-color: #E8F0FE;\n",
              "      border: none;\n",
              "      border-radius: 50%;\n",
              "      cursor: pointer;\n",
              "      display: none;\n",
              "      fill: #1967D2;\n",
              "      height: 32px;\n",
              "      padding: 0 0 0 0;\n",
              "      width: 32px;\n",
              "    }\n",
              "\n",
              "    .colab-df-convert:hover {\n",
              "      background-color: #E2EBFA;\n",
              "      box-shadow: 0px 1px 2px rgba(60, 64, 67, 0.3), 0px 1px 3px 1px rgba(60, 64, 67, 0.15);\n",
              "      fill: #174EA6;\n",
              "    }\n",
              "\n",
              "    [theme=dark] .colab-df-convert {\n",
              "      background-color: #3B4455;\n",
              "      fill: #D2E3FC;\n",
              "    }\n",
              "\n",
              "    [theme=dark] .colab-df-convert:hover {\n",
              "      background-color: #434B5C;\n",
              "      box-shadow: 0px 1px 3px 1px rgba(0, 0, 0, 0.15);\n",
              "      filter: drop-shadow(0px 1px 2px rgba(0, 0, 0, 0.3));\n",
              "      fill: #FFFFFF;\n",
              "    }\n",
              "  </style>\n",
              "\n",
              "      <script>\n",
              "        const buttonEl =\n",
              "          document.querySelector('#df-329b65dd-b1e2-4917-abe5-88103383ca92 button.colab-df-convert');\n",
              "        buttonEl.style.display =\n",
              "          google.colab.kernel.accessAllowed ? 'block' : 'none';\n",
              "\n",
              "        async function convertToInteractive(key) {\n",
              "          const element = document.querySelector('#df-329b65dd-b1e2-4917-abe5-88103383ca92');\n",
              "          const dataTable =\n",
              "            await google.colab.kernel.invokeFunction('convertToInteractive',\n",
              "                                                     [key], {});\n",
              "          if (!dataTable) return;\n",
              "\n",
              "          const docLinkHtml = 'Like what you see? Visit the ' +\n",
              "            '<a target=\"_blank\" href=https://colab.research.google.com/notebooks/data_table.ipynb>data table notebook</a>'\n",
              "            + ' to learn more about interactive tables.';\n",
              "          element.innerHTML = '';\n",
              "          dataTable['output_type'] = 'display_data';\n",
              "          await google.colab.output.renderOutput(dataTable, element);\n",
              "          const docLink = document.createElement('div');\n",
              "          docLink.innerHTML = docLinkHtml;\n",
              "          element.appendChild(docLink);\n",
              "        }\n",
              "      </script>\n",
              "    </div>\n",
              "  </div>\n",
              "  "
            ],
            "text/plain": [
              "    Customer ID  Gender  Car Type  Shirt Size  Class\n",
              "0             1       1         0           3      0\n",
              "1             2       1         2           2      0\n",
              "2             3       1         2           2      0\n",
              "3             4       1         2           1      0\n",
              "4             5       1         2           0      0\n",
              "5             6       1         2           0      0\n",
              "6             7       0         2           3      0\n",
              "7             8       0         2           3      0\n",
              "8             9       0         2           2      0\n",
              "9            10       0         1           1      0\n",
              "10           11       1         0           1      1\n",
              "11           12       1         0           0      1\n",
              "12           13       1         0           2      1\n",
              "13           14       1         1           0      1\n",
              "14           15       0         1           3      1\n",
              "15           16       0         1           3      1\n",
              "16           17       0         1           2      1\n",
              "17           18       0         1           2      1\n",
              "18           19       0         1           2      1\n",
              "19           20       0         1           1      1"
            ]
          },
          "execution_count": 11,
          "metadata": {},
          "output_type": "execute_result"
        }
      ],
      "source": [
        "df"
      ]
    },
    {
      "cell_type": "code",
      "execution_count": 12,
      "metadata": {
        "id": "qm5JhhK6XouF"
      },
      "outputs": [],
      "source": [
        "X = df[[\"Gender\", \"Car Type\", \"Shirt Size\"]]"
      ]
    },
    {
      "cell_type": "code",
      "execution_count": 15,
      "metadata": {
        "colab": {
          "base_uri": "https://localhost:8080/",
          "height": 206
        },
        "id": "w69wav-IXvsn",
        "outputId": "c4a7dae6-1482-4600-f1ab-cf20eaba9876"
      },
      "outputs": [
        {
          "data": {
            "text/html": [
              "\n",
              "  <div id=\"df-ab5e066a-86ff-4f83-81d4-d988bce77f1d\">\n",
              "    <div class=\"colab-df-container\">\n",
              "      <div>\n",
              "<style scoped>\n",
              "    .dataframe tbody tr th:only-of-type {\n",
              "        vertical-align: middle;\n",
              "    }\n",
              "\n",
              "    .dataframe tbody tr th {\n",
              "        vertical-align: top;\n",
              "    }\n",
              "\n",
              "    .dataframe thead th {\n",
              "        text-align: right;\n",
              "    }\n",
              "</style>\n",
              "<table border=\"1\" class=\"dataframe\">\n",
              "  <thead>\n",
              "    <tr style=\"text-align: right;\">\n",
              "      <th></th>\n",
              "      <th>Gender</th>\n",
              "      <th>Car Type</th>\n",
              "      <th>Shirt Size</th>\n",
              "    </tr>\n",
              "  </thead>\n",
              "  <tbody>\n",
              "    <tr>\n",
              "      <th>0</th>\n",
              "      <td>1</td>\n",
              "      <td>0</td>\n",
              "      <td>3</td>\n",
              "    </tr>\n",
              "    <tr>\n",
              "      <th>1</th>\n",
              "      <td>1</td>\n",
              "      <td>2</td>\n",
              "      <td>2</td>\n",
              "    </tr>\n",
              "    <tr>\n",
              "      <th>2</th>\n",
              "      <td>1</td>\n",
              "      <td>2</td>\n",
              "      <td>2</td>\n",
              "    </tr>\n",
              "    <tr>\n",
              "      <th>3</th>\n",
              "      <td>1</td>\n",
              "      <td>2</td>\n",
              "      <td>1</td>\n",
              "    </tr>\n",
              "    <tr>\n",
              "      <th>4</th>\n",
              "      <td>1</td>\n",
              "      <td>2</td>\n",
              "      <td>0</td>\n",
              "    </tr>\n",
              "  </tbody>\n",
              "</table>\n",
              "</div>\n",
              "      <button class=\"colab-df-convert\" onclick=\"convertToInteractive('df-ab5e066a-86ff-4f83-81d4-d988bce77f1d')\"\n",
              "              title=\"Convert this dataframe to an interactive table.\"\n",
              "              style=\"display:none;\">\n",
              "        \n",
              "  <svg xmlns=\"http://www.w3.org/2000/svg\" height=\"24px\"viewBox=\"0 0 24 24\"\n",
              "       width=\"24px\">\n",
              "    <path d=\"M0 0h24v24H0V0z\" fill=\"none\"/>\n",
              "    <path d=\"M18.56 5.44l.94 2.06.94-2.06 2.06-.94-2.06-.94-.94-2.06-.94 2.06-2.06.94zm-11 1L8.5 8.5l.94-2.06 2.06-.94-2.06-.94L8.5 2.5l-.94 2.06-2.06.94zm10 10l.94 2.06.94-2.06 2.06-.94-2.06-.94-.94-2.06-.94 2.06-2.06.94z\"/><path d=\"M17.41 7.96l-1.37-1.37c-.4-.4-.92-.59-1.43-.59-.52 0-1.04.2-1.43.59L10.3 9.45l-7.72 7.72c-.78.78-.78 2.05 0 2.83L4 21.41c.39.39.9.59 1.41.59.51 0 1.02-.2 1.41-.59l7.78-7.78 2.81-2.81c.8-.78.8-2.07 0-2.86zM5.41 20L4 18.59l7.72-7.72 1.47 1.35L5.41 20z\"/>\n",
              "  </svg>\n",
              "      </button>\n",
              "      \n",
              "  <style>\n",
              "    .colab-df-container {\n",
              "      display:flex;\n",
              "      flex-wrap:wrap;\n",
              "      gap: 12px;\n",
              "    }\n",
              "\n",
              "    .colab-df-convert {\n",
              "      background-color: #E8F0FE;\n",
              "      border: none;\n",
              "      border-radius: 50%;\n",
              "      cursor: pointer;\n",
              "      display: none;\n",
              "      fill: #1967D2;\n",
              "      height: 32px;\n",
              "      padding: 0 0 0 0;\n",
              "      width: 32px;\n",
              "    }\n",
              "\n",
              "    .colab-df-convert:hover {\n",
              "      background-color: #E2EBFA;\n",
              "      box-shadow: 0px 1px 2px rgba(60, 64, 67, 0.3), 0px 1px 3px 1px rgba(60, 64, 67, 0.15);\n",
              "      fill: #174EA6;\n",
              "    }\n",
              "\n",
              "    [theme=dark] .colab-df-convert {\n",
              "      background-color: #3B4455;\n",
              "      fill: #D2E3FC;\n",
              "    }\n",
              "\n",
              "    [theme=dark] .colab-df-convert:hover {\n",
              "      background-color: #434B5C;\n",
              "      box-shadow: 0px 1px 3px 1px rgba(0, 0, 0, 0.15);\n",
              "      filter: drop-shadow(0px 1px 2px rgba(0, 0, 0, 0.3));\n",
              "      fill: #FFFFFF;\n",
              "    }\n",
              "  </style>\n",
              "\n",
              "      <script>\n",
              "        const buttonEl =\n",
              "          document.querySelector('#df-ab5e066a-86ff-4f83-81d4-d988bce77f1d button.colab-df-convert');\n",
              "        buttonEl.style.display =\n",
              "          google.colab.kernel.accessAllowed ? 'block' : 'none';\n",
              "\n",
              "        async function convertToInteractive(key) {\n",
              "          const element = document.querySelector('#df-ab5e066a-86ff-4f83-81d4-d988bce77f1d');\n",
              "          const dataTable =\n",
              "            await google.colab.kernel.invokeFunction('convertToInteractive',\n",
              "                                                     [key], {});\n",
              "          if (!dataTable) return;\n",
              "\n",
              "          const docLinkHtml = 'Like what you see? Visit the ' +\n",
              "            '<a target=\"_blank\" href=https://colab.research.google.com/notebooks/data_table.ipynb>data table notebook</a>'\n",
              "            + ' to learn more about interactive tables.';\n",
              "          element.innerHTML = '';\n",
              "          dataTable['output_type'] = 'display_data';\n",
              "          await google.colab.output.renderOutput(dataTable, element);\n",
              "          const docLink = document.createElement('div');\n",
              "          docLink.innerHTML = docLinkHtml;\n",
              "          element.appendChild(docLink);\n",
              "        }\n",
              "      </script>\n",
              "    </div>\n",
              "  </div>\n",
              "  "
            ],
            "text/plain": [
              "   Gender  Car Type  Shirt Size\n",
              "0       1         0           3\n",
              "1       1         2           2\n",
              "2       1         2           2\n",
              "3       1         2           1\n",
              "4       1         2           0"
            ]
          },
          "execution_count": 15,
          "metadata": {},
          "output_type": "execute_result"
        }
      ],
      "source": [
        "X.head()"
      ]
    },
    {
      "cell_type": "code",
      "execution_count": 14,
      "metadata": {
        "id": "Y7Rwh3GvXyR4"
      },
      "outputs": [],
      "source": [
        "Y = df[\"Class\"]"
      ]
    },
    {
      "cell_type": "code",
      "execution_count": 18,
      "metadata": {
        "colab": {
          "base_uri": "https://localhost:8080/"
        },
        "id": "d2FcqMZzYS0L",
        "outputId": "4d60a7a1-437a-4223-96a3-1676ead5d306"
      },
      "outputs": [
        {
          "data": {
            "text/plain": [
              "0    0\n",
              "1    0\n",
              "2    0\n",
              "3    0\n",
              "4    0\n",
              "Name: Class, dtype: int64"
            ]
          },
          "execution_count": 18,
          "metadata": {},
          "output_type": "execute_result"
        }
      ],
      "source": [
        "Y.head()"
      ]
    },
    {
      "cell_type": "code",
      "execution_count": 19,
      "metadata": {
        "id": "EFVynSgcYV4x"
      },
      "outputs": [],
      "source": [
        "from sklearn.tree import DecisionTreeClassifier"
      ]
    },
    {
      "cell_type": "code",
      "execution_count": 20,
      "metadata": {
        "id": "Pxh1WgCGYfFj"
      },
      "outputs": [],
      "source": [
        "clf_gini = DecisionTreeClassifier(criterion = \"gini\", random_state = 100, max_depth = None, min_samples_leaf = 1)"
      ]
    },
    {
      "cell_type": "code",
      "execution_count": 21,
      "metadata": {
        "colab": {
          "base_uri": "https://localhost:8080/",
          "height": 74
        },
        "id": "UIMhNFeqY1V-",
        "outputId": "bc45bda5-0ebd-4e68-ef62-5bc7232b5508"
      },
      "outputs": [
        {
          "data": {
            "text/html": [
              "<style>#sk-container-id-1 {color: black;background-color: white;}#sk-container-id-1 pre{padding: 0;}#sk-container-id-1 div.sk-toggleable {background-color: white;}#sk-container-id-1 label.sk-toggleable__label {cursor: pointer;display: block;width: 100%;margin-bottom: 0;padding: 0.3em;box-sizing: border-box;text-align: center;}#sk-container-id-1 label.sk-toggleable__label-arrow:before {content: \"▸\";float: left;margin-right: 0.25em;color: #696969;}#sk-container-id-1 label.sk-toggleable__label-arrow:hover:before {color: black;}#sk-container-id-1 div.sk-estimator:hover label.sk-toggleable__label-arrow:before {color: black;}#sk-container-id-1 div.sk-toggleable__content {max-height: 0;max-width: 0;overflow: hidden;text-align: left;background-color: #f0f8ff;}#sk-container-id-1 div.sk-toggleable__content pre {margin: 0.2em;color: black;border-radius: 0.25em;background-color: #f0f8ff;}#sk-container-id-1 input.sk-toggleable__control:checked~div.sk-toggleable__content {max-height: 200px;max-width: 100%;overflow: auto;}#sk-container-id-1 input.sk-toggleable__control:checked~label.sk-toggleable__label-arrow:before {content: \"▾\";}#sk-container-id-1 div.sk-estimator input.sk-toggleable__control:checked~label.sk-toggleable__label {background-color: #d4ebff;}#sk-container-id-1 div.sk-label input.sk-toggleable__control:checked~label.sk-toggleable__label {background-color: #d4ebff;}#sk-container-id-1 input.sk-hidden--visually {border: 0;clip: rect(1px 1px 1px 1px);clip: rect(1px, 1px, 1px, 1px);height: 1px;margin: -1px;overflow: hidden;padding: 0;position: absolute;width: 1px;}#sk-container-id-1 div.sk-estimator {font-family: monospace;background-color: #f0f8ff;border: 1px dotted black;border-radius: 0.25em;box-sizing: border-box;margin-bottom: 0.5em;}#sk-container-id-1 div.sk-estimator:hover {background-color: #d4ebff;}#sk-container-id-1 div.sk-parallel-item::after {content: \"\";width: 100%;border-bottom: 1px solid gray;flex-grow: 1;}#sk-container-id-1 div.sk-label:hover label.sk-toggleable__label {background-color: #d4ebff;}#sk-container-id-1 div.sk-serial::before {content: \"\";position: absolute;border-left: 1px solid gray;box-sizing: border-box;top: 0;bottom: 0;left: 50%;z-index: 0;}#sk-container-id-1 div.sk-serial {display: flex;flex-direction: column;align-items: center;background-color: white;padding-right: 0.2em;padding-left: 0.2em;position: relative;}#sk-container-id-1 div.sk-item {position: relative;z-index: 1;}#sk-container-id-1 div.sk-parallel {display: flex;align-items: stretch;justify-content: center;background-color: white;position: relative;}#sk-container-id-1 div.sk-item::before, #sk-container-id-1 div.sk-parallel-item::before {content: \"\";position: absolute;border-left: 1px solid gray;box-sizing: border-box;top: 0;bottom: 0;left: 50%;z-index: -1;}#sk-container-id-1 div.sk-parallel-item {display: flex;flex-direction: column;z-index: 1;position: relative;background-color: white;}#sk-container-id-1 div.sk-parallel-item:first-child::after {align-self: flex-end;width: 50%;}#sk-container-id-1 div.sk-parallel-item:last-child::after {align-self: flex-start;width: 50%;}#sk-container-id-1 div.sk-parallel-item:only-child::after {width: 0;}#sk-container-id-1 div.sk-dashed-wrapped {border: 1px dashed gray;margin: 0 0.4em 0.5em 0.4em;box-sizing: border-box;padding-bottom: 0.4em;background-color: white;}#sk-container-id-1 div.sk-label label {font-family: monospace;font-weight: bold;display: inline-block;line-height: 1.2em;}#sk-container-id-1 div.sk-label-container {text-align: center;}#sk-container-id-1 div.sk-container {/* jupyter's `normalize.less` sets `[hidden] { display: none; }` but bootstrap.min.css set `[hidden] { display: none !important; }` so we also need the `!important` here to be able to override the default hidden behavior on the sphinx rendered scikit-learn.org. See: https://github.com/scikit-learn/scikit-learn/issues/21755 */display: inline-block !important;position: relative;}#sk-container-id-1 div.sk-text-repr-fallback {display: none;}</style><div id=\"sk-container-id-1\" class=\"sk-top-container\"><div class=\"sk-text-repr-fallback\"><pre>DecisionTreeClassifier(random_state=100)</pre><b>In a Jupyter environment, please rerun this cell to show the HTML representation or trust the notebook. <br />On GitHub, the HTML representation is unable to render, please try loading this page with nbviewer.org.</b></div><div class=\"sk-container\" hidden><div class=\"sk-item\"><div class=\"sk-estimator sk-toggleable\"><input class=\"sk-toggleable__control sk-hidden--visually\" id=\"sk-estimator-id-1\" type=\"checkbox\" checked><label for=\"sk-estimator-id-1\" class=\"sk-toggleable__label sk-toggleable__label-arrow\">DecisionTreeClassifier</label><div class=\"sk-toggleable__content\"><pre>DecisionTreeClassifier(random_state=100)</pre></div></div></div></div></div>"
            ],
            "text/plain": [
              "DecisionTreeClassifier(random_state=100)"
            ]
          },
          "execution_count": 21,
          "metadata": {},
          "output_type": "execute_result"
        }
      ],
      "source": [
        "clf_gini.fit(X, Y)"
      ]
    },
    {
      "cell_type": "code",
      "execution_count": 22,
      "metadata": {
        "id": "vZrzUmGDY5Iv"
      },
      "outputs": [],
      "source": [
        "from sklearn import tree"
      ]
    },
    {
      "attachments": {},
      "cell_type": "markdown",
      "metadata": {
        "id": "EaOVExUIbLx8"
      },
      "source": [
        "### Car Type seems to be the Root Node from the given image:"
      ]
    },
    {
      "cell_type": "code",
      "execution_count": 23,
      "metadata": {
        "colab": {
          "base_uri": "https://localhost:8080/",
          "height": 597
        },
        "id": "u0Y7S0r7aUjf",
        "outputId": "9f670ee6-fc5d-4532-fb5c-22ba7baebffd"
      },
      "outputs": [
        {
          "data": {
            "text/plain": [
              "[Text(0.6666666666666666, 0.9, 'x[1] <= 1.5\\ngini = 0.5\\nsamples = 20\\nvalue = [10, 10]'),\n",
              " Text(0.5555555555555556, 0.7, 'x[2] <= 2.5\\ngini = 0.278\\nsamples = 12\\nvalue = [2, 10]'),\n",
              " Text(0.3333333333333333, 0.5, 'x[2] <= 1.5\\ngini = 0.198\\nsamples = 9\\nvalue = [1, 8]'),\n",
              " Text(0.2222222222222222, 0.3, 'x[0] <= 0.5\\ngini = 0.32\\nsamples = 5\\nvalue = [1, 4]'),\n",
              " Text(0.1111111111111111, 0.1, 'gini = 0.5\\nsamples = 2\\nvalue = [1, 1]'),\n",
              " Text(0.3333333333333333, 0.1, 'gini = 0.0\\nsamples = 3\\nvalue = [0, 3]'),\n",
              " Text(0.4444444444444444, 0.3, 'gini = 0.0\\nsamples = 4\\nvalue = [0, 4]'),\n",
              " Text(0.7777777777777778, 0.5, 'x[0] <= 0.5\\ngini = 0.444\\nsamples = 3\\nvalue = [1, 2]'),\n",
              " Text(0.6666666666666666, 0.3, 'gini = 0.0\\nsamples = 2\\nvalue = [0, 2]'),\n",
              " Text(0.8888888888888888, 0.3, 'gini = 0.0\\nsamples = 1\\nvalue = [1, 0]'),\n",
              " Text(0.7777777777777778, 0.7, 'gini = 0.0\\nsamples = 8\\nvalue = [8, 0]')]"
            ]
          },
          "execution_count": 23,
          "metadata": {},
          "output_type": "execute_result"
        },
        {
          "data": {
            "image/png": "[encoded data removed]",
            "text/plain": [
              "<Figure size 640x480 with 1 Axes>"
            ]
          },
          "metadata": {},
          "output_type": "display_data"
        }
      ],
      "source": [
        "tree.plot_tree(clf_gini)"
      ]
    },
    {
      "attachments": {},
      "cell_type": "markdown",
      "metadata": {
        "id": "f7BLfDOgbp1I"
      },
      "source": [
        "### Using Entropy now, instead of Gini Index:"
      ]
    },
    {
      "cell_type": "code",
      "execution_count": 24,
      "metadata": {
        "id": "UYnTIxTiaaqg"
      },
      "outputs": [],
      "source": [
        "clf_entropy = DecisionTreeClassifier(criterion = \"entropy\", random_state = 100, max_depth = None, min_samples_leaf = 1)"
      ]
    },
    {
      "cell_type": "code",
      "execution_count": 25,
      "metadata": {
        "colab": {
          "base_uri": "https://localhost:8080/",
          "height": 74
        },
        "id": "-PPSgwcRbbCG",
        "outputId": "04f1a644-7032-4f23-e0de-3e629c5ea62b"
      },
      "outputs": [
        {
          "data": {
            "text/html": [
              "<style>#sk-container-id-2 {color: black;background-color: white;}#sk-container-id-2 pre{padding: 0;}#sk-container-id-2 div.sk-toggleable {background-color: white;}#sk-container-id-2 label.sk-toggleable__label {cursor: pointer;display: block;width: 100%;margin-bottom: 0;padding: 0.3em;box-sizing: border-box;text-align: center;}#sk-container-id-2 label.sk-toggleable__label-arrow:before {content: \"▸\";float: left;margin-right: 0.25em;color: #696969;}#sk-container-id-2 label.sk-toggleable__label-arrow:hover:before {color: black;}#sk-container-id-2 div.sk-estimator:hover label.sk-toggleable__label-arrow:before {color: black;}#sk-container-id-2 div.sk-toggleable__content {max-height: 0;max-width: 0;overflow: hidden;text-align: left;background-color: #f0f8ff;}#sk-container-id-2 div.sk-toggleable__content pre {margin: 0.2em;color: black;border-radius: 0.25em;background-color: #f0f8ff;}#sk-container-id-2 input.sk-toggleable__control:checked~div.sk-toggleable__content {max-height: 200px;max-width: 100%;overflow: auto;}#sk-container-id-2 input.sk-toggleable__control:checked~label.sk-toggleable__label-arrow:before {content: \"▾\";}#sk-container-id-2 div.sk-estimator input.sk-toggleable__control:checked~label.sk-toggleable__label {background-color: #d4ebff;}#sk-container-id-2 div.sk-label input.sk-toggleable__control:checked~label.sk-toggleable__label {background-color: #d4ebff;}#sk-container-id-2 input.sk-hidden--visually {border: 0;clip: rect(1px 1px 1px 1px);clip: rect(1px, 1px, 1px, 1px);height: 1px;margin: -1px;overflow: hidden;padding: 0;position: absolute;width: 1px;}#sk-container-id-2 div.sk-estimator {font-family: monospace;background-color: #f0f8ff;border: 1px dotted black;border-radius: 0.25em;box-sizing: border-box;margin-bottom: 0.5em;}#sk-container-id-2 div.sk-estimator:hover {background-color: #d4ebff;}#sk-container-id-2 div.sk-parallel-item::after {content: \"\";width: 100%;border-bottom: 1px solid gray;flex-grow: 1;}#sk-container-id-2 div.sk-label:hover label.sk-toggleable__label {background-color: #d4ebff;}#sk-container-id-2 div.sk-serial::before {content: \"\";position: absolute;border-left: 1px solid gray;box-sizing: border-box;top: 0;bottom: 0;left: 50%;z-index: 0;}#sk-container-id-2 div.sk-serial {display: flex;flex-direction: column;align-items: center;background-color: white;padding-right: 0.2em;padding-left: 0.2em;position: relative;}#sk-container-id-2 div.sk-item {position: relative;z-index: 1;}#sk-container-id-2 div.sk-parallel {display: flex;align-items: stretch;justify-content: center;background-color: white;position: relative;}#sk-container-id-2 div.sk-item::before, #sk-container-id-2 div.sk-parallel-item::before {content: \"\";position: absolute;border-left: 1px solid gray;box-sizing: border-box;top: 0;bottom: 0;left: 50%;z-index: -1;}#sk-container-id-2 div.sk-parallel-item {display: flex;flex-direction: column;z-index: 1;position: relative;background-color: white;}#sk-container-id-2 div.sk-parallel-item:first-child::after {align-self: flex-end;width: 50%;}#sk-container-id-2 div.sk-parallel-item:last-child::after {align-self: flex-start;width: 50%;}#sk-container-id-2 div.sk-parallel-item:only-child::after {width: 0;}#sk-container-id-2 div.sk-dashed-wrapped {border: 1px dashed gray;margin: 0 0.4em 0.5em 0.4em;box-sizing: border-box;padding-bottom: 0.4em;background-color: white;}#sk-container-id-2 div.sk-label label {font-family: monospace;font-weight: bold;display: inline-block;line-height: 1.2em;}#sk-container-id-2 div.sk-label-container {text-align: center;}#sk-container-id-2 div.sk-container {/* jupyter's `normalize.less` sets `[hidden] { display: none; }` but bootstrap.min.css set `[hidden] { display: none !important; }` so we also need the `!important` here to be able to override the default hidden behavior on the sphinx rendered scikit-learn.org. See: https://github.com/scikit-learn/scikit-learn/issues/21755 */display: inline-block !important;position: relative;}#sk-container-id-2 div.sk-text-repr-fallback {display: none;}</style><div id=\"sk-container-id-2\" class=\"sk-top-container\"><div class=\"sk-text-repr-fallback\"><pre>DecisionTreeClassifier(criterion=&#x27;entropy&#x27;, random_state=100)</pre><b>In a Jupyter environment, please rerun this cell to show the HTML representation or trust the notebook. <br />On GitHub, the HTML representation is unable to render, please try loading this page with nbviewer.org.</b></div><div class=\"sk-container\" hidden><div class=\"sk-item\"><div class=\"sk-estimator sk-toggleable\"><input class=\"sk-toggleable__control sk-hidden--visually\" id=\"sk-estimator-id-2\" type=\"checkbox\" checked><label for=\"sk-estimator-id-2\" class=\"sk-toggleable__label sk-toggleable__label-arrow\">DecisionTreeClassifier</label><div class=\"sk-toggleable__content\"><pre>DecisionTreeClassifier(criterion=&#x27;entropy&#x27;, random_state=100)</pre></div></div></div></div></div>"
            ],
            "text/plain": [
              "DecisionTreeClassifier(criterion='entropy', random_state=100)"
            ]
          },
          "execution_count": 25,
          "metadata": {},
          "output_type": "execute_result"
        }
      ],
      "source": [
        "clf_entropy.fit(X, Y)"
      ]
    },
    {
      "cell_type": "code",
      "execution_count": 26,
      "metadata": {
        "colab": {
          "base_uri": "https://localhost:8080/",
          "height": 597
        },
        "id": "pirjTy0VbiO2",
        "outputId": "ad88ffaa-dc1e-45f5-8e52-85e989c2266a"
      },
      "outputs": [
        {
          "data": {
            "text/plain": [
              "[Text(0.5, 0.9, 'x[1] <= 1.5\\nentropy = 1.0\\nsamples = 20\\nvalue = [10, 10]'),\n",
              " Text(0.375, 0.7, 'x[2] <= 0.5\\nentropy = 0.65\\nsamples = 12\\nvalue = [2, 10]'),\n",
              " Text(0.25, 0.5, 'entropy = 0.0\\nsamples = 2\\nvalue = [0, 2]'),\n",
              " Text(0.5, 0.5, 'x[1] <= 0.5\\nentropy = 0.722\\nsamples = 10\\nvalue = [2, 8]'),\n",
              " Text(0.25, 0.3, 'x[2] <= 2.5\\nentropy = 0.918\\nsamples = 3\\nvalue = [1, 2]'),\n",
              " Text(0.125, 0.1, 'entropy = 0.0\\nsamples = 2\\nvalue = [0, 2]'),\n",
              " Text(0.375, 0.1, 'entropy = 0.0\\nsamples = 1\\nvalue = [1, 0]'),\n",
              " Text(0.75, 0.3, 'x[2] <= 1.5\\nentropy = 0.592\\nsamples = 7\\nvalue = [1, 6]'),\n",
              " Text(0.625, 0.1, 'entropy = 1.0\\nsamples = 2\\nvalue = [1, 1]'),\n",
              " Text(0.875, 0.1, 'entropy = 0.0\\nsamples = 5\\nvalue = [0, 5]'),\n",
              " Text(0.625, 0.7, 'entropy = 0.0\\nsamples = 8\\nvalue = [8, 0]')]"
            ]
          },
          "execution_count": 26,
          "metadata": {},
          "output_type": "execute_result"
        },
        {
          "data": {
            "image/png": "[encoded data removed]",
            "text/plain": [
              "<Figure size 640x480 with 1 Axes>"
            ]
          },
          "metadata": {},
          "output_type": "display_data"
        }
      ],
      "source": [
        "tree.plot_tree(clf_entropy)"
      ]
    },
    {
      "attachments": {},
      "cell_type": "markdown",
      "metadata": {
        "id": "YiS7loI3cJck"
      },
      "source": [
        "### Loading another dataset:"
      ]
    },
    {
      "cell_type": "code",
      "execution_count": 27,
      "metadata": {
        "id": "5SXhNTe8bn6H"
      },
      "outputs": [],
      "source": [
        "df = pd.read_csv(\"/content/diabetes_1.csv\")"
      ]
    },
    {
      "attachments": {},
      "cell_type": "markdown",
      "metadata": {
        "id": "CormIfoXcN1t"
      },
      "source": [
        "### EDA:"
      ]
    },
    {
      "cell_type": "code",
      "execution_count": 28,
      "metadata": {
        "colab": {
          "base_uri": "https://localhost:8080/",
          "height": 206
        },
        "id": "GG5fgidZcM_B",
        "outputId": "aa13b4f3-c846-4d11-8f57-5545d67f8a66"
      },
      "outputs": [
        {
          "data": {
            "text/html": [
              "\n",
              "  <div id=\"df-7922f685-4940-4cf2-aac0-d0850093d20e\">\n",
              "    <div class=\"colab-df-container\">\n",
              "      <div>\n",
              "<style scoped>\n",
              "    .dataframe tbody tr th:only-of-type {\n",
              "        vertical-align: middle;\n",
              "    }\n",
              "\n",
              "    .dataframe tbody tr th {\n",
              "        vertical-align: top;\n",
              "    }\n",
              "\n",
              "    .dataframe thead th {\n",
              "        text-align: right;\n",
              "    }\n",
              "</style>\n",
              "<table border=\"1\" class=\"dataframe\">\n",
              "  <thead>\n",
              "    <tr style=\"text-align: right;\">\n",
              "      <th></th>\n",
              "      <th>Pregnancies</th>\n",
              "      <th>Glucose</th>\n",
              "      <th>BloodPressure</th>\n",
              "      <th>SkinThickness</th>\n",
              "      <th>Insulin</th>\n",
              "      <th>BMI</th>\n",
              "      <th>DiabetesPedigreeFunction</th>\n",
              "      <th>Age</th>\n",
              "      <th>Outcome</th>\n",
              "    </tr>\n",
              "  </thead>\n",
              "  <tbody>\n",
              "    <tr>\n",
              "      <th>0</th>\n",
              "      <td>6</td>\n",
              "      <td>148</td>\n",
              "      <td>72</td>\n",
              "      <td>35</td>\n",
              "      <td>0</td>\n",
              "      <td>33.6</td>\n",
              "      <td>0.627</td>\n",
              "      <td>50</td>\n",
              "      <td>1</td>\n",
              "    </tr>\n",
              "    <tr>\n",
              "      <th>1</th>\n",
              "      <td>1</td>\n",
              "      <td>85</td>\n",
              "      <td>66</td>\n",
              "      <td>29</td>\n",
              "      <td>0</td>\n",
              "      <td>26.6</td>\n",
              "      <td>0.351</td>\n",
              "      <td>31</td>\n",
              "      <td>0</td>\n",
              "    </tr>\n",
              "    <tr>\n",
              "      <th>2</th>\n",
              "      <td>8</td>\n",
              "      <td>183</td>\n",
              "      <td>64</td>\n",
              "      <td>0</td>\n",
              "      <td>0</td>\n",
              "      <td>23.3</td>\n",
              "      <td>0.672</td>\n",
              "      <td>32</td>\n",
              "      <td>1</td>\n",
              "    </tr>\n",
              "    <tr>\n",
              "      <th>3</th>\n",
              "      <td>1</td>\n",
              "      <td>89</td>\n",
              "      <td>66</td>\n",
              "      <td>23</td>\n",
              "      <td>94</td>\n",
              "      <td>28.1</td>\n",
              "      <td>0.167</td>\n",
              "      <td>21</td>\n",
              "      <td>0</td>\n",
              "    </tr>\n",
              "    <tr>\n",
              "      <th>4</th>\n",
              "      <td>0</td>\n",
              "      <td>137</td>\n",
              "      <td>40</td>\n",
              "      <td>35</td>\n",
              "      <td>168</td>\n",
              "      <td>43.1</td>\n",
              "      <td>2.288</td>\n",
              "      <td>33</td>\n",
              "      <td>1</td>\n",
              "    </tr>\n",
              "  </tbody>\n",
              "</table>\n",
              "</div>\n",
              "      <button class=\"colab-df-convert\" onclick=\"convertToInteractive('df-7922f685-4940-4cf2-aac0-d0850093d20e')\"\n",
              "              title=\"Convert this dataframe to an interactive table.\"\n",
              "              style=\"display:none;\">\n",
              "        \n",
              "  <svg xmlns=\"http://www.w3.org/2000/svg\" height=\"24px\"viewBox=\"0 0 24 24\"\n",
              "       width=\"24px\">\n",
              "    <path d=\"M0 0h24v24H0V0z\" fill=\"none\"/>\n",
              "    <path d=\"M18.56 5.44l.94 2.06.94-2.06 2.06-.94-2.06-.94-.94-2.06-.94 2.06-2.06.94zm-11 1L8.5 8.5l.94-2.06 2.06-.94-2.06-.94L8.5 2.5l-.94 2.06-2.06.94zm10 10l.94 2.06.94-2.06 2.06-.94-2.06-.94-.94-2.06-.94 2.06-2.06.94z\"/><path d=\"M17.41 7.96l-1.37-1.37c-.4-.4-.92-.59-1.43-.59-.52 0-1.04.2-1.43.59L10.3 9.45l-7.72 7.72c-.78.78-.78 2.05 0 2.83L4 21.41c.39.39.9.59 1.41.59.51 0 1.02-.2 1.41-.59l7.78-7.78 2.81-2.81c.8-.78.8-2.07 0-2.86zM5.41 20L4 18.59l7.72-7.72 1.47 1.35L5.41 20z\"/>\n",
              "  </svg>\n",
              "      </button>\n",
              "      \n",
              "  <style>\n",
              "    .colab-df-container {\n",
              "      display:flex;\n",
              "      flex-wrap:wrap;\n",
              "      gap: 12px;\n",
              "    }\n",
              "\n",
              "    .colab-df-convert {\n",
              "      background-color: #E8F0FE;\n",
              "      border: none;\n",
              "      border-radius: 50%;\n",
              "      cursor: pointer;\n",
              "      display: none;\n",
              "      fill: #1967D2;\n",
              "      height: 32px;\n",
              "      padding: 0 0 0 0;\n",
              "      width: 32px;\n",
              "    }\n",
              "\n",
              "    .colab-df-convert:hover {\n",
              "      background-color: #E2EBFA;\n",
              "      box-shadow: 0px 1px 2px rgba(60, 64, 67, 0.3), 0px 1px 3px 1px rgba(60, 64, 67, 0.15);\n",
              "      fill: #174EA6;\n",
              "    }\n",
              "\n",
              "    [theme=dark] .colab-df-convert {\n",
              "      background-color: #3B4455;\n",
              "      fill: #D2E3FC;\n",
              "    }\n",
              "\n",
              "    [theme=dark] .colab-df-convert:hover {\n",
              "      background-color: #434B5C;\n",
              "      box-shadow: 0px 1px 3px 1px rgba(0, 0, 0, 0.15);\n",
              "      filter: drop-shadow(0px 1px 2px rgba(0, 0, 0, 0.3));\n",
              "      fill: #FFFFFF;\n",
              "    }\n",
              "  </style>\n",
              "\n",
              "      <script>\n",
              "        const buttonEl =\n",
              "          document.querySelector('#df-7922f685-4940-4cf2-aac0-d0850093d20e button.colab-df-convert');\n",
              "        buttonEl.style.display =\n",
              "          google.colab.kernel.accessAllowed ? 'block' : 'none';\n",
              "\n",
              "        async function convertToInteractive(key) {\n",
              "          const element = document.querySelector('#df-7922f685-4940-4cf2-aac0-d0850093d20e');\n",
              "          const dataTable =\n",
              "            await google.colab.kernel.invokeFunction('convertToInteractive',\n",
              "                                                     [key], {});\n",
              "          if (!dataTable) return;\n",
              "\n",
              "          const docLinkHtml = 'Like what you see? Visit the ' +\n",
              "            '<a target=\"_blank\" href=https://colab.research.google.com/notebooks/data_table.ipynb>data table notebook</a>'\n",
              "            + ' to learn more about interactive tables.';\n",
              "          element.innerHTML = '';\n",
              "          dataTable['output_type'] = 'display_data';\n",
              "          await google.colab.output.renderOutput(dataTable, element);\n",
              "          const docLink = document.createElement('div');\n",
              "          docLink.innerHTML = docLinkHtml;\n",
              "          element.appendChild(docLink);\n",
              "        }\n",
              "      </script>\n",
              "    </div>\n",
              "  </div>\n",
              "  "
            ],
            "text/plain": [
              "   Pregnancies  Glucose  BloodPressure  SkinThickness  Insulin   BMI  \\\n",
              "0            6      148             72             35        0  33.6   \n",
              "1            1       85             66             29        0  26.6   \n",
              "2            8      183             64              0        0  23.3   \n",
              "3            1       89             66             23       94  28.1   \n",
              "4            0      137             40             35      168  43.1   \n",
              "\n",
              "   DiabetesPedigreeFunction  Age  Outcome  \n",
              "0                     0.627   50        1  \n",
              "1                     0.351   31        0  \n",
              "2                     0.672   32        1  \n",
              "3                     0.167   21        0  \n",
              "4                     2.288   33        1  "
            ]
          },
          "execution_count": 28,
          "metadata": {},
          "output_type": "execute_result"
        }
      ],
      "source": [
        "df.head()"
      ]
    },
    {
      "cell_type": "code",
      "execution_count": 29,
      "metadata": {
        "colab": {
          "base_uri": "https://localhost:8080/",
          "height": 300
        },
        "id": "4YjU_GLBcUME",
        "outputId": "ea221636-62ac-4402-b905-391412941093"
      },
      "outputs": [
        {
          "data": {
            "text/html": [
              "\n",
              "  <div id=\"df-1101316d-079b-4cd5-a160-5eb413ae4ad7\">\n",
              "    <div class=\"colab-df-container\">\n",
              "      <div>\n",
              "<style scoped>\n",
              "    .dataframe tbody tr th:only-of-type {\n",
              "        vertical-align: middle;\n",
              "    }\n",
              "\n",
              "    .dataframe tbody tr th {\n",
              "        vertical-align: top;\n",
              "    }\n",
              "\n",
              "    .dataframe thead th {\n",
              "        text-align: right;\n",
              "    }\n",
              "</style>\n",
              "<table border=\"1\" class=\"dataframe\">\n",
              "  <thead>\n",
              "    <tr style=\"text-align: right;\">\n",
              "      <th></th>\n",
              "      <th>Pregnancies</th>\n",
              "      <th>Glucose</th>\n",
              "      <th>BloodPressure</th>\n",
              "      <th>SkinThickness</th>\n",
              "      <th>Insulin</th>\n",
              "      <th>BMI</th>\n",
              "      <th>DiabetesPedigreeFunction</th>\n",
              "      <th>Age</th>\n",
              "      <th>Outcome</th>\n",
              "    </tr>\n",
              "  </thead>\n",
              "  <tbody>\n",
              "    <tr>\n",
              "      <th>count</th>\n",
              "      <td>768.000000</td>\n",
              "      <td>768.000000</td>\n",
              "      <td>768.000000</td>\n",
              "      <td>768.000000</td>\n",
              "      <td>768.000000</td>\n",
              "      <td>768.000000</td>\n",
              "      <td>768.000000</td>\n",
              "      <td>768.000000</td>\n",
              "      <td>768.000000</td>\n",
              "    </tr>\n",
              "    <tr>\n",
              "      <th>mean</th>\n",
              "      <td>3.845052</td>\n",
              "      <td>120.894531</td>\n",
              "      <td>69.105469</td>\n",
              "      <td>20.536458</td>\n",
              "      <td>79.799479</td>\n",
              "      <td>31.992578</td>\n",
              "      <td>0.471876</td>\n",
              "      <td>33.240885</td>\n",
              "      <td>0.348958</td>\n",
              "    </tr>\n",
              "    <tr>\n",
              "      <th>std</th>\n",
              "      <td>3.369578</td>\n",
              "      <td>31.972618</td>\n",
              "      <td>19.355807</td>\n",
              "      <td>15.952218</td>\n",
              "      <td>115.244002</td>\n",
              "      <td>7.884160</td>\n",
              "      <td>0.331329</td>\n",
              "      <td>11.760232</td>\n",
              "      <td>0.476951</td>\n",
              "    </tr>\n",
              "    <tr>\n",
              "      <th>min</th>\n",
              "      <td>0.000000</td>\n",
              "      <td>0.000000</td>\n",
              "      <td>0.000000</td>\n",
              "      <td>0.000000</td>\n",
              "      <td>0.000000</td>\n",
              "      <td>0.000000</td>\n",
              "      <td>0.078000</td>\n",
              "      <td>21.000000</td>\n",
              "      <td>0.000000</td>\n",
              "    </tr>\n",
              "    <tr>\n",
              "      <th>25%</th>\n",
              "      <td>1.000000</td>\n",
              "      <td>99.000000</td>\n",
              "      <td>62.000000</td>\n",
              "      <td>0.000000</td>\n",
              "      <td>0.000000</td>\n",
              "      <td>27.300000</td>\n",
              "      <td>0.243750</td>\n",
              "      <td>24.000000</td>\n",
              "      <td>0.000000</td>\n",
              "    </tr>\n",
              "    <tr>\n",
              "      <th>50%</th>\n",
              "      <td>3.000000</td>\n",
              "      <td>117.000000</td>\n",
              "      <td>72.000000</td>\n",
              "      <td>23.000000</td>\n",
              "      <td>30.500000</td>\n",
              "      <td>32.000000</td>\n",
              "      <td>0.372500</td>\n",
              "      <td>29.000000</td>\n",
              "      <td>0.000000</td>\n",
              "    </tr>\n",
              "    <tr>\n",
              "      <th>75%</th>\n",
              "      <td>6.000000</td>\n",
              "      <td>140.250000</td>\n",
              "      <td>80.000000</td>\n",
              "      <td>32.000000</td>\n",
              "      <td>127.250000</td>\n",
              "      <td>36.600000</td>\n",
              "      <td>0.626250</td>\n",
              "      <td>41.000000</td>\n",
              "      <td>1.000000</td>\n",
              "    </tr>\n",
              "    <tr>\n",
              "      <th>max</th>\n",
              "      <td>17.000000</td>\n",
              "      <td>199.000000</td>\n",
              "      <td>122.000000</td>\n",
              "      <td>99.000000</td>\n",
              "      <td>846.000000</td>\n",
              "      <td>67.100000</td>\n",
              "      <td>2.420000</td>\n",
              "      <td>81.000000</td>\n",
              "      <td>1.000000</td>\n",
              "    </tr>\n",
              "  </tbody>\n",
              "</table>\n",
              "</div>\n",
              "      <button class=\"colab-df-convert\" onclick=\"convertToInteractive('df-1101316d-079b-4cd5-a160-5eb413ae4ad7')\"\n",
              "              title=\"Convert this dataframe to an interactive table.\"\n",
              "              style=\"display:none;\">\n",
              "        \n",
              "  <svg xmlns=\"http://www.w3.org/2000/svg\" height=\"24px\"viewBox=\"0 0 24 24\"\n",
              "       width=\"24px\">\n",
              "    <path d=\"M0 0h24v24H0V0z\" fill=\"none\"/>\n",
              "    <path d=\"M18.56 5.44l.94 2.06.94-2.06 2.06-.94-2.06-.94-.94-2.06-.94 2.06-2.06.94zm-11 1L8.5 8.5l.94-2.06 2.06-.94-2.06-.94L8.5 2.5l-.94 2.06-2.06.94zm10 10l.94 2.06.94-2.06 2.06-.94-2.06-.94-.94-2.06-.94 2.06-2.06.94z\"/><path d=\"M17.41 7.96l-1.37-1.37c-.4-.4-.92-.59-1.43-.59-.52 0-1.04.2-1.43.59L10.3 9.45l-7.72 7.72c-.78.78-.78 2.05 0 2.83L4 21.41c.39.39.9.59 1.41.59.51 0 1.02-.2 1.41-.59l7.78-7.78 2.81-2.81c.8-.78.8-2.07 0-2.86zM5.41 20L4 18.59l7.72-7.72 1.47 1.35L5.41 20z\"/>\n",
              "  </svg>\n",
              "      </button>\n",
              "      \n",
              "  <style>\n",
              "    .colab-df-container {\n",
              "      display:flex;\n",
              "      flex-wrap:wrap;\n",
              "      gap: 12px;\n",
              "    }\n",
              "\n",
              "    .colab-df-convert {\n",
              "      background-color: #E8F0FE;\n",
              "      border: none;\n",
              "      border-radius: 50%;\n",
              "      cursor: pointer;\n",
              "      display: none;\n",
              "      fill: #1967D2;\n",
              "      height: 32px;\n",
              "      padding: 0 0 0 0;\n",
              "      width: 32px;\n",
              "    }\n",
              "\n",
              "    .colab-df-convert:hover {\n",
              "      background-color: #E2EBFA;\n",
              "      box-shadow: 0px 1px 2px rgba(60, 64, 67, 0.3), 0px 1px 3px 1px rgba(60, 64, 67, 0.15);\n",
              "      fill: #174EA6;\n",
              "    }\n",
              "\n",
              "    [theme=dark] .colab-df-convert {\n",
              "      background-color: #3B4455;\n",
              "      fill: #D2E3FC;\n",
              "    }\n",
              "\n",
              "    [theme=dark] .colab-df-convert:hover {\n",
              "      background-color: #434B5C;\n",
              "      box-shadow: 0px 1px 3px 1px rgba(0, 0, 0, 0.15);\n",
              "      filter: drop-shadow(0px 1px 2px rgba(0, 0, 0, 0.3));\n",
              "      fill: #FFFFFF;\n",
              "    }\n",
              "  </style>\n",
              "\n",
              "      <script>\n",
              "        const buttonEl =\n",
              "          document.querySelector('#df-1101316d-079b-4cd5-a160-5eb413ae4ad7 button.colab-df-convert');\n",
              "        buttonEl.style.display =\n",
              "          google.colab.kernel.accessAllowed ? 'block' : 'none';\n",
              "\n",
              "        async function convertToInteractive(key) {\n",
              "          const element = document.querySelector('#df-1101316d-079b-4cd5-a160-5eb413ae4ad7');\n",
              "          const dataTable =\n",
              "            await google.colab.kernel.invokeFunction('convertToInteractive',\n",
              "                                                     [key], {});\n",
              "          if (!dataTable) return;\n",
              "\n",
              "          const docLinkHtml = 'Like what you see? Visit the ' +\n",
              "            '<a target=\"_blank\" href=https://colab.research.google.com/notebooks/data_table.ipynb>data table notebook</a>'\n",
              "            + ' to learn more about interactive tables.';\n",
              "          element.innerHTML = '';\n",
              "          dataTable['output_type'] = 'display_data';\n",
              "          await google.colab.output.renderOutput(dataTable, element);\n",
              "          const docLink = document.createElement('div');\n",
              "          docLink.innerHTML = docLinkHtml;\n",
              "          element.appendChild(docLink);\n",
              "        }\n",
              "      </script>\n",
              "    </div>\n",
              "  </div>\n",
              "  "
            ],
            "text/plain": [
              "       Pregnancies     Glucose  BloodPressure  SkinThickness     Insulin  \\\n",
              "count   768.000000  768.000000     768.000000     768.000000  768.000000   \n",
              "mean      3.845052  120.894531      69.105469      20.536458   79.799479   \n",
              "std       3.369578   31.972618      19.355807      15.952218  115.244002   \n",
              "min       0.000000    0.000000       0.000000       0.000000    0.000000   \n",
              "25%       1.000000   99.000000      62.000000       0.000000    0.000000   \n",
              "50%       3.000000  117.000000      72.000000      23.000000   30.500000   \n",
              "75%       6.000000  140.250000      80.000000      32.000000  127.250000   \n",
              "max      17.000000  199.000000     122.000000      99.000000  846.000000   \n",
              "\n",
              "              BMI  DiabetesPedigreeFunction         Age     Outcome  \n",
              "count  768.000000                768.000000  768.000000  768.000000  \n",
              "mean    31.992578                  0.471876   33.240885    0.348958  \n",
              "std      7.884160                  0.331329   11.760232    0.476951  \n",
              "min      0.000000                  0.078000   21.000000    0.000000  \n",
              "25%     27.300000                  0.243750   24.000000    0.000000  \n",
              "50%     32.000000                  0.372500   29.000000    0.000000  \n",
              "75%     36.600000                  0.626250   41.000000    1.000000  \n",
              "max     67.100000                  2.420000   81.000000    1.000000  "
            ]
          },
          "execution_count": 29,
          "metadata": {},
          "output_type": "execute_result"
        }
      ],
      "source": [
        "df.describe()"
      ]
    },
    {
      "cell_type": "code",
      "execution_count": 30,
      "metadata": {
        "colab": {
          "base_uri": "https://localhost:8080/"
        },
        "id": "UznbL6YbcVEE",
        "outputId": "c4e1b867-4f73-44c7-97e2-0001e68d6f5b"
      },
      "outputs": [
        {
          "name": "stdout",
          "output_type": "stream",
          "text": [
            "<class 'pandas.core.frame.DataFrame'>\n",
            "RangeIndex: 768 entries, 0 to 767\n",
            "Data columns (total 9 columns):\n",
            " #   Column                    Non-Null Count  Dtype  \n",
            "---  ------                    --------------  -----  \n",
            " 0   Pregnancies               768 non-null    int64  \n",
            " 1   Glucose                   768 non-null    int64  \n",
            " 2   BloodPressure             768 non-null    int64  \n",
            " 3   SkinThickness             768 non-null    int64  \n",
            " 4   Insulin                   768 non-null    int64  \n",
            " 5   BMI                       768 non-null    float64\n",
            " 6   DiabetesPedigreeFunction  768 non-null    float64\n",
            " 7   Age                       768 non-null    int64  \n",
            " 8   Outcome                   768 non-null    int64  \n",
            "dtypes: float64(2), int64(7)\n",
            "memory usage: 54.1 KB\n"
          ]
        }
      ],
      "source": [
        "df.info()"
      ]
    },
    {
      "cell_type": "code",
      "execution_count": 31,
      "metadata": {
        "colab": {
          "base_uri": "https://localhost:8080/"
        },
        "id": "1Zt6D03acWc0",
        "outputId": "d97d91a7-a002-42c8-e2f0-de3cdc3be77a"
      },
      "outputs": [
        {
          "data": {
            "text/plain": [
              "(768, 9)"
            ]
          },
          "execution_count": 31,
          "metadata": {},
          "output_type": "execute_result"
        }
      ],
      "source": [
        "df.shape"
      ]
    },
    {
      "attachments": {},
      "cell_type": "markdown",
      "metadata": {
        "id": "Otvu44C3eE13"
      },
      "source": [
        "Since this is a classification dataset (specifically binary), we don't need the Outcomes attribute so we can drop that column from the dataset."
      ]
    },
    {
      "cell_type": "code",
      "execution_count": 32,
      "metadata": {
        "id": "EKdmmvZncXBU"
      },
      "outputs": [],
      "source": [
        "X1 = df.drop(\"Outcome\", axis = 1)"
      ]
    },
    {
      "cell_type": "code",
      "execution_count": 34,
      "metadata": {
        "colab": {
          "base_uri": "https://localhost:8080/",
          "height": 206
        },
        "id": "q6Pxu6X-eAkX",
        "outputId": "ab93a46c-c36c-49c5-9df9-0ad0f699f743"
      },
      "outputs": [
        {
          "data": {
            "text/html": [
              "\n",
              "  <div id=\"df-d4dfc623-2421-4dcf-b2e0-a3f323ef4ef7\">\n",
              "    <div class=\"colab-df-container\">\n",
              "      <div>\n",
              "<style scoped>\n",
              "    .dataframe tbody tr th:only-of-type {\n",
              "        vertical-align: middle;\n",
              "    }\n",
              "\n",
              "    .dataframe tbody tr th {\n",
              "        vertical-align: top;\n",
              "    }\n",
              "\n",
              "    .dataframe thead th {\n",
              "        text-align: right;\n",
              "    }\n",
              "</style>\n",
              "<table border=\"1\" class=\"dataframe\">\n",
              "  <thead>\n",
              "    <tr style=\"text-align: right;\">\n",
              "      <th></th>\n",
              "      <th>Pregnancies</th>\n",
              "      <th>Glucose</th>\n",
              "      <th>BloodPressure</th>\n",
              "      <th>SkinThickness</th>\n",
              "      <th>Insulin</th>\n",
              "      <th>BMI</th>\n",
              "      <th>DiabetesPedigreeFunction</th>\n",
              "      <th>Age</th>\n",
              "    </tr>\n",
              "  </thead>\n",
              "  <tbody>\n",
              "    <tr>\n",
              "      <th>0</th>\n",
              "      <td>6</td>\n",
              "      <td>148</td>\n",
              "      <td>72</td>\n",
              "      <td>35</td>\n",
              "      <td>0</td>\n",
              "      <td>33.6</td>\n",
              "      <td>0.627</td>\n",
              "      <td>50</td>\n",
              "    </tr>\n",
              "    <tr>\n",
              "      <th>1</th>\n",
              "      <td>1</td>\n",
              "      <td>85</td>\n",
              "      <td>66</td>\n",
              "      <td>29</td>\n",
              "      <td>0</td>\n",
              "      <td>26.6</td>\n",
              "      <td>0.351</td>\n",
              "      <td>31</td>\n",
              "    </tr>\n",
              "    <tr>\n",
              "      <th>2</th>\n",
              "      <td>8</td>\n",
              "      <td>183</td>\n",
              "      <td>64</td>\n",
              "      <td>0</td>\n",
              "      <td>0</td>\n",
              "      <td>23.3</td>\n",
              "      <td>0.672</td>\n",
              "      <td>32</td>\n",
              "    </tr>\n",
              "    <tr>\n",
              "      <th>3</th>\n",
              "      <td>1</td>\n",
              "      <td>89</td>\n",
              "      <td>66</td>\n",
              "      <td>23</td>\n",
              "      <td>94</td>\n",
              "      <td>28.1</td>\n",
              "      <td>0.167</td>\n",
              "      <td>21</td>\n",
              "    </tr>\n",
              "    <tr>\n",
              "      <th>4</th>\n",
              "      <td>0</td>\n",
              "      <td>137</td>\n",
              "      <td>40</td>\n",
              "      <td>35</td>\n",
              "      <td>168</td>\n",
              "      <td>43.1</td>\n",
              "      <td>2.288</td>\n",
              "      <td>33</td>\n",
              "    </tr>\n",
              "  </tbody>\n",
              "</table>\n",
              "</div>\n",
              "      <button class=\"colab-df-convert\" onclick=\"convertToInteractive('df-d4dfc623-2421-4dcf-b2e0-a3f323ef4ef7')\"\n",
              "              title=\"Convert this dataframe to an interactive table.\"\n",
              "              style=\"display:none;\">\n",
              "        \n",
              "  <svg xmlns=\"http://www.w3.org/2000/svg\" height=\"24px\"viewBox=\"0 0 24 24\"\n",
              "       width=\"24px\">\n",
              "    <path d=\"M0 0h24v24H0V0z\" fill=\"none\"/>\n",
              "    <path d=\"M18.56 5.44l.94 2.06.94-2.06 2.06-.94-2.06-.94-.94-2.06-.94 2.06-2.06.94zm-11 1L8.5 8.5l.94-2.06 2.06-.94-2.06-.94L8.5 2.5l-.94 2.06-2.06.94zm10 10l.94 2.06.94-2.06 2.06-.94-2.06-.94-.94-2.06-.94 2.06-2.06.94z\"/><path d=\"M17.41 7.96l-1.37-1.37c-.4-.4-.92-.59-1.43-.59-.52 0-1.04.2-1.43.59L10.3 9.45l-7.72 7.72c-.78.78-.78 2.05 0 2.83L4 21.41c.39.39.9.59 1.41.59.51 0 1.02-.2 1.41-.59l7.78-7.78 2.81-2.81c.8-.78.8-2.07 0-2.86zM5.41 20L4 18.59l7.72-7.72 1.47 1.35L5.41 20z\"/>\n",
              "  </svg>\n",
              "      </button>\n",
              "      \n",
              "  <style>\n",
              "    .colab-df-container {\n",
              "      display:flex;\n",
              "      flex-wrap:wrap;\n",
              "      gap: 12px;\n",
              "    }\n",
              "\n",
              "    .colab-df-convert {\n",
              "      background-color: #E8F0FE;\n",
              "      border: none;\n",
              "      border-radius: 50%;\n",
              "      cursor: pointer;\n",
              "      display: none;\n",
              "      fill: #1967D2;\n",
              "      height: 32px;\n",
              "      padding: 0 0 0 0;\n",
              "      width: 32px;\n",
              "    }\n",
              "\n",
              "    .colab-df-convert:hover {\n",
              "      background-color: #E2EBFA;\n",
              "      box-shadow: 0px 1px 2px rgba(60, 64, 67, 0.3), 0px 1px 3px 1px rgba(60, 64, 67, 0.15);\n",
              "      fill: #174EA6;\n",
              "    }\n",
              "\n",
              "    [theme=dark] .colab-df-convert {\n",
              "      background-color: #3B4455;\n",
              "      fill: #D2E3FC;\n",
              "    }\n",
              "\n",
              "    [theme=dark] .colab-df-convert:hover {\n",
              "      background-color: #434B5C;\n",
              "      box-shadow: 0px 1px 3px 1px rgba(0, 0, 0, 0.15);\n",
              "      filter: drop-shadow(0px 1px 2px rgba(0, 0, 0, 0.3));\n",
              "      fill: #FFFFFF;\n",
              "    }\n",
              "  </style>\n",
              "\n",
              "      <script>\n",
              "        const buttonEl =\n",
              "          document.querySelector('#df-d4dfc623-2421-4dcf-b2e0-a3f323ef4ef7 button.colab-df-convert');\n",
              "        buttonEl.style.display =\n",
              "          google.colab.kernel.accessAllowed ? 'block' : 'none';\n",
              "\n",
              "        async function convertToInteractive(key) {\n",
              "          const element = document.querySelector('#df-d4dfc623-2421-4dcf-b2e0-a3f323ef4ef7');\n",
              "          const dataTable =\n",
              "            await google.colab.kernel.invokeFunction('convertToInteractive',\n",
              "                                                     [key], {});\n",
              "          if (!dataTable) return;\n",
              "\n",
              "          const docLinkHtml = 'Like what you see? Visit the ' +\n",
              "            '<a target=\"_blank\" href=https://colab.research.google.com/notebooks/data_table.ipynb>data table notebook</a>'\n",
              "            + ' to learn more about interactive tables.';\n",
              "          element.innerHTML = '';\n",
              "          dataTable['output_type'] = 'display_data';\n",
              "          await google.colab.output.renderOutput(dataTable, element);\n",
              "          const docLink = document.createElement('div');\n",
              "          docLink.innerHTML = docLinkHtml;\n",
              "          element.appendChild(docLink);\n",
              "        }\n",
              "      </script>\n",
              "    </div>\n",
              "  </div>\n",
              "  "
            ],
            "text/plain": [
              "   Pregnancies  Glucose  BloodPressure  SkinThickness  Insulin   BMI  \\\n",
              "0            6      148             72             35        0  33.6   \n",
              "1            1       85             66             29        0  26.6   \n",
              "2            8      183             64              0        0  23.3   \n",
              "3            1       89             66             23       94  28.1   \n",
              "4            0      137             40             35      168  43.1   \n",
              "\n",
              "   DiabetesPedigreeFunction  Age  \n",
              "0                     0.627   50  \n",
              "1                     0.351   31  \n",
              "2                     0.672   32  \n",
              "3                     0.167   21  \n",
              "4                     2.288   33  "
            ]
          },
          "execution_count": 34,
          "metadata": {},
          "output_type": "execute_result"
        }
      ],
      "source": [
        "X1.head()"
      ]
    },
    {
      "cell_type": "code",
      "execution_count": 35,
      "metadata": {
        "id": "2K_IX35aeB-G"
      },
      "outputs": [],
      "source": [
        "y1 = df[\"Outcome\"]"
      ]
    },
    {
      "cell_type": "code",
      "execution_count": 41,
      "metadata": {
        "id": "1FVrnMuVe3El"
      },
      "outputs": [],
      "source": [
        "from sklearn.model_selection import train_test_split\n",
        "X_train, X_test, Y_train, Y_test =  train_test_split(X1, y1, test_size = 0.2, random_state = 0) # 80:20 ratio for train to test."
      ]
    },
    {
      "attachments": {},
      "cell_type": "markdown",
      "metadata": {
        "id": "PV6vGpRvfV4F"
      },
      "source": [
        "Testing with Gini Index first:"
      ]
    },
    {
      "cell_type": "code",
      "execution_count": 86,
      "metadata": {
        "id": "ZFVJheT7fGPP"
      },
      "outputs": [],
      "source": [
        "model_gini = DecisionTreeClassifier(criterion = \"gini\", random_state = 100, max_depth = None, min_samples_leaf = 1)"
      ]
    },
    {
      "cell_type": "code",
      "execution_count": 87,
      "metadata": {
        "colab": {
          "base_uri": "https://localhost:8080/",
          "height": 74
        },
        "id": "xV6CgGcNfOhn",
        "outputId": "9ffe79d9-5efa-4905-ec97-fd215e8edd53"
      },
      "outputs": [
        {
          "data": {
            "text/html": [
              "<style>#sk-container-id-14 {color: black;background-color: white;}#sk-container-id-14 pre{padding: 0;}#sk-container-id-14 div.sk-toggleable {background-color: white;}#sk-container-id-14 label.sk-toggleable__label {cursor: pointer;display: block;width: 100%;margin-bottom: 0;padding: 0.3em;box-sizing: border-box;text-align: center;}#sk-container-id-14 label.sk-toggleable__label-arrow:before {content: \"▸\";float: left;margin-right: 0.25em;color: #696969;}#sk-container-id-14 label.sk-toggleable__label-arrow:hover:before {color: black;}#sk-container-id-14 div.sk-estimator:hover label.sk-toggleable__label-arrow:before {color: black;}#sk-container-id-14 div.sk-toggleable__content {max-height: 0;max-width: 0;overflow: hidden;text-align: left;background-color: #f0f8ff;}#sk-container-id-14 div.sk-toggleable__content pre {margin: 0.2em;color: black;border-radius: 0.25em;background-color: #f0f8ff;}#sk-container-id-14 input.sk-toggleable__control:checked~div.sk-toggleable__content {max-height: 200px;max-width: 100%;overflow: auto;}#sk-container-id-14 input.sk-toggleable__control:checked~label.sk-toggleable__label-arrow:before {content: \"▾\";}#sk-container-id-14 div.sk-estimator input.sk-toggleable__control:checked~label.sk-toggleable__label {background-color: #d4ebff;}#sk-container-id-14 div.sk-label input.sk-toggleable__control:checked~label.sk-toggleable__label {background-color: #d4ebff;}#sk-container-id-14 input.sk-hidden--visually {border: 0;clip: rect(1px 1px 1px 1px);clip: rect(1px, 1px, 1px, 1px);height: 1px;margin: -1px;overflow: hidden;padding: 0;position: absolute;width: 1px;}#sk-container-id-14 div.sk-estimator {font-family: monospace;background-color: #f0f8ff;border: 1px dotted black;border-radius: 0.25em;box-sizing: border-box;margin-bottom: 0.5em;}#sk-container-id-14 div.sk-estimator:hover {background-color: #d4ebff;}#sk-container-id-14 div.sk-parallel-item::after {content: \"\";width: 100%;border-bottom: 1px solid gray;flex-grow: 1;}#sk-container-id-14 div.sk-label:hover label.sk-toggleable__label {background-color: #d4ebff;}#sk-container-id-14 div.sk-serial::before {content: \"\";position: absolute;border-left: 1px solid gray;box-sizing: border-box;top: 0;bottom: 0;left: 50%;z-index: 0;}#sk-container-id-14 div.sk-serial {display: flex;flex-direction: column;align-items: center;background-color: white;padding-right: 0.2em;padding-left: 0.2em;position: relative;}#sk-container-id-14 div.sk-item {position: relative;z-index: 1;}#sk-container-id-14 div.sk-parallel {display: flex;align-items: stretch;justify-content: center;background-color: white;position: relative;}#sk-container-id-14 div.sk-item::before, #sk-container-id-14 div.sk-parallel-item::before {content: \"\";position: absolute;border-left: 1px solid gray;box-sizing: border-box;top: 0;bottom: 0;left: 50%;z-index: -1;}#sk-container-id-14 div.sk-parallel-item {display: flex;flex-direction: column;z-index: 1;position: relative;background-color: white;}#sk-container-id-14 div.sk-parallel-item:first-child::after {align-self: flex-end;width: 50%;}#sk-container-id-14 div.sk-parallel-item:last-child::after {align-self: flex-start;width: 50%;}#sk-container-id-14 div.sk-parallel-item:only-child::after {width: 0;}#sk-container-id-14 div.sk-dashed-wrapped {border: 1px dashed gray;margin: 0 0.4em 0.5em 0.4em;box-sizing: border-box;padding-bottom: 0.4em;background-color: white;}#sk-container-id-14 div.sk-label label {font-family: monospace;font-weight: bold;display: inline-block;line-height: 1.2em;}#sk-container-id-14 div.sk-label-container {text-align: center;}#sk-container-id-14 div.sk-container {/* jupyter's `normalize.less` sets `[hidden] { display: none; }` but bootstrap.min.css set `[hidden] { display: none !important; }` so we also need the `!important` here to be able to override the default hidden behavior on the sphinx rendered scikit-learn.org. See: https://github.com/scikit-learn/scikit-learn/issues/21755 */display: inline-block !important;position: relative;}#sk-container-id-14 div.sk-text-repr-fallback {display: none;}</style><div id=\"sk-container-id-14\" class=\"sk-top-container\"><div class=\"sk-text-repr-fallback\"><pre>DecisionTreeClassifier(random_state=100)</pre><b>In a Jupyter environment, please rerun this cell to show the HTML representation or trust the notebook. <br />On GitHub, the HTML representation is unable to render, please try loading this page with nbviewer.org.</b></div><div class=\"sk-container\" hidden><div class=\"sk-item\"><div class=\"sk-estimator sk-toggleable\"><input class=\"sk-toggleable__control sk-hidden--visually\" id=\"sk-estimator-id-14\" type=\"checkbox\" checked><label for=\"sk-estimator-id-14\" class=\"sk-toggleable__label sk-toggleable__label-arrow\">DecisionTreeClassifier</label><div class=\"sk-toggleable__content\"><pre>DecisionTreeClassifier(random_state=100)</pre></div></div></div></div></div>"
            ],
            "text/plain": [
              "DecisionTreeClassifier(random_state=100)"
            ]
          },
          "execution_count": 87,
          "metadata": {},
          "output_type": "execute_result"
        }
      ],
      "source": [
        "model_gini.fit(X_train, Y_train)"
      ]
    },
    {
      "cell_type": "code",
      "execution_count": 88,
      "metadata": {
        "colab": {
          "base_uri": "https://localhost:8080/",
          "height": 1000
        },
        "id": "v34G8yitfREf",
        "outputId": "1607a517-8e27-44e2-8e1d-3f9a7e5c541e"
      },
      "outputs": [
        {
          "data": {
            "text/plain": [
              "[Text(0.4033954326923077, 0.9642857142857143, 'x[1] <= 123.5\\ngini = 0.461\\nsamples = 614\\nvalue = [393, 221]'),\n",
              " Text(0.14483173076923078, 0.8928571428571429, 'x[7] <= 28.5\\ngini = 0.301\\nsamples = 352\\nvalue = [287, 65]'),\n",
              " Text(0.052884615384615384, 0.8214285714285714, 'x[5] <= 30.95\\ngini = 0.162\\nsamples = 202\\nvalue = [184, 18]'),\n",
              " Text(0.028846153846153848, 0.75, 'x[0] <= 7.0\\ngini = 0.036\\nsamples = 110\\nvalue = [108, 2]'),\n",
              " Text(0.019230769230769232, 0.6785714285714286, 'x[6] <= 0.672\\ngini = 0.018\\nsamples = 109\\nvalue = [108, 1]'),\n",
              " Text(0.009615384615384616, 0.6071428571428571, 'gini = 0.0\\nsamples = 99\\nvalue = [99, 0]'),\n",
              " Text(0.028846153846153848, 0.6071428571428571, 'x[6] <= 0.697\\ngini = 0.18\\nsamples = 10\\nvalue = [9, 1]'),\n",
              " Text(0.019230769230769232, 0.5357142857142857, 'gini = 0.0\\nsamples = 1\\nvalue = [0, 1]'),\n",
              " Text(0.038461538461538464, 0.5357142857142857, 'gini = 0.0\\nsamples = 9\\nvalue = [9, 0]'),\n",
              " Text(0.038461538461538464, 0.6785714285714286, 'gini = 0.0\\nsamples = 1\\nvalue = [0, 1]'),\n",
              " Text(0.07692307692307693, 0.75, 'x[2] <= 53.0\\ngini = 0.287\\nsamples = 92\\nvalue = [76, 16]'),\n",
              " Text(0.057692307692307696, 0.6785714285714286, 'x[6] <= 0.508\\ngini = 0.444\\nsamples = 6\\nvalue = [2, 4]'),\n",
              " Text(0.04807692307692308, 0.6071428571428571, 'gini = 0.0\\nsamples = 4\\nvalue = [0, 4]'),\n",
              " Text(0.0673076923076923, 0.6071428571428571, 'gini = 0.0\\nsamples = 2\\nvalue = [2, 0]'),\n",
              " Text(0.09615384615384616, 0.6785714285714286, 'x[6] <= 1.272\\ngini = 0.24\\nsamples = 86\\nvalue = [74, 12]'),\n",
              " Text(0.08653846153846154, 0.6071428571428571, 'x[6] <= 0.501\\ngini = 0.225\\nsamples = 85\\nvalue = [74, 11]'),\n",
              " Text(0.0673076923076923, 0.5357142857142857, 'x[5] <= 45.35\\ngini = 0.135\\nsamples = 55\\nvalue = [51, 4]'),\n",
              " Text(0.057692307692307696, 0.4642857142857143, 'x[4] <= 36.5\\ngini = 0.105\\nsamples = 54\\nvalue = [51, 3]'),\n",
              " Text(0.04807692307692308, 0.39285714285714285, 'x[2] <= 82.5\\ngini = 0.266\\nsamples = 19\\nvalue = [16, 3]'),\n",
              " Text(0.038461538461538464, 0.32142857142857145, 'x[1] <= 111.5\\ngini = 0.198\\nsamples = 18\\nvalue = [16, 2]'),\n",
              " Text(0.028846153846153848, 0.25, 'gini = 0.0\\nsamples = 13\\nvalue = [13, 0]'),\n",
              " Text(0.04807692307692308, 0.25, 'x[5] <= 34.5\\ngini = 0.48\\nsamples = 5\\nvalue = [3, 2]'),\n",
              " Text(0.038461538461538464, 0.17857142857142858, 'gini = 0.0\\nsamples = 2\\nvalue = [0, 2]'),\n",
              " Text(0.057692307692307696, 0.17857142857142858, 'gini = 0.0\\nsamples = 3\\nvalue = [3, 0]'),\n",
              " Text(0.057692307692307696, 0.32142857142857145, 'gini = 0.0\\nsamples = 1\\nvalue = [0, 1]'),\n",
              " Text(0.0673076923076923, 0.39285714285714285, 'gini = 0.0\\nsamples = 35\\nvalue = [35, 0]'),\n",
              " Text(0.07692307692307693, 0.4642857142857143, 'gini = 0.0\\nsamples = 1\\nvalue = [0, 1]'),\n",
              " Text(0.10576923076923077, 0.5357142857142857, 'x[2] <= 69.0\\ngini = 0.358\\nsamples = 30\\nvalue = [23, 7]'),\n",
              " Text(0.09615384615384616, 0.4642857142857143, 'x[1] <= 88.5\\ngini = 0.492\\nsamples = 16\\nvalue = [9, 7]'),\n",
              " Text(0.08653846153846154, 0.39285714285714285, 'gini = 0.0\\nsamples = 7\\nvalue = [7, 0]'),\n",
              " Text(0.10576923076923077, 0.39285714285714285, 'x[5] <= 32.25\\ngini = 0.346\\nsamples = 9\\nvalue = [2, 7]'),\n",
              " Text(0.09615384615384616, 0.32142857142857145, 'gini = 0.0\\nsamples = 1\\nvalue = [1, 0]'),\n",
              " Text(0.11538461538461539, 0.32142857142857145, 'x[0] <= 0.5\\ngini = 0.219\\nsamples = 8\\nvalue = [1, 7]'),\n",
              " Text(0.10576923076923077, 0.25, 'x[4] <= 87.0\\ngini = 0.444\\nsamples = 3\\nvalue = [1, 2]'),\n",
              " Text(0.09615384615384616, 0.17857142857142858, 'gini = 0.0\\nsamples = 2\\nvalue = [0, 2]'),\n",
              " Text(0.11538461538461539, 0.17857142857142858, 'gini = 0.0\\nsamples = 1\\nvalue = [1, 0]'),\n",
              " Text(0.125, 0.25, 'gini = 0.0\\nsamples = 5\\nvalue = [0, 5]'),\n",
              " Text(0.11538461538461539, 0.4642857142857143, 'gini = 0.0\\nsamples = 14\\nvalue = [14, 0]'),\n",
              " Text(0.10576923076923077, 0.6071428571428571, 'gini = 0.0\\nsamples = 1\\nvalue = [0, 1]'),\n",
              " Text(0.23677884615384615, 0.8214285714285714, 'x[5] <= 26.35\\ngini = 0.43\\nsamples = 150\\nvalue = [103, 47]'),\n",
              " Text(0.22716346153846154, 0.75, 'gini = 0.0\\nsamples = 29\\nvalue = [29, 0]'),\n",
              " Text(0.24639423076923078, 0.75, 'x[1] <= 99.5\\ngini = 0.475\\nsamples = 121\\nvalue = [74, 47]'),\n",
              " Text(0.17307692307692307, 0.6785714285714286, 'x[1] <= 28.5\\ngini = 0.337\\nsamples = 42\\nvalue = [33, 9]'),\n",
              " Text(0.16346153846153846, 0.6071428571428571, 'gini = 0.0\\nsamples = 2\\nvalue = [0, 2]'),\n",
              " Text(0.18269230769230768, 0.6071428571428571, 'x[7] <= 42.5\\ngini = 0.289\\nsamples = 40\\nvalue = [33, 7]'),\n",
              " Text(0.16346153846153846, 0.5357142857142857, 'x[6] <= 1.16\\ngini = 0.137\\nsamples = 27\\nvalue = [25, 2]'),\n",
              " Text(0.15384615384615385, 0.4642857142857143, 'x[6] <= 0.171\\ngini = 0.074\\nsamples = 26\\nvalue = [25, 1]'),\n",
              " Text(0.14423076923076922, 0.39285714285714285, 'x[2] <= 66.0\\ngini = 0.375\\nsamples = 4\\nvalue = [3, 1]'),\n",
              " Text(0.1346153846153846, 0.32142857142857145, 'gini = 0.0\\nsamples = 1\\nvalue = [0, 1]'),\n",
              " Text(0.15384615384615385, 0.32142857142857145, 'gini = 0.0\\nsamples = 3\\nvalue = [3, 0]'),\n",
              " Text(0.16346153846153846, 0.39285714285714285, 'gini = 0.0\\nsamples = 22\\nvalue = [22, 0]'),\n",
              " Text(0.17307692307692307, 0.4642857142857143, 'gini = 0.0\\nsamples = 1\\nvalue = [0, 1]'),\n",
              " Text(0.20192307692307693, 0.5357142857142857, 'x[5] <= 30.85\\ngini = 0.473\\nsamples = 13\\nvalue = [8, 5]'),\n",
              " Text(0.19230769230769232, 0.4642857142857143, 'gini = 0.0\\nsamples = 2\\nvalue = [0, 2]'),\n",
              " Text(0.21153846153846154, 0.4642857142857143, 'x[3] <= 21.5\\ngini = 0.397\\nsamples = 11\\nvalue = [8, 3]'),\n",
              " Text(0.20192307692307693, 0.39285714285714285, 'gini = 0.0\\nsamples = 5\\nvalue = [5, 0]'),\n",
              " Text(0.22115384615384615, 0.39285714285714285, 'x[2] <= 75.0\\ngini = 0.5\\nsamples = 6\\nvalue = [3, 3]'),\n",
              " Text(0.21153846153846154, 0.32142857142857145, 'gini = 0.0\\nsamples = 3\\nvalue = [3, 0]'),\n",
              " Text(0.23076923076923078, 0.32142857142857145, 'gini = 0.0\\nsamples = 3\\nvalue = [0, 3]'),\n",
              " Text(0.31971153846153844, 0.6785714285714286, 'x[5] <= 27.55\\ngini = 0.499\\nsamples = 79\\nvalue = [41, 38]'),\n",
              " Text(0.31009615384615385, 0.6071428571428571, 'gini = 0.0\\nsamples = 5\\nvalue = [0, 5]'),\n",
              " Text(0.3293269230769231, 0.6071428571428571, 'x[6] <= 0.179\\ngini = 0.494\\nsamples = 74\\nvalue = [41, 33]'),\n",
              " Text(0.31971153846153844, 0.5357142857142857, 'gini = 0.0\\nsamples = 8\\nvalue = [8, 0]'),\n",
              " Text(0.3389423076923077, 0.5357142857142857, 'x[0] <= 6.5\\ngini = 0.5\\nsamples = 66\\nvalue = [33, 33]'),\n",
              " Text(0.2932692307692308, 0.4642857142857143, 'x[0] <= 1.5\\ngini = 0.483\\nsamples = 44\\nvalue = [26, 18]'),\n",
              " Text(0.25961538461538464, 0.39285714285714285, 'x[6] <= 0.894\\ngini = 0.475\\nsamples = 18\\nvalue = [7, 11]'),\n",
              " Text(0.25, 0.32142857142857145, 'x[6] <= 0.2\\ngini = 0.391\\nsamples = 15\\nvalue = [4, 11]'),\n",
              " Text(0.2403846153846154, 0.25, 'gini = 0.0\\nsamples = 2\\nvalue = [2, 0]'),\n",
              " Text(0.25961538461538464, 0.25, 'x[1] <= 101.0\\ngini = 0.26\\nsamples = 13\\nvalue = [2, 11]'),\n",
              " Text(0.25, 0.17857142857142858, 'gini = 0.0\\nsamples = 1\\nvalue = [1, 0]'),\n",
              " Text(0.2692307692307692, 0.17857142857142858, 'x[2] <= 92.0\\ngini = 0.153\\nsamples = 12\\nvalue = [1, 11]'),\n",
              " Text(0.25961538461538464, 0.10714285714285714, 'gini = 0.0\\nsamples = 11\\nvalue = [0, 11]'),\n",
              " Text(0.27884615384615385, 0.10714285714285714, 'gini = 0.0\\nsamples = 1\\nvalue = [1, 0]'),\n",
              " Text(0.2692307692307692, 0.32142857142857145, 'gini = 0.0\\nsamples = 3\\nvalue = [3, 0]'),\n",
              " Text(0.3269230769230769, 0.39285714285714285, 'x[7] <= 34.5\\ngini = 0.393\\nsamples = 26\\nvalue = [19, 7]'),\n",
              " Text(0.3076923076923077, 0.32142857142857145, 'x[2] <= 63.0\\ngini = 0.133\\nsamples = 14\\nvalue = [13, 1]'),\n",
              " Text(0.2980769230769231, 0.25, 'x[3] <= 25.5\\ngini = 0.5\\nsamples = 2\\nvalue = [1, 1]'),\n",
              " Text(0.28846153846153844, 0.17857142857142858, 'gini = 0.0\\nsamples = 1\\nvalue = [0, 1]'),\n",
              " Text(0.3076923076923077, 0.17857142857142858, 'gini = 0.0\\nsamples = 1\\nvalue = [1, 0]'),\n",
              " Text(0.3173076923076923, 0.25, 'gini = 0.0\\nsamples = 12\\nvalue = [12, 0]'),\n",
              " Text(0.34615384615384615, 0.32142857142857145, 'x[2] <= 74.5\\ngini = 0.5\\nsamples = 12\\nvalue = [6, 6]'),\n",
              " Text(0.33653846153846156, 0.25, 'gini = 0.0\\nsamples = 4\\nvalue = [0, 4]'),\n",
              " Text(0.3557692307692308, 0.25, 'x[5] <= 32.65\\ngini = 0.375\\nsamples = 8\\nvalue = [6, 2]'),\n",
              " Text(0.34615384615384615, 0.17857142857142858, 'x[5] <= 29.3\\ngini = 0.444\\nsamples = 3\\nvalue = [1, 2]'),\n",
              " Text(0.33653846153846156, 0.10714285714285714, 'gini = 0.0\\nsamples = 1\\nvalue = [1, 0]'),\n",
              " Text(0.3557692307692308, 0.10714285714285714, 'gini = 0.0\\nsamples = 2\\nvalue = [0, 2]'),\n",
              " Text(0.36538461538461536, 0.17857142857142858, 'gini = 0.0\\nsamples = 5\\nvalue = [5, 0]'),\n",
              " Text(0.38461538461538464, 0.4642857142857143, 'x[7] <= 39.0\\ngini = 0.434\\nsamples = 22\\nvalue = [7, 15]'),\n",
              " Text(0.375, 0.39285714285714285, 'gini = 0.0\\nsamples = 8\\nvalue = [0, 8]'),\n",
              " Text(0.3942307692307692, 0.39285714285714285, 'x[6] <= 0.587\\ngini = 0.5\\nsamples = 14\\nvalue = [7, 7]'),\n",
              " Text(0.38461538461538464, 0.32142857142857145, 'x[5] <= 31.8\\ngini = 0.42\\nsamples = 10\\nvalue = [7, 3]'),\n",
              " Text(0.375, 0.25, 'gini = 0.0\\nsamples = 4\\nvalue = [4, 0]'),\n",
              " Text(0.3942307692307692, 0.25, 'x[3] <= 38.0\\ngini = 0.5\\nsamples = 6\\nvalue = [3, 3]'),\n",
              " Text(0.38461538461538464, 0.17857142857142858, 'x[7] <= 49.0\\ngini = 0.375\\nsamples = 4\\nvalue = [1, 3]'),\n",
              " Text(0.375, 0.10714285714285714, 'gini = 0.0\\nsamples = 3\\nvalue = [0, 3]'),\n",
              " Text(0.3942307692307692, 0.10714285714285714, 'gini = 0.0\\nsamples = 1\\nvalue = [1, 0]'),\n",
              " Text(0.40384615384615385, 0.17857142857142858, 'gini = 0.0\\nsamples = 2\\nvalue = [2, 0]'),\n",
              " Text(0.40384615384615385, 0.32142857142857145, 'gini = 0.0\\nsamples = 4\\nvalue = [0, 4]'),\n",
              " Text(0.6619591346153846, 0.8928571428571429, 'x[5] <= 30.05\\ngini = 0.482\\nsamples = 262\\nvalue = [106, 156]'),\n",
              " Text(0.49278846153846156, 0.8214285714285714, 'x[7] <= 26.0\\ngini = 0.438\\nsamples = 74\\nvalue = [50, 24]'),\n",
              " Text(0.4831730769230769, 0.75, 'gini = 0.0\\nsamples = 19\\nvalue = [19, 0]'),\n",
              " Text(0.5024038461538461, 0.75, 'x[7] <= 60.5\\ngini = 0.492\\nsamples = 55\\nvalue = [31, 24]'),\n",
              " Text(0.49278846153846156, 0.6785714285714286, 'x[1] <= 151.5\\ngini = 0.5\\nsamples = 47\\nvalue = [23, 24]'),\n",
              " Text(0.44711538461538464, 0.6071428571428571, 'x[1] <= 125.5\\ngini = 0.469\\nsamples = 32\\nvalue = [20, 12]'),\n",
              " Text(0.41346153846153844, 0.5357142857142857, 'x[3] <= 27.0\\ngini = 0.375\\nsamples = 8\\nvalue = [2, 6]'),\n",
              " Text(0.40384615384615385, 0.4642857142857143, 'gini = 0.0\\nsamples = 5\\nvalue = [0, 5]'),\n",
              " Text(0.4230769230769231, 0.4642857142857143, 'x[2] <= 74.0\\ngini = 0.444\\nsamples = 3\\nvalue = [2, 1]'),\n",
              " Text(0.41346153846153844, 0.39285714285714285, 'gini = 0.0\\nsamples = 2\\nvalue = [2, 0]'),\n",
              " Text(0.4326923076923077, 0.39285714285714285, 'gini = 0.0\\nsamples = 1\\nvalue = [0, 1]'),\n",
              " Text(0.4807692307692308, 0.5357142857142857, 'x[2] <= 73.0\\ngini = 0.375\\nsamples = 24\\nvalue = [18, 6]'),\n",
              " Text(0.46153846153846156, 0.4642857142857143, 'x[2] <= 64.5\\ngini = 0.5\\nsamples = 8\\nvalue = [4, 4]'),\n",
              " Text(0.4519230769230769, 0.39285714285714285, 'x[7] <= 28.5\\ngini = 0.32\\nsamples = 5\\nvalue = [4, 1]'),\n",
              " Text(0.4423076923076923, 0.32142857142857145, 'gini = 0.0\\nsamples = 1\\nvalue = [0, 1]'),\n",
              " Text(0.46153846153846156, 0.32142857142857145, 'gini = 0.0\\nsamples = 4\\nvalue = [4, 0]'),\n",
              " Text(0.47115384615384615, 0.39285714285714285, 'gini = 0.0\\nsamples = 3\\nvalue = [0, 3]'),\n",
              " Text(0.5, 0.4642857142857143, 'x[5] <= 28.0\\ngini = 0.219\\nsamples = 16\\nvalue = [14, 2]'),\n",
              " Text(0.49038461538461536, 0.39285714285714285, 'gini = 0.0\\nsamples = 9\\nvalue = [9, 0]'),\n",
              " Text(0.5096153846153846, 0.39285714285714285, 'x[5] <= 29.55\\ngini = 0.408\\nsamples = 7\\nvalue = [5, 2]'),\n",
              " Text(0.5, 0.32142857142857145, 'x[2] <= 82.5\\ngini = 0.444\\nsamples = 3\\nvalue = [1, 2]'),\n",
              " Text(0.49038461538461536, 0.25, 'gini = 0.0\\nsamples = 2\\nvalue = [0, 2]'),\n",
              " Text(0.5096153846153846, 0.25, 'gini = 0.0\\nsamples = 1\\nvalue = [1, 0]'),\n",
              " Text(0.5192307692307693, 0.32142857142857145, 'gini = 0.0\\nsamples = 4\\nvalue = [4, 0]'),\n",
              " Text(0.5384615384615384, 0.6071428571428571, 'x[5] <= 27.1\\ngini = 0.32\\nsamples = 15\\nvalue = [3, 12]'),\n",
              " Text(0.5288461538461539, 0.5357142857142857, 'gini = 0.0\\nsamples = 8\\nvalue = [0, 8]'),\n",
              " Text(0.5480769230769231, 0.5357142857142857, 'x[5] <= 29.1\\ngini = 0.49\\nsamples = 7\\nvalue = [3, 4]'),\n",
              " Text(0.5384615384615384, 0.4642857142857143, 'x[7] <= 36.5\\ngini = 0.375\\nsamples = 4\\nvalue = [3, 1]'),\n",
              " Text(0.5288461538461539, 0.39285714285714285, 'gini = 0.0\\nsamples = 1\\nvalue = [0, 1]'),\n",
              " Text(0.5480769230769231, 0.39285714285714285, 'gini = 0.0\\nsamples = 3\\nvalue = [3, 0]'),\n",
              " Text(0.5576923076923077, 0.4642857142857143, 'gini = 0.0\\nsamples = 3\\nvalue = [0, 3]'),\n",
              " Text(0.5120192307692307, 0.6785714285714286, 'gini = 0.0\\nsamples = 8\\nvalue = [8, 0]'),\n",
              " Text(0.8311298076923077, 0.8214285714285714, 'x[1] <= 157.5\\ngini = 0.418\\nsamples = 188\\nvalue = [56, 132]'),\n",
              " Text(0.7055288461538461, 0.75, 'x[7] <= 28.5\\ngini = 0.482\\nsamples = 116\\nvalue = [47, 69]'),\n",
              " Text(0.625, 0.6785714285714286, 'x[2] <= 73.0\\ngini = 0.49\\nsamples = 42\\nvalue = [24, 18]'),\n",
              " Text(0.5865384615384616, 0.6071428571428571, 'x[6] <= 0.186\\ngini = 0.463\\nsamples = 22\\nvalue = [8, 14]'),\n",
              " Text(0.5769230769230769, 0.5357142857142857, 'gini = 0.0\\nsamples = 3\\nvalue = [3, 0]'),\n",
              " Text(0.5961538461538461, 0.5357142857142857, 'x[1] <= 147.0\\ngini = 0.388\\nsamples = 19\\nvalue = [5, 14]'),\n",
              " Text(0.5769230769230769, 0.4642857142857143, 'x[4] <= 365.0\\ngini = 0.231\\nsamples = 15\\nvalue = [2, 13]'),\n",
              " Text(0.5673076923076923, 0.39285714285714285, 'x[0] <= 3.5\\ngini = 0.133\\nsamples = 14\\nvalue = [1, 13]'),\n",
              " Text(0.5576923076923077, 0.32142857142857145, 'gini = 0.0\\nsamples = 11\\nvalue = [0, 11]'),\n",
              " Text(0.5769230769230769, 0.32142857142857145, 'x[5] <= 33.6\\ngini = 0.444\\nsamples = 3\\nvalue = [1, 2]'),\n",
              " Text(0.5673076923076923, 0.25, 'gini = 0.0\\nsamples = 2\\nvalue = [0, 2]'),\n",
              " Text(0.5865384615384616, 0.25, 'gini = 0.0\\nsamples = 1\\nvalue = [1, 0]'),\n",
              " Text(0.5865384615384616, 0.39285714285714285, 'gini = 0.0\\nsamples = 1\\nvalue = [1, 0]'),\n",
              " Text(0.6153846153846154, 0.4642857142857143, 'x[0] <= 2.5\\ngini = 0.375\\nsamples = 4\\nvalue = [3, 1]'),\n",
              " Text(0.6057692307692307, 0.39285714285714285, 'gini = 0.0\\nsamples = 1\\nvalue = [0, 1]'),\n",
              " Text(0.625, 0.39285714285714285, 'gini = 0.0\\nsamples = 3\\nvalue = [3, 0]'),\n",
              " Text(0.6634615384615384, 0.6071428571428571, 'x[2] <= 89.0\\ngini = 0.32\\nsamples = 20\\nvalue = [16, 4]'),\n",
              " Text(0.6442307692307693, 0.5357142857142857, 'x[0] <= 4.5\\ngini = 0.117\\nsamples = 16\\nvalue = [15, 1]'),\n",
              " Text(0.6346153846153846, 0.4642857142857143, 'gini = 0.0\\nsamples = 14\\nvalue = [14, 0]'),\n",
              " Text(0.6538461538461539, 0.4642857142857143, 'x[2] <= 79.0\\ngini = 0.5\\nsamples = 2\\nvalue = [1, 1]'),\n",
              " Text(0.6442307692307693, 0.39285714285714285, 'gini = 0.0\\nsamples = 1\\nvalue = [1, 0]'),\n",
              " Text(0.6634615384615384, 0.39285714285714285, 'gini = 0.0\\nsamples = 1\\nvalue = [0, 1]'),\n",
              " Text(0.6826923076923077, 0.5357142857142857, 'x[4] <= 137.5\\ngini = 0.375\\nsamples = 4\\nvalue = [1, 3]'),\n",
              " Text(0.6730769230769231, 0.4642857142857143, 'gini = 0.0\\nsamples = 3\\nvalue = [0, 3]'),\n",
              " Text(0.6923076923076923, 0.4642857142857143, 'gini = 0.0\\nsamples = 1\\nvalue = [1, 0]'),\n",
              " Text(0.7860576923076923, 0.6785714285714286, 'x[6] <= 0.429\\ngini = 0.428\\nsamples = 74\\nvalue = [23, 51]'),\n",
              " Text(0.7307692307692307, 0.6071428571428571, 'x[5] <= 45.55\\ngini = 0.499\\nsamples = 38\\nvalue = [18, 20]'),\n",
              " Text(0.7211538461538461, 0.5357142857142857, 'x[0] <= 1.5\\ngini = 0.496\\nsamples = 33\\nvalue = [18, 15]'),\n",
              " Text(0.7115384615384616, 0.4642857142857143, 'gini = 0.0\\nsamples = 3\\nvalue = [0, 3]'),\n",
              " Text(0.7307692307692307, 0.4642857142857143, 'x[5] <= 37.25\\ngini = 0.48\\nsamples = 30\\nvalue = [18, 12]'),\n",
              " Text(0.7115384615384616, 0.39285714285714285, 'x[2] <= 89.0\\ngini = 0.499\\nsamples = 21\\nvalue = [10, 11]'),\n",
              " Text(0.7019230769230769, 0.32142857142857145, 'x[4] <= 118.5\\ngini = 0.499\\nsamples = 19\\nvalue = [10, 9]'),\n",
              " Text(0.6778846153846154, 0.25, 'x[1] <= 137.0\\ngini = 0.473\\nsamples = 13\\nvalue = [5, 8]'),\n",
              " Text(0.6586538461538461, 0.17857142857142858, 'x[7] <= 44.5\\ngini = 0.219\\nsamples = 8\\nvalue = [1, 7]'),\n",
              " Text(0.6490384615384616, 0.10714285714285714, 'gini = 0.0\\nsamples = 6\\nvalue = [0, 6]'),\n",
              " Text(0.6682692307692307, 0.10714285714285714, 'x[1] <= 126.5\\ngini = 0.5\\nsamples = 2\\nvalue = [1, 1]'),\n",
              " Text(0.6586538461538461, 0.03571428571428571, 'gini = 0.0\\nsamples = 1\\nvalue = [0, 1]'),\n",
              " Text(0.6778846153846154, 0.03571428571428571, 'gini = 0.0\\nsamples = 1\\nvalue = [1, 0]'),\n",
              " Text(0.6971153846153846, 0.17857142857142858, 'x[7] <= 67.5\\ngini = 0.32\\nsamples = 5\\nvalue = [4, 1]'),\n",
              " Text(0.6875, 0.10714285714285714, 'gini = 0.0\\nsamples = 4\\nvalue = [4, 0]'),\n",
              " Text(0.7067307692307693, 0.10714285714285714, 'gini = 0.0\\nsamples = 1\\nvalue = [0, 1]'),\n",
              " Text(0.7259615384615384, 0.25, 'x[1] <= 146.0\\ngini = 0.278\\nsamples = 6\\nvalue = [5, 1]'),\n",
              " Text(0.7163461538461539, 0.17857142857142858, 'gini = 0.0\\nsamples = 5\\nvalue = [5, 0]'),\n",
              " Text(0.7355769230769231, 0.17857142857142858, 'gini = 0.0\\nsamples = 1\\nvalue = [0, 1]'),\n",
              " Text(0.7211538461538461, 0.32142857142857145, 'gini = 0.0\\nsamples = 2\\nvalue = [0, 2]'),\n",
              " Text(0.75, 0.39285714285714285, 'x[1] <= 146.5\\ngini = 0.198\\nsamples = 9\\nvalue = [8, 1]'),\n",
              " Text(0.7403846153846154, 0.32142857142857145, 'gini = 0.0\\nsamples = 7\\nvalue = [7, 0]'),\n",
              " Text(0.7596153846153846, 0.32142857142857145, 'x[0] <= 4.5\\ngini = 0.5\\nsamples = 2\\nvalue = [1, 1]'),\n",
              " Text(0.75, 0.25, 'gini = 0.0\\nsamples = 1\\nvalue = [1, 0]'),\n",
              " Text(0.7692307692307693, 0.25, 'gini = 0.0\\nsamples = 1\\nvalue = [0, 1]'),\n",
              " Text(0.7403846153846154, 0.5357142857142857, 'gini = 0.0\\nsamples = 5\\nvalue = [0, 5]'),\n",
              " Text(0.8413461538461539, 0.6071428571428571, 'x[4] <= 333.5\\ngini = 0.239\\nsamples = 36\\nvalue = [5, 31]'),\n",
              " Text(0.8173076923076923, 0.5357142857142857, 'x[0] <= 0.5\\ngini = 0.165\\nsamples = 33\\nvalue = [3, 30]'),\n",
              " Text(0.7980769230769231, 0.4642857142857143, 'x[5] <= 41.8\\ngini = 0.48\\nsamples = 5\\nvalue = [2, 3]'),\n",
              " Text(0.7884615384615384, 0.39285714285714285, 'x[2] <= 85.0\\ngini = 0.444\\nsamples = 3\\nvalue = [2, 1]'),\n",
              " Text(0.7788461538461539, 0.32142857142857145, 'gini = 0.0\\nsamples = 2\\nvalue = [2, 0]'),\n",
              " Text(0.7980769230769231, 0.32142857142857145, 'gini = 0.0\\nsamples = 1\\nvalue = [0, 1]'),\n",
              " Text(0.8076923076923077, 0.39285714285714285, 'gini = 0.0\\nsamples = 2\\nvalue = [0, 2]'),\n",
              " Text(0.8365384615384616, 0.4642857142857143, 'x[5] <= 40.05\\ngini = 0.069\\nsamples = 28\\nvalue = [1, 27]'),\n",
              " Text(0.8269230769230769, 0.39285714285714285, 'gini = 0.0\\nsamples = 22\\nvalue = [0, 22]'),\n",
              " Text(0.8461538461538461, 0.39285714285714285, 'x[5] <= 40.7\\ngini = 0.278\\nsamples = 6\\nvalue = [1, 5]'),\n",
              " Text(0.8365384615384616, 0.32142857142857145, 'gini = 0.0\\nsamples = 1\\nvalue = [1, 0]'),\n",
              " Text(0.8557692307692307, 0.32142857142857145, 'gini = 0.0\\nsamples = 5\\nvalue = [0, 5]'),\n",
              " Text(0.8653846153846154, 0.5357142857142857, 'x[6] <= 0.581\\ngini = 0.444\\nsamples = 3\\nvalue = [2, 1]'),\n",
              " Text(0.8557692307692307, 0.4642857142857143, 'gini = 0.0\\nsamples = 1\\nvalue = [0, 1]'),\n",
              " Text(0.875, 0.4642857142857143, 'gini = 0.0\\nsamples = 2\\nvalue = [2, 0]'),\n",
              " Text(0.9567307692307693, 0.75, 'x[4] <= 595.0\\ngini = 0.219\\nsamples = 72\\nvalue = [9, 63]'),\n",
              " Text(0.9326923076923077, 0.6785714285714286, 'x[6] <= 0.307\\ngini = 0.182\\nsamples = 69\\nvalue = [7, 62]'),\n",
              " Text(0.9134615384615384, 0.6071428571428571, 'x[6] <= 0.288\\ngini = 0.401\\nsamples = 18\\nvalue = [5, 13]'),\n",
              " Text(0.9038461538461539, 0.5357142857142857, 'x[1] <= 179.5\\ngini = 0.305\\nsamples = 16\\nvalue = [3, 13]'),\n",
              " Text(0.8942307692307693, 0.4642857142857143, 'x[1] <= 177.0\\ngini = 0.42\\nsamples = 10\\nvalue = [3, 7]'),\n",
              " Text(0.8846153846153846, 0.39285714285714285, 'x[5] <= 45.1\\ngini = 0.219\\nsamples = 8\\nvalue = [1, 7]'),\n",
              " Text(0.875, 0.32142857142857145, 'gini = 0.0\\nsamples = 7\\nvalue = [0, 7]'),\n",
              " Text(0.8942307692307693, 0.32142857142857145, 'gini = 0.0\\nsamples = 1\\nvalue = [1, 0]'),\n",
              " Text(0.9038461538461539, 0.39285714285714285, 'gini = 0.0\\nsamples = 2\\nvalue = [2, 0]'),\n",
              " Text(0.9134615384615384, 0.4642857142857143, 'gini = 0.0\\nsamples = 6\\nvalue = [0, 6]'),\n",
              " Text(0.9230769230769231, 0.5357142857142857, 'gini = 0.0\\nsamples = 2\\nvalue = [2, 0]'),\n",
              " Text(0.9519230769230769, 0.6071428571428571, 'x[7] <= 48.0\\ngini = 0.075\\nsamples = 51\\nvalue = [2, 49]'),\n",
              " Text(0.9423076923076923, 0.5357142857142857, 'gini = 0.0\\nsamples = 42\\nvalue = [0, 42]'),\n",
              " Text(0.9615384615384616, 0.5357142857142857, 'x[7] <= 50.5\\ngini = 0.346\\nsamples = 9\\nvalue = [2, 7]'),\n",
              " Text(0.9519230769230769, 0.4642857142857143, 'gini = 0.0\\nsamples = 1\\nvalue = [1, 0]'),\n",
              " Text(0.9711538461538461, 0.4642857142857143, 'x[5] <= 45.95\\ngini = 0.219\\nsamples = 8\\nvalue = [1, 7]'),\n",
              " Text(0.9615384615384616, 0.39285714285714285, 'gini = 0.0\\nsamples = 7\\nvalue = [0, 7]'),\n",
              " Text(0.9807692307692307, 0.39285714285714285, 'gini = 0.0\\nsamples = 1\\nvalue = [1, 0]'),\n",
              " Text(0.9807692307692307, 0.6785714285714286, 'x[7] <= 45.0\\ngini = 0.444\\nsamples = 3\\nvalue = [2, 1]'),\n",
              " Text(0.9711538461538461, 0.6071428571428571, 'gini = 0.0\\nsamples = 2\\nvalue = [2, 0]'),\n",
              " Text(0.9903846153846154, 0.6071428571428571, 'gini = 0.0\\nsamples = 1\\nvalue = [0, 1]')]"
            ]
          },
          "execution_count": 88,
          "metadata": {},
          "output_type": "execute_result"
        },
        {
          "data": {
            "image/png": "[encoded data removed]",
            "text/plain": [
              "<Figure size 640x480 with 1 Axes>"
            ]
          },
          "metadata": {},
          "output_type": "display_data"
        }
      ],
      "source": [
        "tree.plot_tree(model_gini)"
      ]
    },
    {
      "cell_type": "code",
      "execution_count": 89,
      "metadata": {
        "id": "IMX4xWZofgqQ"
      },
      "outputs": [],
      "source": [
        "y_pred1 = model_gini.predict(X_test)"
      ]
    },
    {
      "cell_type": "code",
      "execution_count": 90,
      "metadata": {
        "colab": {
          "base_uri": "https://localhost:8080/"
        },
        "id": "vYpvCdaNgB4K",
        "outputId": "ebf9ac4f-7edf-47e7-a67a-e8fa68100b4d"
      },
      "outputs": [
        {
          "name": "stdout",
          "output_type": "stream",
          "text": [
            "Accuracy Score :  0.8051948051948052\n"
          ]
        }
      ],
      "source": [
        "from sklearn import metrics\n",
        "print(\"Accuracy Score : \", metrics.accuracy_score(Y_test, y_pred1))"
      ]
    },
    {
      "attachments": {},
      "cell_type": "markdown",
      "metadata": {
        "id": "m8yGaJ5cl5Qi"
      },
      "source": [
        "### Checking for a max depth value of 13."
      ]
    },
    {
      "cell_type": "code",
      "execution_count": 91,
      "metadata": {
        "id": "5qGH-YDHgEBx"
      },
      "outputs": [],
      "source": [
        "model_gini1 = DecisionTreeClassifier(criterion = \"gini\", random_state = 100, max_depth = 13, min_samples_leaf = 1)"
      ]
    },
    {
      "cell_type": "code",
      "execution_count": 92,
      "metadata": {
        "colab": {
          "base_uri": "https://localhost:8080/",
          "height": 74
        },
        "id": "jOpjOXp6gj01",
        "outputId": "47d3e4a4-4237-4b48-83e1-670fe689b320"
      },
      "outputs": [
        {
          "data": {
            "text/html": [
              "<style>#sk-container-id-15 {color: black;background-color: white;}#sk-container-id-15 pre{padding: 0;}#sk-container-id-15 div.sk-toggleable {background-color: white;}#sk-container-id-15 label.sk-toggleable__label {cursor: pointer;display: block;width: 100%;margin-bottom: 0;padding: 0.3em;box-sizing: border-box;text-align: center;}#sk-container-id-15 label.sk-toggleable__label-arrow:before {content: \"▸\";float: left;margin-right: 0.25em;color: #696969;}#sk-container-id-15 label.sk-toggleable__label-arrow:hover:before {color: black;}#sk-container-id-15 div.sk-estimator:hover label.sk-toggleable__label-arrow:before {color: black;}#sk-container-id-15 div.sk-toggleable__content {max-height: 0;max-width: 0;overflow: hidden;text-align: left;background-color: #f0f8ff;}#sk-container-id-15 div.sk-toggleable__content pre {margin: 0.2em;color: black;border-radius: 0.25em;background-color: #f0f8ff;}#sk-container-id-15 input.sk-toggleable__control:checked~div.sk-toggleable__content {max-height: 200px;max-width: 100%;overflow: auto;}#sk-container-id-15 input.sk-toggleable__control:checked~label.sk-toggleable__label-arrow:before {content: \"▾\";}#sk-container-id-15 div.sk-estimator input.sk-toggleable__control:checked~label.sk-toggleable__label {background-color: #d4ebff;}#sk-container-id-15 div.sk-label input.sk-toggleable__control:checked~label.sk-toggleable__label {background-color: #d4ebff;}#sk-container-id-15 input.sk-hidden--visually {border: 0;clip: rect(1px 1px 1px 1px);clip: rect(1px, 1px, 1px, 1px);height: 1px;margin: -1px;overflow: hidden;padding: 0;position: absolute;width: 1px;}#sk-container-id-15 div.sk-estimator {font-family: monospace;background-color: #f0f8ff;border: 1px dotted black;border-radius: 0.25em;box-sizing: border-box;margin-bottom: 0.5em;}#sk-container-id-15 div.sk-estimator:hover {background-color: #d4ebff;}#sk-container-id-15 div.sk-parallel-item::after {content: \"\";width: 100%;border-bottom: 1px solid gray;flex-grow: 1;}#sk-container-id-15 div.sk-label:hover label.sk-toggleable__label {background-color: #d4ebff;}#sk-container-id-15 div.sk-serial::before {content: \"\";position: absolute;border-left: 1px solid gray;box-sizing: border-box;top: 0;bottom: 0;left: 50%;z-index: 0;}#sk-container-id-15 div.sk-serial {display: flex;flex-direction: column;align-items: center;background-color: white;padding-right: 0.2em;padding-left: 0.2em;position: relative;}#sk-container-id-15 div.sk-item {position: relative;z-index: 1;}#sk-container-id-15 div.sk-parallel {display: flex;align-items: stretch;justify-content: center;background-color: white;position: relative;}#sk-container-id-15 div.sk-item::before, #sk-container-id-15 div.sk-parallel-item::before {content: \"\";position: absolute;border-left: 1px solid gray;box-sizing: border-box;top: 0;bottom: 0;left: 50%;z-index: -1;}#sk-container-id-15 div.sk-parallel-item {display: flex;flex-direction: column;z-index: 1;position: relative;background-color: white;}#sk-container-id-15 div.sk-parallel-item:first-child::after {align-self: flex-end;width: 50%;}#sk-container-id-15 div.sk-parallel-item:last-child::after {align-self: flex-start;width: 50%;}#sk-container-id-15 div.sk-parallel-item:only-child::after {width: 0;}#sk-container-id-15 div.sk-dashed-wrapped {border: 1px dashed gray;margin: 0 0.4em 0.5em 0.4em;box-sizing: border-box;padding-bottom: 0.4em;background-color: white;}#sk-container-id-15 div.sk-label label {font-family: monospace;font-weight: bold;display: inline-block;line-height: 1.2em;}#sk-container-id-15 div.sk-label-container {text-align: center;}#sk-container-id-15 div.sk-container {/* jupyter's `normalize.less` sets `[hidden] { display: none; }` but bootstrap.min.css set `[hidden] { display: none !important; }` so we also need the `!important` here to be able to override the default hidden behavior on the sphinx rendered scikit-learn.org. See: https://github.com/scikit-learn/scikit-learn/issues/21755 */display: inline-block !important;position: relative;}#sk-container-id-15 div.sk-text-repr-fallback {display: none;}</style><div id=\"sk-container-id-15\" class=\"sk-top-container\"><div class=\"sk-text-repr-fallback\"><pre>DecisionTreeClassifier(max_depth=13, random_state=100)</pre><b>In a Jupyter environment, please rerun this cell to show the HTML representation or trust the notebook. <br />On GitHub, the HTML representation is unable to render, please try loading this page with nbviewer.org.</b></div><div class=\"sk-container\" hidden><div class=\"sk-item\"><div class=\"sk-estimator sk-toggleable\"><input class=\"sk-toggleable__control sk-hidden--visually\" id=\"sk-estimator-id-15\" type=\"checkbox\" checked><label for=\"sk-estimator-id-15\" class=\"sk-toggleable__label sk-toggleable__label-arrow\">DecisionTreeClassifier</label><div class=\"sk-toggleable__content\"><pre>DecisionTreeClassifier(max_depth=13, random_state=100)</pre></div></div></div></div></div>"
            ],
            "text/plain": [
              "DecisionTreeClassifier(max_depth=13, random_state=100)"
            ]
          },
          "execution_count": 92,
          "metadata": {},
          "output_type": "execute_result"
        }
      ],
      "source": [
        "model_gini1.fit(X_train, Y_train)"
      ]
    },
    {
      "cell_type": "code",
      "execution_count": 93,
      "metadata": {
        "colab": {
          "base_uri": "https://localhost:8080/",
          "height": 1000
        },
        "id": "QMIgwBpxgT3s",
        "outputId": "82939ed1-1f36-4d6d-a568-f3528821b2a6"
      },
      "outputs": [
        {
          "data": {
            "text/plain": [
              "[Text(0.4033954326923077, 0.9642857142857143, 'x[1] <= 123.5\\ngini = 0.461\\nsamples = 614\\nvalue = [393, 221]'),\n",
              " Text(0.14483173076923078, 0.8928571428571429, 'x[7] <= 28.5\\ngini = 0.301\\nsamples = 352\\nvalue = [287, 65]'),\n",
              " Text(0.052884615384615384, 0.8214285714285714, 'x[5] <= 30.95\\ngini = 0.162\\nsamples = 202\\nvalue = [184, 18]'),\n",
              " Text(0.028846153846153848, 0.75, 'x[0] <= 7.0\\ngini = 0.036\\nsamples = 110\\nvalue = [108, 2]'),\n",
              " Text(0.019230769230769232, 0.6785714285714286, 'x[6] <= 0.672\\ngini = 0.018\\nsamples = 109\\nvalue = [108, 1]'),\n",
              " Text(0.009615384615384616, 0.6071428571428571, 'gini = 0.0\\nsamples = 99\\nvalue = [99, 0]'),\n",
              " Text(0.028846153846153848, 0.6071428571428571, 'x[6] <= 0.697\\ngini = 0.18\\nsamples = 10\\nvalue = [9, 1]'),\n",
              " Text(0.019230769230769232, 0.5357142857142857, 'gini = 0.0\\nsamples = 1\\nvalue = [0, 1]'),\n",
              " Text(0.038461538461538464, 0.5357142857142857, 'gini = 0.0\\nsamples = 9\\nvalue = [9, 0]'),\n",
              " Text(0.038461538461538464, 0.6785714285714286, 'gini = 0.0\\nsamples = 1\\nvalue = [0, 1]'),\n",
              " Text(0.07692307692307693, 0.75, 'x[2] <= 53.0\\ngini = 0.287\\nsamples = 92\\nvalue = [76, 16]'),\n",
              " Text(0.057692307692307696, 0.6785714285714286, 'x[6] <= 0.508\\ngini = 0.444\\nsamples = 6\\nvalue = [2, 4]'),\n",
              " Text(0.04807692307692308, 0.6071428571428571, 'gini = 0.0\\nsamples = 4\\nvalue = [0, 4]'),\n",
              " Text(0.0673076923076923, 0.6071428571428571, 'gini = 0.0\\nsamples = 2\\nvalue = [2, 0]'),\n",
              " Text(0.09615384615384616, 0.6785714285714286, 'x[6] <= 1.272\\ngini = 0.24\\nsamples = 86\\nvalue = [74, 12]'),\n",
              " Text(0.08653846153846154, 0.6071428571428571, 'x[6] <= 0.501\\ngini = 0.225\\nsamples = 85\\nvalue = [74, 11]'),\n",
              " Text(0.0673076923076923, 0.5357142857142857, 'x[5] <= 45.35\\ngini = 0.135\\nsamples = 55\\nvalue = [51, 4]'),\n",
              " Text(0.057692307692307696, 0.4642857142857143, 'x[4] <= 36.5\\ngini = 0.105\\nsamples = 54\\nvalue = [51, 3]'),\n",
              " Text(0.04807692307692308, 0.39285714285714285, 'x[2] <= 82.5\\ngini = 0.266\\nsamples = 19\\nvalue = [16, 3]'),\n",
              " Text(0.038461538461538464, 0.32142857142857145, 'x[1] <= 111.5\\ngini = 0.198\\nsamples = 18\\nvalue = [16, 2]'),\n",
              " Text(0.028846153846153848, 0.25, 'gini = 0.0\\nsamples = 13\\nvalue = [13, 0]'),\n",
              " Text(0.04807692307692308, 0.25, 'x[5] <= 34.5\\ngini = 0.48\\nsamples = 5\\nvalue = [3, 2]'),\n",
              " Text(0.038461538461538464, 0.17857142857142858, 'gini = 0.0\\nsamples = 2\\nvalue = [0, 2]'),\n",
              " Text(0.057692307692307696, 0.17857142857142858, 'gini = 0.0\\nsamples = 3\\nvalue = [3, 0]'),\n",
              " Text(0.057692307692307696, 0.32142857142857145, 'gini = 0.0\\nsamples = 1\\nvalue = [0, 1]'),\n",
              " Text(0.0673076923076923, 0.39285714285714285, 'gini = 0.0\\nsamples = 35\\nvalue = [35, 0]'),\n",
              " Text(0.07692307692307693, 0.4642857142857143, 'gini = 0.0\\nsamples = 1\\nvalue = [0, 1]'),\n",
              " Text(0.10576923076923077, 0.5357142857142857, 'x[2] <= 69.0\\ngini = 0.358\\nsamples = 30\\nvalue = [23, 7]'),\n",
              " Text(0.09615384615384616, 0.4642857142857143, 'x[1] <= 88.5\\ngini = 0.492\\nsamples = 16\\nvalue = [9, 7]'),\n",
              " Text(0.08653846153846154, 0.39285714285714285, 'gini = 0.0\\nsamples = 7\\nvalue = [7, 0]'),\n",
              " Text(0.10576923076923077, 0.39285714285714285, 'x[5] <= 32.25\\ngini = 0.346\\nsamples = 9\\nvalue = [2, 7]'),\n",
              " Text(0.09615384615384616, 0.32142857142857145, 'gini = 0.0\\nsamples = 1\\nvalue = [1, 0]'),\n",
              " Text(0.11538461538461539, 0.32142857142857145, 'x[0] <= 0.5\\ngini = 0.219\\nsamples = 8\\nvalue = [1, 7]'),\n",
              " Text(0.10576923076923077, 0.25, 'x[4] <= 87.0\\ngini = 0.444\\nsamples = 3\\nvalue = [1, 2]'),\n",
              " Text(0.09615384615384616, 0.17857142857142858, 'gini = 0.0\\nsamples = 2\\nvalue = [0, 2]'),\n",
              " Text(0.11538461538461539, 0.17857142857142858, 'gini = 0.0\\nsamples = 1\\nvalue = [1, 0]'),\n",
              " Text(0.125, 0.25, 'gini = 0.0\\nsamples = 5\\nvalue = [0, 5]'),\n",
              " Text(0.11538461538461539, 0.4642857142857143, 'gini = 0.0\\nsamples = 14\\nvalue = [14, 0]'),\n",
              " Text(0.10576923076923077, 0.6071428571428571, 'gini = 0.0\\nsamples = 1\\nvalue = [0, 1]'),\n",
              " Text(0.23677884615384615, 0.8214285714285714, 'x[5] <= 26.35\\ngini = 0.43\\nsamples = 150\\nvalue = [103, 47]'),\n",
              " Text(0.22716346153846154, 0.75, 'gini = 0.0\\nsamples = 29\\nvalue = [29, 0]'),\n",
              " Text(0.24639423076923078, 0.75, 'x[1] <= 99.5\\ngini = 0.475\\nsamples = 121\\nvalue = [74, 47]'),\n",
              " Text(0.17307692307692307, 0.6785714285714286, 'x[1] <= 28.5\\ngini = 0.337\\nsamples = 42\\nvalue = [33, 9]'),\n",
              " Text(0.16346153846153846, 0.6071428571428571, 'gini = 0.0\\nsamples = 2\\nvalue = [0, 2]'),\n",
              " Text(0.18269230769230768, 0.6071428571428571, 'x[7] <= 42.5\\ngini = 0.289\\nsamples = 40\\nvalue = [33, 7]'),\n",
              " Text(0.16346153846153846, 0.5357142857142857, 'x[6] <= 1.16\\ngini = 0.137\\nsamples = 27\\nvalue = [25, 2]'),\n",
              " Text(0.15384615384615385, 0.4642857142857143, 'x[6] <= 0.171\\ngini = 0.074\\nsamples = 26\\nvalue = [25, 1]'),\n",
              " Text(0.14423076923076922, 0.39285714285714285, 'x[2] <= 66.0\\ngini = 0.375\\nsamples = 4\\nvalue = [3, 1]'),\n",
              " Text(0.1346153846153846, 0.32142857142857145, 'gini = 0.0\\nsamples = 1\\nvalue = [0, 1]'),\n",
              " Text(0.15384615384615385, 0.32142857142857145, 'gini = 0.0\\nsamples = 3\\nvalue = [3, 0]'),\n",
              " Text(0.16346153846153846, 0.39285714285714285, 'gini = 0.0\\nsamples = 22\\nvalue = [22, 0]'),\n",
              " Text(0.17307692307692307, 0.4642857142857143, 'gini = 0.0\\nsamples = 1\\nvalue = [0, 1]'),\n",
              " Text(0.20192307692307693, 0.5357142857142857, 'x[5] <= 30.85\\ngini = 0.473\\nsamples = 13\\nvalue = [8, 5]'),\n",
              " Text(0.19230769230769232, 0.4642857142857143, 'gini = 0.0\\nsamples = 2\\nvalue = [0, 2]'),\n",
              " Text(0.21153846153846154, 0.4642857142857143, 'x[3] <= 21.5\\ngini = 0.397\\nsamples = 11\\nvalue = [8, 3]'),\n",
              " Text(0.20192307692307693, 0.39285714285714285, 'gini = 0.0\\nsamples = 5\\nvalue = [5, 0]'),\n",
              " Text(0.22115384615384615, 0.39285714285714285, 'x[2] <= 75.0\\ngini = 0.5\\nsamples = 6\\nvalue = [3, 3]'),\n",
              " Text(0.21153846153846154, 0.32142857142857145, 'gini = 0.0\\nsamples = 3\\nvalue = [3, 0]'),\n",
              " Text(0.23076923076923078, 0.32142857142857145, 'gini = 0.0\\nsamples = 3\\nvalue = [0, 3]'),\n",
              " Text(0.31971153846153844, 0.6785714285714286, 'x[5] <= 27.55\\ngini = 0.499\\nsamples = 79\\nvalue = [41, 38]'),\n",
              " Text(0.31009615384615385, 0.6071428571428571, 'gini = 0.0\\nsamples = 5\\nvalue = [0, 5]'),\n",
              " Text(0.3293269230769231, 0.6071428571428571, 'x[6] <= 0.179\\ngini = 0.494\\nsamples = 74\\nvalue = [41, 33]'),\n",
              " Text(0.31971153846153844, 0.5357142857142857, 'gini = 0.0\\nsamples = 8\\nvalue = [8, 0]'),\n",
              " Text(0.3389423076923077, 0.5357142857142857, 'x[0] <= 6.5\\ngini = 0.5\\nsamples = 66\\nvalue = [33, 33]'),\n",
              " Text(0.2932692307692308, 0.4642857142857143, 'x[0] <= 1.5\\ngini = 0.483\\nsamples = 44\\nvalue = [26, 18]'),\n",
              " Text(0.25961538461538464, 0.39285714285714285, 'x[6] <= 0.894\\ngini = 0.475\\nsamples = 18\\nvalue = [7, 11]'),\n",
              " Text(0.25, 0.32142857142857145, 'x[6] <= 0.2\\ngini = 0.391\\nsamples = 15\\nvalue = [4, 11]'),\n",
              " Text(0.2403846153846154, 0.25, 'gini = 0.0\\nsamples = 2\\nvalue = [2, 0]'),\n",
              " Text(0.25961538461538464, 0.25, 'x[1] <= 101.0\\ngini = 0.26\\nsamples = 13\\nvalue = [2, 11]'),\n",
              " Text(0.25, 0.17857142857142858, 'gini = 0.0\\nsamples = 1\\nvalue = [1, 0]'),\n",
              " Text(0.2692307692307692, 0.17857142857142858, 'x[2] <= 92.0\\ngini = 0.153\\nsamples = 12\\nvalue = [1, 11]'),\n",
              " Text(0.25961538461538464, 0.10714285714285714, 'gini = 0.0\\nsamples = 11\\nvalue = [0, 11]'),\n",
              " Text(0.27884615384615385, 0.10714285714285714, 'gini = 0.0\\nsamples = 1\\nvalue = [1, 0]'),\n",
              " Text(0.2692307692307692, 0.32142857142857145, 'gini = 0.0\\nsamples = 3\\nvalue = [3, 0]'),\n",
              " Text(0.3269230769230769, 0.39285714285714285, 'x[7] <= 34.5\\ngini = 0.393\\nsamples = 26\\nvalue = [19, 7]'),\n",
              " Text(0.3076923076923077, 0.32142857142857145, 'x[2] <= 63.0\\ngini = 0.133\\nsamples = 14\\nvalue = [13, 1]'),\n",
              " Text(0.2980769230769231, 0.25, 'x[3] <= 25.5\\ngini = 0.5\\nsamples = 2\\nvalue = [1, 1]'),\n",
              " Text(0.28846153846153844, 0.17857142857142858, 'gini = 0.0\\nsamples = 1\\nvalue = [0, 1]'),\n",
              " Text(0.3076923076923077, 0.17857142857142858, 'gini = 0.0\\nsamples = 1\\nvalue = [1, 0]'),\n",
              " Text(0.3173076923076923, 0.25, 'gini = 0.0\\nsamples = 12\\nvalue = [12, 0]'),\n",
              " Text(0.34615384615384615, 0.32142857142857145, 'x[2] <= 74.5\\ngini = 0.5\\nsamples = 12\\nvalue = [6, 6]'),\n",
              " Text(0.33653846153846156, 0.25, 'gini = 0.0\\nsamples = 4\\nvalue = [0, 4]'),\n",
              " Text(0.3557692307692308, 0.25, 'x[5] <= 32.65\\ngini = 0.375\\nsamples = 8\\nvalue = [6, 2]'),\n",
              " Text(0.34615384615384615, 0.17857142857142858, 'x[5] <= 29.3\\ngini = 0.444\\nsamples = 3\\nvalue = [1, 2]'),\n",
              " Text(0.33653846153846156, 0.10714285714285714, 'gini = 0.0\\nsamples = 1\\nvalue = [1, 0]'),\n",
              " Text(0.3557692307692308, 0.10714285714285714, 'gini = 0.0\\nsamples = 2\\nvalue = [0, 2]'),\n",
              " Text(0.36538461538461536, 0.17857142857142858, 'gini = 0.0\\nsamples = 5\\nvalue = [5, 0]'),\n",
              " Text(0.38461538461538464, 0.4642857142857143, 'x[7] <= 39.0\\ngini = 0.434\\nsamples = 22\\nvalue = [7, 15]'),\n",
              " Text(0.375, 0.39285714285714285, 'gini = 0.0\\nsamples = 8\\nvalue = [0, 8]'),\n",
              " Text(0.3942307692307692, 0.39285714285714285, 'x[6] <= 0.587\\ngini = 0.5\\nsamples = 14\\nvalue = [7, 7]'),\n",
              " Text(0.38461538461538464, 0.32142857142857145, 'x[5] <= 31.8\\ngini = 0.42\\nsamples = 10\\nvalue = [7, 3]'),\n",
              " Text(0.375, 0.25, 'gini = 0.0\\nsamples = 4\\nvalue = [4, 0]'),\n",
              " Text(0.3942307692307692, 0.25, 'x[3] <= 38.0\\ngini = 0.5\\nsamples = 6\\nvalue = [3, 3]'),\n",
              " Text(0.38461538461538464, 0.17857142857142858, 'x[7] <= 49.0\\ngini = 0.375\\nsamples = 4\\nvalue = [1, 3]'),\n",
              " Text(0.375, 0.10714285714285714, 'gini = 0.0\\nsamples = 3\\nvalue = [0, 3]'),\n",
              " Text(0.3942307692307692, 0.10714285714285714, 'gini = 0.0\\nsamples = 1\\nvalue = [1, 0]'),\n",
              " Text(0.40384615384615385, 0.17857142857142858, 'gini = 0.0\\nsamples = 2\\nvalue = [2, 0]'),\n",
              " Text(0.40384615384615385, 0.32142857142857145, 'gini = 0.0\\nsamples = 4\\nvalue = [0, 4]'),\n",
              " Text(0.6619591346153846, 0.8928571428571429, 'x[5] <= 30.05\\ngini = 0.482\\nsamples = 262\\nvalue = [106, 156]'),\n",
              " Text(0.49278846153846156, 0.8214285714285714, 'x[7] <= 26.0\\ngini = 0.438\\nsamples = 74\\nvalue = [50, 24]'),\n",
              " Text(0.4831730769230769, 0.75, 'gini = 0.0\\nsamples = 19\\nvalue = [19, 0]'),\n",
              " Text(0.5024038461538461, 0.75, 'x[7] <= 60.5\\ngini = 0.492\\nsamples = 55\\nvalue = [31, 24]'),\n",
              " Text(0.49278846153846156, 0.6785714285714286, 'x[1] <= 151.5\\ngini = 0.5\\nsamples = 47\\nvalue = [23, 24]'),\n",
              " Text(0.44711538461538464, 0.6071428571428571, 'x[1] <= 125.5\\ngini = 0.469\\nsamples = 32\\nvalue = [20, 12]'),\n",
              " Text(0.41346153846153844, 0.5357142857142857, 'x[3] <= 27.0\\ngini = 0.375\\nsamples = 8\\nvalue = [2, 6]'),\n",
              " Text(0.40384615384615385, 0.4642857142857143, 'gini = 0.0\\nsamples = 5\\nvalue = [0, 5]'),\n",
              " Text(0.4230769230769231, 0.4642857142857143, 'x[2] <= 74.0\\ngini = 0.444\\nsamples = 3\\nvalue = [2, 1]'),\n",
              " Text(0.41346153846153844, 0.39285714285714285, 'gini = 0.0\\nsamples = 2\\nvalue = [2, 0]'),\n",
              " Text(0.4326923076923077, 0.39285714285714285, 'gini = 0.0\\nsamples = 1\\nvalue = [0, 1]'),\n",
              " Text(0.4807692307692308, 0.5357142857142857, 'x[2] <= 73.0\\ngini = 0.375\\nsamples = 24\\nvalue = [18, 6]'),\n",
              " Text(0.46153846153846156, 0.4642857142857143, 'x[2] <= 64.5\\ngini = 0.5\\nsamples = 8\\nvalue = [4, 4]'),\n",
              " Text(0.4519230769230769, 0.39285714285714285, 'x[7] <= 28.5\\ngini = 0.32\\nsamples = 5\\nvalue = [4, 1]'),\n",
              " Text(0.4423076923076923, 0.32142857142857145, 'gini = 0.0\\nsamples = 1\\nvalue = [0, 1]'),\n",
              " Text(0.46153846153846156, 0.32142857142857145, 'gini = 0.0\\nsamples = 4\\nvalue = [4, 0]'),\n",
              " Text(0.47115384615384615, 0.39285714285714285, 'gini = 0.0\\nsamples = 3\\nvalue = [0, 3]'),\n",
              " Text(0.5, 0.4642857142857143, 'x[5] <= 28.0\\ngini = 0.219\\nsamples = 16\\nvalue = [14, 2]'),\n",
              " Text(0.49038461538461536, 0.39285714285714285, 'gini = 0.0\\nsamples = 9\\nvalue = [9, 0]'),\n",
              " Text(0.5096153846153846, 0.39285714285714285, 'x[5] <= 29.55\\ngini = 0.408\\nsamples = 7\\nvalue = [5, 2]'),\n",
              " Text(0.5, 0.32142857142857145, 'x[2] <= 82.5\\ngini = 0.444\\nsamples = 3\\nvalue = [1, 2]'),\n",
              " Text(0.49038461538461536, 0.25, 'gini = 0.0\\nsamples = 2\\nvalue = [0, 2]'),\n",
              " Text(0.5096153846153846, 0.25, 'gini = 0.0\\nsamples = 1\\nvalue = [1, 0]'),\n",
              " Text(0.5192307692307693, 0.32142857142857145, 'gini = 0.0\\nsamples = 4\\nvalue = [4, 0]'),\n",
              " Text(0.5384615384615384, 0.6071428571428571, 'x[5] <= 27.1\\ngini = 0.32\\nsamples = 15\\nvalue = [3, 12]'),\n",
              " Text(0.5288461538461539, 0.5357142857142857, 'gini = 0.0\\nsamples = 8\\nvalue = [0, 8]'),\n",
              " Text(0.5480769230769231, 0.5357142857142857, 'x[5] <= 29.1\\ngini = 0.49\\nsamples = 7\\nvalue = [3, 4]'),\n",
              " Text(0.5384615384615384, 0.4642857142857143, 'x[7] <= 36.5\\ngini = 0.375\\nsamples = 4\\nvalue = [3, 1]'),\n",
              " Text(0.5288461538461539, 0.39285714285714285, 'gini = 0.0\\nsamples = 1\\nvalue = [0, 1]'),\n",
              " Text(0.5480769230769231, 0.39285714285714285, 'gini = 0.0\\nsamples = 3\\nvalue = [3, 0]'),\n",
              " Text(0.5576923076923077, 0.4642857142857143, 'gini = 0.0\\nsamples = 3\\nvalue = [0, 3]'),\n",
              " Text(0.5120192307692307, 0.6785714285714286, 'gini = 0.0\\nsamples = 8\\nvalue = [8, 0]'),\n",
              " Text(0.8311298076923077, 0.8214285714285714, 'x[1] <= 157.5\\ngini = 0.418\\nsamples = 188\\nvalue = [56, 132]'),\n",
              " Text(0.7055288461538461, 0.75, 'x[7] <= 28.5\\ngini = 0.482\\nsamples = 116\\nvalue = [47, 69]'),\n",
              " Text(0.625, 0.6785714285714286, 'x[2] <= 73.0\\ngini = 0.49\\nsamples = 42\\nvalue = [24, 18]'),\n",
              " Text(0.5865384615384616, 0.6071428571428571, 'x[6] <= 0.186\\ngini = 0.463\\nsamples = 22\\nvalue = [8, 14]'),\n",
              " Text(0.5769230769230769, 0.5357142857142857, 'gini = 0.0\\nsamples = 3\\nvalue = [3, 0]'),\n",
              " Text(0.5961538461538461, 0.5357142857142857, 'x[1] <= 147.0\\ngini = 0.388\\nsamples = 19\\nvalue = [5, 14]'),\n",
              " Text(0.5769230769230769, 0.4642857142857143, 'x[4] <= 365.0\\ngini = 0.231\\nsamples = 15\\nvalue = [2, 13]'),\n",
              " Text(0.5673076923076923, 0.39285714285714285, 'x[0] <= 3.5\\ngini = 0.133\\nsamples = 14\\nvalue = [1, 13]'),\n",
              " Text(0.5576923076923077, 0.32142857142857145, 'gini = 0.0\\nsamples = 11\\nvalue = [0, 11]'),\n",
              " Text(0.5769230769230769, 0.32142857142857145, 'x[5] <= 33.6\\ngini = 0.444\\nsamples = 3\\nvalue = [1, 2]'),\n",
              " Text(0.5673076923076923, 0.25, 'gini = 0.0\\nsamples = 2\\nvalue = [0, 2]'),\n",
              " Text(0.5865384615384616, 0.25, 'gini = 0.0\\nsamples = 1\\nvalue = [1, 0]'),\n",
              " Text(0.5865384615384616, 0.39285714285714285, 'gini = 0.0\\nsamples = 1\\nvalue = [1, 0]'),\n",
              " Text(0.6153846153846154, 0.4642857142857143, 'x[0] <= 2.5\\ngini = 0.375\\nsamples = 4\\nvalue = [3, 1]'),\n",
              " Text(0.6057692307692307, 0.39285714285714285, 'gini = 0.0\\nsamples = 1\\nvalue = [0, 1]'),\n",
              " Text(0.625, 0.39285714285714285, 'gini = 0.0\\nsamples = 3\\nvalue = [3, 0]'),\n",
              " Text(0.6634615384615384, 0.6071428571428571, 'x[2] <= 89.0\\ngini = 0.32\\nsamples = 20\\nvalue = [16, 4]'),\n",
              " Text(0.6442307692307693, 0.5357142857142857, 'x[0] <= 4.5\\ngini = 0.117\\nsamples = 16\\nvalue = [15, 1]'),\n",
              " Text(0.6346153846153846, 0.4642857142857143, 'gini = 0.0\\nsamples = 14\\nvalue = [14, 0]'),\n",
              " Text(0.6538461538461539, 0.4642857142857143, 'x[2] <= 79.0\\ngini = 0.5\\nsamples = 2\\nvalue = [1, 1]'),\n",
              " Text(0.6442307692307693, 0.39285714285714285, 'gini = 0.0\\nsamples = 1\\nvalue = [1, 0]'),\n",
              " Text(0.6634615384615384, 0.39285714285714285, 'gini = 0.0\\nsamples = 1\\nvalue = [0, 1]'),\n",
              " Text(0.6826923076923077, 0.5357142857142857, 'x[4] <= 137.5\\ngini = 0.375\\nsamples = 4\\nvalue = [1, 3]'),\n",
              " Text(0.6730769230769231, 0.4642857142857143, 'gini = 0.0\\nsamples = 3\\nvalue = [0, 3]'),\n",
              " Text(0.6923076923076923, 0.4642857142857143, 'gini = 0.0\\nsamples = 1\\nvalue = [1, 0]'),\n",
              " Text(0.7860576923076923, 0.6785714285714286, 'x[6] <= 0.429\\ngini = 0.428\\nsamples = 74\\nvalue = [23, 51]'),\n",
              " Text(0.7307692307692307, 0.6071428571428571, 'x[5] <= 45.55\\ngini = 0.499\\nsamples = 38\\nvalue = [18, 20]'),\n",
              " Text(0.7211538461538461, 0.5357142857142857, 'x[0] <= 1.5\\ngini = 0.496\\nsamples = 33\\nvalue = [18, 15]'),\n",
              " Text(0.7115384615384616, 0.4642857142857143, 'gini = 0.0\\nsamples = 3\\nvalue = [0, 3]'),\n",
              " Text(0.7307692307692307, 0.4642857142857143, 'x[5] <= 37.25\\ngini = 0.48\\nsamples = 30\\nvalue = [18, 12]'),\n",
              " Text(0.7115384615384616, 0.39285714285714285, 'x[2] <= 89.0\\ngini = 0.499\\nsamples = 21\\nvalue = [10, 11]'),\n",
              " Text(0.7019230769230769, 0.32142857142857145, 'x[4] <= 118.5\\ngini = 0.499\\nsamples = 19\\nvalue = [10, 9]'),\n",
              " Text(0.6778846153846154, 0.25, 'x[1] <= 137.0\\ngini = 0.473\\nsamples = 13\\nvalue = [5, 8]'),\n",
              " Text(0.6586538461538461, 0.17857142857142858, 'x[7] <= 44.5\\ngini = 0.219\\nsamples = 8\\nvalue = [1, 7]'),\n",
              " Text(0.6490384615384616, 0.10714285714285714, 'gini = 0.0\\nsamples = 6\\nvalue = [0, 6]'),\n",
              " Text(0.6682692307692307, 0.10714285714285714, 'x[1] <= 126.5\\ngini = 0.5\\nsamples = 2\\nvalue = [1, 1]'),\n",
              " Text(0.6586538461538461, 0.03571428571428571, 'gini = 0.0\\nsamples = 1\\nvalue = [0, 1]'),\n",
              " Text(0.6778846153846154, 0.03571428571428571, 'gini = 0.0\\nsamples = 1\\nvalue = [1, 0]'),\n",
              " Text(0.6971153846153846, 0.17857142857142858, 'x[7] <= 67.5\\ngini = 0.32\\nsamples = 5\\nvalue = [4, 1]'),\n",
              " Text(0.6875, 0.10714285714285714, 'gini = 0.0\\nsamples = 4\\nvalue = [4, 0]'),\n",
              " Text(0.7067307692307693, 0.10714285714285714, 'gini = 0.0\\nsamples = 1\\nvalue = [0, 1]'),\n",
              " Text(0.7259615384615384, 0.25, 'x[1] <= 146.0\\ngini = 0.278\\nsamples = 6\\nvalue = [5, 1]'),\n",
              " Text(0.7163461538461539, 0.17857142857142858, 'gini = 0.0\\nsamples = 5\\nvalue = [5, 0]'),\n",
              " Text(0.7355769230769231, 0.17857142857142858, 'gini = 0.0\\nsamples = 1\\nvalue = [0, 1]'),\n",
              " Text(0.7211538461538461, 0.32142857142857145, 'gini = 0.0\\nsamples = 2\\nvalue = [0, 2]'),\n",
              " Text(0.75, 0.39285714285714285, 'x[1] <= 146.5\\ngini = 0.198\\nsamples = 9\\nvalue = [8, 1]'),\n",
              " Text(0.7403846153846154, 0.32142857142857145, 'gini = 0.0\\nsamples = 7\\nvalue = [7, 0]'),\n",
              " Text(0.7596153846153846, 0.32142857142857145, 'x[0] <= 4.5\\ngini = 0.5\\nsamples = 2\\nvalue = [1, 1]'),\n",
              " Text(0.75, 0.25, 'gini = 0.0\\nsamples = 1\\nvalue = [1, 0]'),\n",
              " Text(0.7692307692307693, 0.25, 'gini = 0.0\\nsamples = 1\\nvalue = [0, 1]'),\n",
              " Text(0.7403846153846154, 0.5357142857142857, 'gini = 0.0\\nsamples = 5\\nvalue = [0, 5]'),\n",
              " Text(0.8413461538461539, 0.6071428571428571, 'x[4] <= 333.5\\ngini = 0.239\\nsamples = 36\\nvalue = [5, 31]'),\n",
              " Text(0.8173076923076923, 0.5357142857142857, 'x[0] <= 0.5\\ngini = 0.165\\nsamples = 33\\nvalue = [3, 30]'),\n",
              " Text(0.7980769230769231, 0.4642857142857143, 'x[5] <= 41.8\\ngini = 0.48\\nsamples = 5\\nvalue = [2, 3]'),\n",
              " Text(0.7884615384615384, 0.39285714285714285, 'x[2] <= 85.0\\ngini = 0.444\\nsamples = 3\\nvalue = [2, 1]'),\n",
              " Text(0.7788461538461539, 0.32142857142857145, 'gini = 0.0\\nsamples = 2\\nvalue = [2, 0]'),\n",
              " Text(0.7980769230769231, 0.32142857142857145, 'gini = 0.0\\nsamples = 1\\nvalue = [0, 1]'),\n",
              " Text(0.8076923076923077, 0.39285714285714285, 'gini = 0.0\\nsamples = 2\\nvalue = [0, 2]'),\n",
              " Text(0.8365384615384616, 0.4642857142857143, 'x[5] <= 40.05\\ngini = 0.069\\nsamples = 28\\nvalue = [1, 27]'),\n",
              " Text(0.8269230769230769, 0.39285714285714285, 'gini = 0.0\\nsamples = 22\\nvalue = [0, 22]'),\n",
              " Text(0.8461538461538461, 0.39285714285714285, 'x[5] <= 40.7\\ngini = 0.278\\nsamples = 6\\nvalue = [1, 5]'),\n",
              " Text(0.8365384615384616, 0.32142857142857145, 'gini = 0.0\\nsamples = 1\\nvalue = [1, 0]'),\n",
              " Text(0.8557692307692307, 0.32142857142857145, 'gini = 0.0\\nsamples = 5\\nvalue = [0, 5]'),\n",
              " Text(0.8653846153846154, 0.5357142857142857, 'x[6] <= 0.581\\ngini = 0.444\\nsamples = 3\\nvalue = [2, 1]'),\n",
              " Text(0.8557692307692307, 0.4642857142857143, 'gini = 0.0\\nsamples = 1\\nvalue = [0, 1]'),\n",
              " Text(0.875, 0.4642857142857143, 'gini = 0.0\\nsamples = 2\\nvalue = [2, 0]'),\n",
              " Text(0.9567307692307693, 0.75, 'x[4] <= 595.0\\ngini = 0.219\\nsamples = 72\\nvalue = [9, 63]'),\n",
              " Text(0.9326923076923077, 0.6785714285714286, 'x[6] <= 0.307\\ngini = 0.182\\nsamples = 69\\nvalue = [7, 62]'),\n",
              " Text(0.9134615384615384, 0.6071428571428571, 'x[6] <= 0.288\\ngini = 0.401\\nsamples = 18\\nvalue = [5, 13]'),\n",
              " Text(0.9038461538461539, 0.5357142857142857, 'x[1] <= 179.5\\ngini = 0.305\\nsamples = 16\\nvalue = [3, 13]'),\n",
              " Text(0.8942307692307693, 0.4642857142857143, 'x[1] <= 177.0\\ngini = 0.42\\nsamples = 10\\nvalue = [3, 7]'),\n",
              " Text(0.8846153846153846, 0.39285714285714285, 'x[5] <= 45.1\\ngini = 0.219\\nsamples = 8\\nvalue = [1, 7]'),\n",
              " Text(0.875, 0.32142857142857145, 'gini = 0.0\\nsamples = 7\\nvalue = [0, 7]'),\n",
              " Text(0.8942307692307693, 0.32142857142857145, 'gini = 0.0\\nsamples = 1\\nvalue = [1, 0]'),\n",
              " Text(0.9038461538461539, 0.39285714285714285, 'gini = 0.0\\nsamples = 2\\nvalue = [2, 0]'),\n",
              " Text(0.9134615384615384, 0.4642857142857143, 'gini = 0.0\\nsamples = 6\\nvalue = [0, 6]'),\n",
              " Text(0.9230769230769231, 0.5357142857142857, 'gini = 0.0\\nsamples = 2\\nvalue = [2, 0]'),\n",
              " Text(0.9519230769230769, 0.6071428571428571, 'x[7] <= 48.0\\ngini = 0.075\\nsamples = 51\\nvalue = [2, 49]'),\n",
              " Text(0.9423076923076923, 0.5357142857142857, 'gini = 0.0\\nsamples = 42\\nvalue = [0, 42]'),\n",
              " Text(0.9615384615384616, 0.5357142857142857, 'x[7] <= 50.5\\ngini = 0.346\\nsamples = 9\\nvalue = [2, 7]'),\n",
              " Text(0.9519230769230769, 0.4642857142857143, 'gini = 0.0\\nsamples = 1\\nvalue = [1, 0]'),\n",
              " Text(0.9711538461538461, 0.4642857142857143, 'x[5] <= 45.95\\ngini = 0.219\\nsamples = 8\\nvalue = [1, 7]'),\n",
              " Text(0.9615384615384616, 0.39285714285714285, 'gini = 0.0\\nsamples = 7\\nvalue = [0, 7]'),\n",
              " Text(0.9807692307692307, 0.39285714285714285, 'gini = 0.0\\nsamples = 1\\nvalue = [1, 0]'),\n",
              " Text(0.9807692307692307, 0.6785714285714286, 'x[7] <= 45.0\\ngini = 0.444\\nsamples = 3\\nvalue = [2, 1]'),\n",
              " Text(0.9711538461538461, 0.6071428571428571, 'gini = 0.0\\nsamples = 2\\nvalue = [2, 0]'),\n",
              " Text(0.9903846153846154, 0.6071428571428571, 'gini = 0.0\\nsamples = 1\\nvalue = [0, 1]')]"
            ]
          },
          "execution_count": 93,
          "metadata": {},
          "output_type": "execute_result"
        },
        {
          "data": {
            "image/png": "[encoded data removed]",
            "text/plain": [
              "<Figure size 640x480 with 1 Axes>"
            ]
          },
          "metadata": {},
          "output_type": "display_data"
        }
      ],
      "source": [
        "tree.plot_tree(model_gini1)"
      ]
    },
    {
      "cell_type": "code",
      "execution_count": 94,
      "metadata": {
        "colab": {
          "base_uri": "https://localhost:8080/"
        },
        "id": "liPX3ymggfAV",
        "outputId": "4ee5f87c-e14d-4558-9983-82ce10755d9e"
      },
      "outputs": [
        {
          "name": "stdout",
          "output_type": "stream",
          "text": [
            "Accuracy Score :  0.8051948051948052\n"
          ]
        }
      ],
      "source": [
        "y_pred2 = model_gini1.predict(X_test)\n",
        "print(\"Accuracy Score : \", metrics.accuracy_score(Y_test, y_pred2))"
      ]
    },
    {
      "attachments": {},
      "cell_type": "markdown",
      "metadata": {
        "id": "RFA8St7Nh8g-"
      },
      "source": [
        "Trying with Entropy now:"
      ]
    },
    {
      "cell_type": "code",
      "execution_count": 79,
      "metadata": {
        "id": "Gh0_FyRchC1w"
      },
      "outputs": [],
      "source": [
        "model_entropy = DecisionTreeClassifier(criterion = \"entropy\", random_state = 100, max_depth = None, min_samples_leaf = 1)"
      ]
    },
    {
      "cell_type": "code",
      "execution_count": 80,
      "metadata": {
        "colab": {
          "base_uri": "https://localhost:8080/",
          "height": 74
        },
        "id": "XhPMdVsuiBTO",
        "outputId": "a7959f09-e67b-47c5-a46e-4c072401301b"
      },
      "outputs": [
        {
          "data": {
            "text/html": [
              "<style>#sk-container-id-12 {color: black;background-color: white;}#sk-container-id-12 pre{padding: 0;}#sk-container-id-12 div.sk-toggleable {background-color: white;}#sk-container-id-12 label.sk-toggleable__label {cursor: pointer;display: block;width: 100%;margin-bottom: 0;padding: 0.3em;box-sizing: border-box;text-align: center;}#sk-container-id-12 label.sk-toggleable__label-arrow:before {content: \"▸\";float: left;margin-right: 0.25em;color: #696969;}#sk-container-id-12 label.sk-toggleable__label-arrow:hover:before {color: black;}#sk-container-id-12 div.sk-estimator:hover label.sk-toggleable__label-arrow:before {color: black;}#sk-container-id-12 div.sk-toggleable__content {max-height: 0;max-width: 0;overflow: hidden;text-align: left;background-color: #f0f8ff;}#sk-container-id-12 div.sk-toggleable__content pre {margin: 0.2em;color: black;border-radius: 0.25em;background-color: #f0f8ff;}#sk-container-id-12 input.sk-toggleable__control:checked~div.sk-toggleable__content {max-height: 200px;max-width: 100%;overflow: auto;}#sk-container-id-12 input.sk-toggleable__control:checked~label.sk-toggleable__label-arrow:before {content: \"▾\";}#sk-container-id-12 div.sk-estimator input.sk-toggleable__control:checked~label.sk-toggleable__label {background-color: #d4ebff;}#sk-container-id-12 div.sk-label input.sk-toggleable__control:checked~label.sk-toggleable__label {background-color: #d4ebff;}#sk-container-id-12 input.sk-hidden--visually {border: 0;clip: rect(1px 1px 1px 1px);clip: rect(1px, 1px, 1px, 1px);height: 1px;margin: -1px;overflow: hidden;padding: 0;position: absolute;width: 1px;}#sk-container-id-12 div.sk-estimator {font-family: monospace;background-color: #f0f8ff;border: 1px dotted black;border-radius: 0.25em;box-sizing: border-box;margin-bottom: 0.5em;}#sk-container-id-12 div.sk-estimator:hover {background-color: #d4ebff;}#sk-container-id-12 div.sk-parallel-item::after {content: \"\";width: 100%;border-bottom: 1px solid gray;flex-grow: 1;}#sk-container-id-12 div.sk-label:hover label.sk-toggleable__label {background-color: #d4ebff;}#sk-container-id-12 div.sk-serial::before {content: \"\";position: absolute;border-left: 1px solid gray;box-sizing: border-box;top: 0;bottom: 0;left: 50%;z-index: 0;}#sk-container-id-12 div.sk-serial {display: flex;flex-direction: column;align-items: center;background-color: white;padding-right: 0.2em;padding-left: 0.2em;position: relative;}#sk-container-id-12 div.sk-item {position: relative;z-index: 1;}#sk-container-id-12 div.sk-parallel {display: flex;align-items: stretch;justify-content: center;background-color: white;position: relative;}#sk-container-id-12 div.sk-item::before, #sk-container-id-12 div.sk-parallel-item::before {content: \"\";position: absolute;border-left: 1px solid gray;box-sizing: border-box;top: 0;bottom: 0;left: 50%;z-index: -1;}#sk-container-id-12 div.sk-parallel-item {display: flex;flex-direction: column;z-index: 1;position: relative;background-color: white;}#sk-container-id-12 div.sk-parallel-item:first-child::after {align-self: flex-end;width: 50%;}#sk-container-id-12 div.sk-parallel-item:last-child::after {align-self: flex-start;width: 50%;}#sk-container-id-12 div.sk-parallel-item:only-child::after {width: 0;}#sk-container-id-12 div.sk-dashed-wrapped {border: 1px dashed gray;margin: 0 0.4em 0.5em 0.4em;box-sizing: border-box;padding-bottom: 0.4em;background-color: white;}#sk-container-id-12 div.sk-label label {font-family: monospace;font-weight: bold;display: inline-block;line-height: 1.2em;}#sk-container-id-12 div.sk-label-container {text-align: center;}#sk-container-id-12 div.sk-container {/* jupyter's `normalize.less` sets `[hidden] { display: none; }` but bootstrap.min.css set `[hidden] { display: none !important; }` so we also need the `!important` here to be able to override the default hidden behavior on the sphinx rendered scikit-learn.org. See: https://github.com/scikit-learn/scikit-learn/issues/21755 */display: inline-block !important;position: relative;}#sk-container-id-12 div.sk-text-repr-fallback {display: none;}</style><div id=\"sk-container-id-12\" class=\"sk-top-container\"><div class=\"sk-text-repr-fallback\"><pre>DecisionTreeClassifier(criterion=&#x27;entropy&#x27;, random_state=100)</pre><b>In a Jupyter environment, please rerun this cell to show the HTML representation or trust the notebook. <br />On GitHub, the HTML representation is unable to render, please try loading this page with nbviewer.org.</b></div><div class=\"sk-container\" hidden><div class=\"sk-item\"><div class=\"sk-estimator sk-toggleable\"><input class=\"sk-toggleable__control sk-hidden--visually\" id=\"sk-estimator-id-12\" type=\"checkbox\" checked><label for=\"sk-estimator-id-12\" class=\"sk-toggleable__label sk-toggleable__label-arrow\">DecisionTreeClassifier</label><div class=\"sk-toggleable__content\"><pre>DecisionTreeClassifier(criterion=&#x27;entropy&#x27;, random_state=100)</pre></div></div></div></div></div>"
            ],
            "text/plain": [
              "DecisionTreeClassifier(criterion='entropy', random_state=100)"
            ]
          },
          "execution_count": 80,
          "metadata": {},
          "output_type": "execute_result"
        }
      ],
      "source": [
        "model_entropy.fit(X_train, Y_train)"
      ]
    },
    {
      "cell_type": "code",
      "execution_count": 81,
      "metadata": {
        "colab": {
          "base_uri": "https://localhost:8080/",
          "height": 1000
        },
        "id": "w2uerj-qiFxv",
        "outputId": "c1be2b74-e1e2-4644-a868-ed79e82b9dd7"
      },
      "outputs": [
        {
          "data": {
            "text/plain": [
              "[Text(0.413422131147541, 0.9736842105263158, 'x[1] <= 123.5\\nentropy = 0.943\\nsamples = 614\\nvalue = [393, 221]'),\n",
              " Text(0.11031420765027322, 0.9210526315789473, 'x[5] <= 26.45\\nentropy = 0.69\\nsamples = 352\\nvalue = [287, 65]'),\n",
              " Text(0.02185792349726776, 0.868421052631579, 'x[6] <= 0.675\\nentropy = 0.083\\nsamples = 97\\nvalue = [96, 1]'),\n",
              " Text(0.01092896174863388, 0.8157894736842105, 'entropy = 0.0\\nsamples = 79\\nvalue = [79, 0]'),\n",
              " Text(0.03278688524590164, 0.8157894736842105, 'x[6] <= 0.705\\nentropy = 0.31\\nsamples = 18\\nvalue = [17, 1]'),\n",
              " Text(0.02185792349726776, 0.7631578947368421, 'entropy = 0.0\\nsamples = 1\\nvalue = [0, 1]'),\n",
              " Text(0.04371584699453552, 0.7631578947368421, 'entropy = 0.0\\nsamples = 17\\nvalue = [17, 0]'),\n",
              " Text(0.1987704918032787, 0.868421052631579, 'x[7] <= 28.5\\nentropy = 0.813\\nsamples = 255\\nvalue = [191, 64]'),\n",
              " Text(0.09836065573770492, 0.8157894736842105, 'x[5] <= 30.95\\nentropy = 0.549\\nsamples = 134\\nvalue = [117, 17]'),\n",
              " Text(0.06557377049180328, 0.7631578947368421, 'x[0] <= 7.0\\nentropy = 0.162\\nsamples = 42\\nvalue = [41, 1]'),\n",
              " Text(0.0546448087431694, 0.7105263157894737, 'entropy = 0.0\\nsamples = 41\\nvalue = [41, 0]'),\n",
              " Text(0.07650273224043716, 0.7105263157894737, 'entropy = 0.0\\nsamples = 1\\nvalue = [0, 1]'),\n",
              " Text(0.13114754098360656, 0.7631578947368421, 'x[2] <= 53.0\\nentropy = 0.667\\nsamples = 92\\nvalue = [76, 16]'),\n",
              " Text(0.09836065573770492, 0.7105263157894737, 'x[6] <= 0.508\\nentropy = 0.918\\nsamples = 6\\nvalue = [2, 4]'),\n",
              " Text(0.08743169398907104, 0.6578947368421053, 'entropy = 0.0\\nsamples = 4\\nvalue = [0, 4]'),\n",
              " Text(0.1092896174863388, 0.6578947368421053, 'entropy = 0.0\\nsamples = 2\\nvalue = [2, 0]'),\n",
              " Text(0.16393442622950818, 0.7105263157894737, 'x[6] <= 0.501\\nentropy = 0.583\\nsamples = 86\\nvalue = [74, 12]'),\n",
              " Text(0.13114754098360656, 0.6578947368421053, 'x[2] <= 73.0\\nentropy = 0.376\\nsamples = 55\\nvalue = [51, 4]'),\n",
              " Text(0.12021857923497267, 0.6052631578947368, 'entropy = 0.0\\nsamples = 30\\nvalue = [30, 0]'),\n",
              " Text(0.14207650273224043, 0.6052631578947368, 'x[5] <= 45.35\\nentropy = 0.634\\nsamples = 25\\nvalue = [21, 4]'),\n",
              " Text(0.13114754098360656, 0.5526315789473685, 'x[4] <= 36.5\\nentropy = 0.544\\nsamples = 24\\nvalue = [21, 3]'),\n",
              " Text(0.12021857923497267, 0.5, 'x[1] <= 91.0\\nentropy = 0.918\\nsamples = 9\\nvalue = [6, 3]'),\n",
              " Text(0.1092896174863388, 0.4473684210526316, 'entropy = 0.0\\nsamples = 3\\nvalue = [3, 0]'),\n",
              " Text(0.13114754098360656, 0.4473684210526316, 'x[7] <= 25.5\\nentropy = 1.0\\nsamples = 6\\nvalue = [3, 3]'),\n",
              " Text(0.12021857923497267, 0.39473684210526316, 'x[6] <= 0.172\\nentropy = 0.811\\nsamples = 4\\nvalue = [1, 3]'),\n",
              " Text(0.1092896174863388, 0.34210526315789475, 'entropy = 0.0\\nsamples = 1\\nvalue = [1, 0]'),\n",
              " Text(0.13114754098360656, 0.34210526315789475, 'entropy = 0.0\\nsamples = 3\\nvalue = [0, 3]'),\n",
              " Text(0.14207650273224043, 0.39473684210526316, 'entropy = 0.0\\nsamples = 2\\nvalue = [2, 0]'),\n",
              " Text(0.14207650273224043, 0.5, 'entropy = 0.0\\nsamples = 15\\nvalue = [15, 0]'),\n",
              " Text(0.15300546448087432, 0.5526315789473685, 'entropy = 0.0\\nsamples = 1\\nvalue = [0, 1]'),\n",
              " Text(0.19672131147540983, 0.6578947368421053, 'x[5] <= 38.65\\nentropy = 0.824\\nsamples = 31\\nvalue = [23, 8]'),\n",
              " Text(0.18579234972677597, 0.6052631578947368, 'x[5] <= 32.7\\nentropy = 0.946\\nsamples = 22\\nvalue = [14, 8]'),\n",
              " Text(0.17486338797814208, 0.5526315789473685, 'entropy = 0.0\\nsamples = 7\\nvalue = [7, 0]'),\n",
              " Text(0.19672131147540983, 0.5526315789473685, 'x[1] <= 88.5\\nentropy = 0.997\\nsamples = 15\\nvalue = [7, 8]'),\n",
              " Text(0.17486338797814208, 0.5, 'x[2] <= 73.5\\nentropy = 0.722\\nsamples = 5\\nvalue = [4, 1]'),\n",
              " Text(0.16393442622950818, 0.4473684210526316, 'entropy = 0.0\\nsamples = 4\\nvalue = [4, 0]'),\n",
              " Text(0.18579234972677597, 0.4473684210526316, 'entropy = 0.0\\nsamples = 1\\nvalue = [0, 1]'),\n",
              " Text(0.2185792349726776, 0.5, 'x[2] <= 70.0\\nentropy = 0.881\\nsamples = 10\\nvalue = [3, 7]'),\n",
              " Text(0.20765027322404372, 0.4473684210526316, 'x[4] <= 95.0\\nentropy = 0.544\\nsamples = 8\\nvalue = [1, 7]'),\n",
              " Text(0.19672131147540983, 0.39473684210526316, 'entropy = 0.0\\nsamples = 5\\nvalue = [0, 5]'),\n",
              " Text(0.2185792349726776, 0.39473684210526316, 'x[0] <= 1.0\\nentropy = 0.918\\nsamples = 3\\nvalue = [1, 2]'),\n",
              " Text(0.20765027322404372, 0.34210526315789475, 'entropy = 0.0\\nsamples = 1\\nvalue = [1, 0]'),\n",
              " Text(0.22950819672131148, 0.34210526315789475, 'entropy = 0.0\\nsamples = 2\\nvalue = [0, 2]'),\n",
              " Text(0.22950819672131148, 0.4473684210526316, 'entropy = 0.0\\nsamples = 2\\nvalue = [2, 0]'),\n",
              " Text(0.20765027322404372, 0.6052631578947368, 'entropy = 0.0\\nsamples = 9\\nvalue = [9, 0]'),\n",
              " Text(0.29918032786885246, 0.8157894736842105, 'x[5] <= 27.55\\nentropy = 0.964\\nsamples = 121\\nvalue = [74, 47]'),\n",
              " Text(0.28825136612021857, 0.7631578947368421, 'entropy = 0.0\\nsamples = 5\\nvalue = [0, 5]'),\n",
              " Text(0.31010928961748635, 0.7631578947368421, 'x[6] <= 0.159\\nentropy = 0.944\\nsamples = 116\\nvalue = [74, 42]'),\n",
              " Text(0.29918032786885246, 0.7105263157894737, 'entropy = 0.0\\nsamples = 10\\nvalue = [10, 0]'),\n",
              " Text(0.32103825136612024, 0.7105263157894737, 'x[1] <= 91.5\\nentropy = 0.969\\nsamples = 106\\nvalue = [64, 42]'),\n",
              " Text(0.26229508196721313, 0.6578947368421053, 'x[1] <= 33.5\\nentropy = 0.691\\nsamples = 27\\nvalue = [22, 5]'),\n",
              " Text(0.25136612021857924, 0.6052631578947368, 'entropy = 0.0\\nsamples = 2\\nvalue = [0, 2]'),\n",
              " Text(0.273224043715847, 0.6052631578947368, 'x[6] <= 0.796\\nentropy = 0.529\\nsamples = 25\\nvalue = [22, 3]'),\n",
              " Text(0.25136612021857924, 0.5526315789473685, 'x[0] <= 11.5\\nentropy = 0.276\\nsamples = 21\\nvalue = [20, 1]'),\n",
              " Text(0.24043715846994534, 0.5, 'entropy = 0.0\\nsamples = 18\\nvalue = [18, 0]'),\n",
              " Text(0.26229508196721313, 0.5, 'x[5] <= 31.25\\nentropy = 0.918\\nsamples = 3\\nvalue = [2, 1]'),\n",
              " Text(0.25136612021857924, 0.4473684210526316, 'entropy = 0.0\\nsamples = 1\\nvalue = [0, 1]'),\n",
              " Text(0.273224043715847, 0.4473684210526316, 'entropy = 0.0\\nsamples = 2\\nvalue = [2, 0]'),\n",
              " Text(0.29508196721311475, 0.5526315789473685, 'x[4] <= 28.5\\nentropy = 1.0\\nsamples = 4\\nvalue = [2, 2]'),\n",
              " Text(0.28415300546448086, 0.5, 'entropy = 0.0\\nsamples = 2\\nvalue = [0, 2]'),\n",
              " Text(0.30601092896174864, 0.5, 'entropy = 0.0\\nsamples = 2\\nvalue = [2, 0]'),\n",
              " Text(0.3797814207650273, 0.6578947368421053, 'x[2] <= 67.0\\nentropy = 0.997\\nsamples = 79\\nvalue = [42, 37]'),\n",
              " Text(0.32786885245901637, 0.6052631578947368, 'x[6] <= 0.405\\nentropy = 0.918\\nsamples = 18\\nvalue = [6, 12]'),\n",
              " Text(0.31693989071038253, 0.5526315789473685, 'entropy = 0.0\\nsamples = 8\\nvalue = [0, 8]'),\n",
              " Text(0.33879781420765026, 0.5526315789473685, 'x[0] <= 6.5\\nentropy = 0.971\\nsamples = 10\\nvalue = [6, 4]'),\n",
              " Text(0.32786885245901637, 0.5, 'x[5] <= 34.55\\nentropy = 0.592\\nsamples = 7\\nvalue = [6, 1]'),\n",
              " Text(0.31693989071038253, 0.4473684210526316, 'entropy = 0.0\\nsamples = 6\\nvalue = [6, 0]'),\n",
              " Text(0.33879781420765026, 0.4473684210526316, 'entropy = 0.0\\nsamples = 1\\nvalue = [0, 1]'),\n",
              " Text(0.34972677595628415, 0.5, 'entropy = 0.0\\nsamples = 3\\nvalue = [0, 3]'),\n",
              " Text(0.43169398907103823, 0.6052631578947368, 'x[1] <= 119.5\\nentropy = 0.976\\nsamples = 61\\nvalue = [36, 25]'),\n",
              " Text(0.39344262295081966, 0.5526315789473685, 'x[4] <= 112.0\\nentropy = 1.0\\nsamples = 47\\nvalue = [24, 23]'),\n",
              " Text(0.37158469945355194, 0.5, 'x[6] <= 1.074\\nentropy = 0.968\\nsamples = 38\\nvalue = [23, 15]'),\n",
              " Text(0.36065573770491804, 0.4473684210526316, 'x[4] <= 100.5\\nentropy = 0.928\\nsamples = 35\\nvalue = [23, 12]'),\n",
              " Text(0.34972677595628415, 0.39473684210526316, 'x[1] <= 96.5\\nentropy = 0.963\\nsamples = 31\\nvalue = [19, 12]'),\n",
              " Text(0.33879781420765026, 0.34210526315789475, 'entropy = 0.0\\nsamples = 4\\nvalue = [4, 0]'),\n",
              " Text(0.36065573770491804, 0.34210526315789475, 'x[5] <= 43.0\\nentropy = 0.991\\nsamples = 27\\nvalue = [15, 12]'),\n",
              " Text(0.34972677595628415, 0.2894736842105263, 'x[2] <= 89.0\\nentropy = 0.971\\nsamples = 25\\nvalue = [15, 10]'),\n",
              " Text(0.33879781420765026, 0.23684210526315788, 'x[0] <= 3.0\\nentropy = 1.0\\nsamples = 20\\nvalue = [10, 10]'),\n",
              " Text(0.32786885245901637, 0.18421052631578946, 'entropy = 0.0\\nsamples = 4\\nvalue = [0, 4]'),\n",
              " Text(0.34972677595628415, 0.18421052631578946, 'x[5] <= 35.8\\nentropy = 0.954\\nsamples = 16\\nvalue = [10, 6]'),\n",
              " Text(0.33879781420765026, 0.13157894736842105, 'x[7] <= 47.0\\nentropy = 0.994\\nsamples = 11\\nvalue = [5, 6]'),\n",
              " Text(0.31693989071038253, 0.07894736842105263, 'x[1] <= 100.5\\nentropy = 0.65\\nsamples = 6\\nvalue = [1, 5]'),\n",
              " Text(0.30601092896174864, 0.02631578947368421, 'entropy = 0.0\\nsamples = 1\\nvalue = [1, 0]'),\n",
              " Text(0.32786885245901637, 0.02631578947368421, 'entropy = 0.0\\nsamples = 5\\nvalue = [0, 5]'),\n",
              " Text(0.36065573770491804, 0.07894736842105263, 'x[0] <= 5.5\\nentropy = 0.722\\nsamples = 5\\nvalue = [4, 1]'),\n",
              " Text(0.34972677595628415, 0.02631578947368421, 'entropy = 0.0\\nsamples = 1\\nvalue = [0, 1]'),\n",
              " Text(0.37158469945355194, 0.02631578947368421, 'entropy = 0.0\\nsamples = 4\\nvalue = [4, 0]'),\n",
              " Text(0.36065573770491804, 0.13157894736842105, 'entropy = 0.0\\nsamples = 5\\nvalue = [5, 0]'),\n",
              " Text(0.36065573770491804, 0.23684210526315788, 'entropy = 0.0\\nsamples = 5\\nvalue = [5, 0]'),\n",
              " Text(0.37158469945355194, 0.2894736842105263, 'entropy = 0.0\\nsamples = 2\\nvalue = [0, 2]'),\n",
              " Text(0.37158469945355194, 0.39473684210526316, 'entropy = 0.0\\nsamples = 4\\nvalue = [4, 0]'),\n",
              " Text(0.3825136612021858, 0.4473684210526316, 'entropy = 0.0\\nsamples = 3\\nvalue = [0, 3]'),\n",
              " Text(0.41530054644808745, 0.5, 'x[3] <= 47.5\\nentropy = 0.503\\nsamples = 9\\nvalue = [1, 8]'),\n",
              " Text(0.40437158469945356, 0.4473684210526316, 'entropy = 0.0\\nsamples = 8\\nvalue = [0, 8]'),\n",
              " Text(0.4262295081967213, 0.4473684210526316, 'entropy = 0.0\\nsamples = 1\\nvalue = [1, 0]'),\n",
              " Text(0.46994535519125685, 0.5526315789473685, 'x[0] <= 1.5\\nentropy = 0.592\\nsamples = 14\\nvalue = [12, 2]'),\n",
              " Text(0.45901639344262296, 0.5, 'x[3] <= 18.5\\nentropy = 1.0\\nsamples = 4\\nvalue = [2, 2]'),\n",
              " Text(0.44808743169398907, 0.4473684210526316, 'entropy = 0.0\\nsamples = 1\\nvalue = [0, 1]'),\n",
              " Text(0.46994535519125685, 0.4473684210526316, 'x[4] <= 210.0\\nentropy = 0.918\\nsamples = 3\\nvalue = [2, 1]'),\n",
              " Text(0.45901639344262296, 0.39473684210526316, 'entropy = 0.0\\nsamples = 2\\nvalue = [2, 0]'),\n",
              " Text(0.4808743169398907, 0.39473684210526316, 'entropy = 0.0\\nsamples = 1\\nvalue = [0, 1]'),\n",
              " Text(0.4808743169398907, 0.5, 'entropy = 0.0\\nsamples = 10\\nvalue = [10, 0]'),\n",
              " Text(0.7165300546448088, 0.9210526315789473, 'x[5] <= 30.05\\nentropy = 0.974\\nsamples = 262\\nvalue = [106, 156]'),\n",
              " Text(0.5846994535519126, 0.868421052631579, 'x[7] <= 26.0\\nentropy = 0.909\\nsamples = 74\\nvalue = [50, 24]'),\n",
              " Text(0.5737704918032787, 0.8157894736842105, 'entropy = 0.0\\nsamples = 19\\nvalue = [19, 0]'),\n",
              " Text(0.5956284153005464, 0.8157894736842105, 'x[7] <= 60.5\\nentropy = 0.988\\nsamples = 55\\nvalue = [31, 24]'),\n",
              " Text(0.5846994535519126, 0.7631578947368421, 'x[1] <= 151.5\\nentropy = 1.0\\nsamples = 47\\nvalue = [23, 24]'),\n",
              " Text(0.5573770491803278, 0.7105263157894737, 'x[5] <= 29.55\\nentropy = 0.954\\nsamples = 32\\nvalue = [20, 12]'),\n",
              " Text(0.546448087431694, 0.6578947368421053, 'x[5] <= 27.35\\nentropy = 0.996\\nsamples = 26\\nvalue = [14, 12]'),\n",
              " Text(0.5245901639344263, 0.6052631578947368, 'x[2] <= 93.0\\nentropy = 0.65\\nsamples = 12\\nvalue = [10, 2]'),\n",
              " Text(0.5136612021857924, 0.5526315789473685, 'x[7] <= 59.5\\nentropy = 0.439\\nsamples = 11\\nvalue = [10, 1]'),\n",
              " Text(0.5027322404371585, 0.5, 'entropy = 0.0\\nsamples = 9\\nvalue = [9, 0]'),\n",
              " Text(0.5245901639344263, 0.5, 'x[4] <= 163.0\\nentropy = 1.0\\nsamples = 2\\nvalue = [1, 1]'),\n",
              " Text(0.5136612021857924, 0.4473684210526316, 'entropy = 0.0\\nsamples = 1\\nvalue = [0, 1]'),\n",
              " Text(0.5355191256830601, 0.4473684210526316, 'entropy = 0.0\\nsamples = 1\\nvalue = [1, 0]'),\n",
              " Text(0.5355191256830601, 0.5526315789473685, 'entropy = 0.0\\nsamples = 1\\nvalue = [0, 1]'),\n",
              " Text(0.5683060109289617, 0.6052631578947368, 'x[0] <= 3.5\\nentropy = 0.863\\nsamples = 14\\nvalue = [4, 10]'),\n",
              " Text(0.5573770491803278, 0.5526315789473685, 'entropy = 0.0\\nsamples = 5\\nvalue = [0, 5]'),\n",
              " Text(0.5792349726775956, 0.5526315789473685, 'x[7] <= 42.5\\nentropy = 0.991\\nsamples = 9\\nvalue = [4, 5]'),\n",
              " Text(0.5683060109289617, 0.5, 'x[0] <= 5.0\\nentropy = 0.722\\nsamples = 5\\nvalue = [4, 1]'),\n",
              " Text(0.5573770491803278, 0.4473684210526316, 'entropy = 0.0\\nsamples = 4\\nvalue = [4, 0]'),\n",
              " Text(0.5792349726775956, 0.4473684210526316, 'entropy = 0.0\\nsamples = 1\\nvalue = [0, 1]'),\n",
              " Text(0.5901639344262295, 0.5, 'entropy = 0.0\\nsamples = 4\\nvalue = [0, 4]'),\n",
              " Text(0.5683060109289617, 0.6578947368421053, 'entropy = 0.0\\nsamples = 6\\nvalue = [6, 0]'),\n",
              " Text(0.6120218579234973, 0.7105263157894737, 'x[5] <= 27.1\\nentropy = 0.722\\nsamples = 15\\nvalue = [3, 12]'),\n",
              " Text(0.6010928961748634, 0.6578947368421053, 'entropy = 0.0\\nsamples = 8\\nvalue = [0, 8]'),\n",
              " Text(0.6229508196721312, 0.6578947368421053, 'x[5] <= 29.1\\nentropy = 0.985\\nsamples = 7\\nvalue = [3, 4]'),\n",
              " Text(0.6120218579234973, 0.6052631578947368, 'x[2] <= 32.0\\nentropy = 0.811\\nsamples = 4\\nvalue = [3, 1]'),\n",
              " Text(0.6010928961748634, 0.5526315789473685, 'entropy = 0.0\\nsamples = 1\\nvalue = [0, 1]'),\n",
              " Text(0.6229508196721312, 0.5526315789473685, 'entropy = 0.0\\nsamples = 3\\nvalue = [3, 0]'),\n",
              " Text(0.6338797814207651, 0.6052631578947368, 'entropy = 0.0\\nsamples = 3\\nvalue = [0, 3]'),\n",
              " Text(0.6065573770491803, 0.7631578947368421, 'entropy = 0.0\\nsamples = 8\\nvalue = [8, 0]'),\n",
              " Text(0.8483606557377049, 0.868421052631579, 'x[1] <= 157.5\\nentropy = 0.879\\nsamples = 188\\nvalue = [56, 132]'),\n",
              " Text(0.7459016393442623, 0.8157894736842105, 'x[5] <= 46.15\\nentropy = 0.974\\nsamples = 116\\nvalue = [47, 69]'),\n",
              " Text(0.7349726775956285, 0.7631578947368421, 'x[6] <= 0.331\\nentropy = 0.986\\nsamples = 109\\nvalue = [47, 62]'),\n",
              " Text(0.6775956284153005, 0.7105263157894737, 'x[6] <= 0.302\\nentropy = 0.968\\nsamples = 43\\nvalue = [26, 17]'),\n",
              " Text(0.6666666666666666, 0.6578947368421053, 'x[2] <= 23.0\\nentropy = 0.992\\nsamples = 38\\nvalue = [21, 17]'),\n",
              " Text(0.6557377049180327, 0.6052631578947368, 'entropy = 0.0\\nsamples = 3\\nvalue = [0, 3]'),\n",
              " Text(0.6775956284153005, 0.6052631578947368, 'x[4] <= 460.0\\nentropy = 0.971\\nsamples = 35\\nvalue = [21, 14]'),\n",
              " Text(0.6666666666666666, 0.5526315789473685, 'x[7] <= 34.5\\nentropy = 0.946\\nsamples = 33\\nvalue = [21, 12]'),\n",
              " Text(0.6284153005464481, 0.5, 'x[5] <= 31.25\\nentropy = 0.619\\nsamples = 13\\nvalue = [11, 2]'),\n",
              " Text(0.6174863387978142, 0.4473684210526316, 'entropy = 0.0\\nsamples = 1\\nvalue = [0, 1]'),\n",
              " Text(0.639344262295082, 0.4473684210526316, 'x[3] <= 37.5\\nentropy = 0.414\\nsamples = 12\\nvalue = [11, 1]'),\n",
              " Text(0.6284153005464481, 0.39473684210526316, 'entropy = 0.0\\nsamples = 10\\nvalue = [10, 0]'),\n",
              " Text(0.6502732240437158, 0.39473684210526316, 'x[7] <= 24.0\\nentropy = 1.0\\nsamples = 2\\nvalue = [1, 1]'),\n",
              " Text(0.639344262295082, 0.34210526315789475, 'entropy = 0.0\\nsamples = 1\\nvalue = [0, 1]'),\n",
              " Text(0.6612021857923497, 0.34210526315789475, 'entropy = 0.0\\nsamples = 1\\nvalue = [1, 0]'),\n",
              " Text(0.7049180327868853, 0.5, 'x[1] <= 126.0\\nentropy = 1.0\\nsamples = 20\\nvalue = [10, 10]'),\n",
              " Text(0.6939890710382514, 0.4473684210526316, 'entropy = 0.0\\nsamples = 3\\nvalue = [0, 3]'),\n",
              " Text(0.7158469945355191, 0.4473684210526316, 'x[6] <= 0.226\\nentropy = 0.977\\nsamples = 17\\nvalue = [10, 7]'),\n",
              " Text(0.6939890710382514, 0.39473684210526316, 'x[3] <= 31.0\\nentropy = 0.592\\nsamples = 7\\nvalue = [6, 1]'),\n",
              " Text(0.6830601092896175, 0.34210526315789475, 'entropy = 0.0\\nsamples = 6\\nvalue = [6, 0]'),\n",
              " Text(0.7049180327868853, 0.34210526315789475, 'entropy = 0.0\\nsamples = 1\\nvalue = [0, 1]'),\n",
              " Text(0.7377049180327869, 0.39473684210526316, 'x[7] <= 42.0\\nentropy = 0.971\\nsamples = 10\\nvalue = [4, 6]'),\n",
              " Text(0.726775956284153, 0.34210526315789475, 'x[6] <= 0.266\\nentropy = 0.918\\nsamples = 6\\nvalue = [4, 2]'),\n",
              " Text(0.7158469945355191, 0.2894736842105263, 'entropy = 0.0\\nsamples = 3\\nvalue = [3, 0]'),\n",
              " Text(0.7377049180327869, 0.2894736842105263, 'x[0] <= 9.0\\nentropy = 0.918\\nsamples = 3\\nvalue = [1, 2]'),\n",
              " Text(0.726775956284153, 0.23684210526315788, 'entropy = 0.0\\nsamples = 2\\nvalue = [0, 2]'),\n",
              " Text(0.7486338797814208, 0.23684210526315788, 'entropy = 0.0\\nsamples = 1\\nvalue = [1, 0]'),\n",
              " Text(0.7486338797814208, 0.34210526315789475, 'entropy = 0.0\\nsamples = 4\\nvalue = [0, 4]'),\n",
              " Text(0.6885245901639344, 0.5526315789473685, 'entropy = 0.0\\nsamples = 2\\nvalue = [0, 2]'),\n",
              " Text(0.6885245901639344, 0.6578947368421053, 'entropy = 0.0\\nsamples = 5\\nvalue = [5, 0]'),\n",
              " Text(0.7923497267759563, 0.7105263157894737, 'x[7] <= 29.5\\nentropy = 0.902\\nsamples = 66\\nvalue = [21, 45]'),\n",
              " Text(0.7486338797814208, 0.6578947368421053, 'x[2] <= 73.0\\nentropy = 0.996\\nsamples = 28\\nvalue = [15, 13]'),\n",
              " Text(0.726775956284153, 0.6052631578947368, 'x[1] <= 138.5\\nentropy = 0.619\\nsamples = 13\\nvalue = [2, 11]'),\n",
              " Text(0.7158469945355191, 0.5526315789473685, 'entropy = 0.0\\nsamples = 8\\nvalue = [0, 8]'),\n",
              " Text(0.7377049180327869, 0.5526315789473685, 'x[6] <= 0.484\\nentropy = 0.971\\nsamples = 5\\nvalue = [2, 3]'),\n",
              " Text(0.726775956284153, 0.5, 'entropy = 0.0\\nsamples = 3\\nvalue = [0, 3]'),\n",
              " Text(0.7486338797814208, 0.5, 'entropy = 0.0\\nsamples = 2\\nvalue = [2, 0]'),\n",
              " Text(0.7704918032786885, 0.6052631578947368, 'x[6] <= 0.373\\nentropy = 0.567\\nsamples = 15\\nvalue = [13, 2]'),\n",
              " Text(0.7595628415300546, 0.5526315789473685, 'entropy = 0.0\\nsamples = 2\\nvalue = [0, 2]'),\n",
              " Text(0.7814207650273224, 0.5526315789473685, 'entropy = 0.0\\nsamples = 13\\nvalue = [13, 0]'),\n",
              " Text(0.8360655737704918, 0.6578947368421053, 'x[4] <= 333.5\\nentropy = 0.629\\nsamples = 38\\nvalue = [6, 32]'),\n",
              " Text(0.8142076502732241, 0.6052631578947368, 'x[4] <= 109.0\\nentropy = 0.513\\nsamples = 35\\nvalue = [4, 31]'),\n",
              " Text(0.8032786885245902, 0.5526315789473685, 'x[2] <= 74.0\\nentropy = 0.764\\nsamples = 18\\nvalue = [4, 14]'),\n",
              " Text(0.7923497267759563, 0.5, 'entropy = 0.0\\nsamples = 6\\nvalue = [0, 6]'),\n",
              " Text(0.8142076502732241, 0.5, 'x[5] <= 32.95\\nentropy = 0.918\\nsamples = 12\\nvalue = [4, 8]'),\n",
              " Text(0.8032786885245902, 0.4473684210526316, 'entropy = 0.0\\nsamples = 4\\nvalue = [0, 4]'),\n",
              " Text(0.825136612021858, 0.4473684210526316, 'x[1] <= 132.5\\nentropy = 1.0\\nsamples = 8\\nvalue = [4, 4]'),\n",
              " Text(0.8032786885245902, 0.39473684210526316, 'x[4] <= 54.0\\nentropy = 0.811\\nsamples = 4\\nvalue = [1, 3]'),\n",
              " Text(0.7923497267759563, 0.34210526315789475, 'entropy = 0.0\\nsamples = 3\\nvalue = [0, 3]'),\n",
              " Text(0.8142076502732241, 0.34210526315789475, 'entropy = 0.0\\nsamples = 1\\nvalue = [1, 0]'),\n",
              " Text(0.8469945355191257, 0.39473684210526316, 'x[7] <= 55.5\\nentropy = 0.811\\nsamples = 4\\nvalue = [3, 1]'),\n",
              " Text(0.8360655737704918, 0.34210526315789475, 'entropy = 0.0\\nsamples = 3\\nvalue = [3, 0]'),\n",
              " Text(0.8579234972677595, 0.34210526315789475, 'entropy = 0.0\\nsamples = 1\\nvalue = [0, 1]'),\n",
              " Text(0.825136612021858, 0.5526315789473685, 'entropy = 0.0\\nsamples = 17\\nvalue = [0, 17]'),\n",
              " Text(0.8579234972677595, 0.6052631578947368, 'x[2] <= 64.0\\nentropy = 0.918\\nsamples = 3\\nvalue = [2, 1]'),\n",
              " Text(0.8469945355191257, 0.5526315789473685, 'entropy = 0.0\\nsamples = 1\\nvalue = [0, 1]'),\n",
              " Text(0.8688524590163934, 0.5526315789473685, 'entropy = 0.0\\nsamples = 2\\nvalue = [2, 0]'),\n",
              " Text(0.7568306010928961, 0.7631578947368421, 'entropy = 0.0\\nsamples = 7\\nvalue = [0, 7]'),\n",
              " Text(0.9508196721311475, 0.8157894736842105, 'x[4] <= 595.0\\nentropy = 0.544\\nsamples = 72\\nvalue = [9, 63]'),\n",
              " Text(0.9234972677595629, 0.7631578947368421, 'x[6] <= 0.307\\nentropy = 0.474\\nsamples = 69\\nvalue = [7, 62]'),\n",
              " Text(0.9016393442622951, 0.7105263157894737, 'x[5] <= 31.4\\nentropy = 0.852\\nsamples = 18\\nvalue = [5, 13]'),\n",
              " Text(0.8907103825136612, 0.6578947368421053, 'entropy = 0.0\\nsamples = 2\\nvalue = [2, 0]'),\n",
              " Text(0.912568306010929, 0.6578947368421053, 'x[1] <= 179.5\\nentropy = 0.696\\nsamples = 16\\nvalue = [3, 13]'),\n",
              " Text(0.9016393442622951, 0.6052631578947368, 'x[1] <= 177.0\\nentropy = 0.881\\nsamples = 10\\nvalue = [3, 7]'),\n",
              " Text(0.8907103825136612, 0.5526315789473685, 'x[3] <= 38.0\\nentropy = 0.544\\nsamples = 8\\nvalue = [1, 7]'),\n",
              " Text(0.8797814207650273, 0.5, 'entropy = 0.0\\nsamples = 7\\nvalue = [0, 7]'),\n",
              " Text(0.9016393442622951, 0.5, 'entropy = 0.0\\nsamples = 1\\nvalue = [1, 0]'),\n",
              " Text(0.912568306010929, 0.5526315789473685, 'entropy = 0.0\\nsamples = 2\\nvalue = [2, 0]'),\n",
              " Text(0.9234972677595629, 0.6052631578947368, 'entropy = 0.0\\nsamples = 6\\nvalue = [0, 6]'),\n",
              " Text(0.9453551912568307, 0.7105263157894737, 'x[7] <= 48.0\\nentropy = 0.239\\nsamples = 51\\nvalue = [2, 49]'),\n",
              " Text(0.9344262295081968, 0.6578947368421053, 'entropy = 0.0\\nsamples = 42\\nvalue = [0, 42]'),\n",
              " Text(0.9562841530054644, 0.6578947368421053, 'x[0] <= 0.5\\nentropy = 0.764\\nsamples = 9\\nvalue = [2, 7]'),\n",
              " Text(0.9453551912568307, 0.6052631578947368, 'entropy = 0.0\\nsamples = 1\\nvalue = [1, 0]'),\n",
              " Text(0.9672131147540983, 0.6052631578947368, 'x[7] <= 50.5\\nentropy = 0.544\\nsamples = 8\\nvalue = [1, 7]'),\n",
              " Text(0.9562841530054644, 0.5526315789473685, 'entropy = 0.0\\nsamples = 1\\nvalue = [1, 0]'),\n",
              " Text(0.9781420765027322, 0.5526315789473685, 'entropy = 0.0\\nsamples = 7\\nvalue = [0, 7]'),\n",
              " Text(0.9781420765027322, 0.7631578947368421, 'x[5] <= 33.4\\nentropy = 0.918\\nsamples = 3\\nvalue = [2, 1]'),\n",
              " Text(0.9672131147540983, 0.7105263157894737, 'entropy = 0.0\\nsamples = 1\\nvalue = [0, 1]'),\n",
              " Text(0.9890710382513661, 0.7105263157894737, 'entropy = 0.0\\nsamples = 2\\nvalue = [2, 0]')]"
            ]
          },
          "execution_count": 81,
          "metadata": {},
          "output_type": "execute_result"
        },
        {
          "data": {
            "image/png": "[encoded data removed]",
            "text/plain": [
              "<Figure size 640x480 with 1 Axes>"
            ]
          },
          "metadata": {},
          "output_type": "display_data"
        }
      ],
      "source": [
        "tree.plot_tree(model_entropy)"
      ]
    },
    {
      "cell_type": "code",
      "execution_count": 67,
      "metadata": {
        "colab": {
          "base_uri": "https://localhost:8080/"
        },
        "id": "BsOaNjkxiHgX",
        "outputId": "e673b438-463e-4013-aa75-8928e30c021b"
      },
      "outputs": [
        {
          "name": "stdout",
          "output_type": "stream",
          "text": [
            "Accuracy Score :  0.7272727272727273\n"
          ]
        }
      ],
      "source": [
        "y_pred3 = model_entropy.predict(X_test)\n",
        "print(\"Accuracy Score : \", metrics.accuracy_score(Y_test, y_pred3))"
      ]
    },
    {
      "attachments": {},
      "cell_type": "markdown",
      "metadata": {
        "id": "ZWwtvc_llKgU"
      },
      "source": [
        "### Hence from the above results, we see that for this dataset, the Gini performs better due to better accuracy results."
      ]
    }
  ],
  "metadata": {
    "colab": {
      "provenance": []
    },
    "kernelspec": {
      "display_name": "Python 3",
      "name": "python3"
    },
    "language_info": {
      "name": "python"
    }
  },
  "nbformat": 4,
  "nbformat_minor": 0
}
